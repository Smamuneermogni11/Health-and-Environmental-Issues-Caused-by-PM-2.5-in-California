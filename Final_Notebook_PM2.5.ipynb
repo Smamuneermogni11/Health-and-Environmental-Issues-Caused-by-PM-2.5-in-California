{
 "cells": [
  {
   "cell_type": "markdown",
   "metadata": {},
   "source": [
    "# Health and Environmental Issues Caused by PM 2.5 in California\n",
    "\n"
   ]
  },
  {
   "cell_type": "markdown",
   "metadata": {},
   "source": [
    "## Scope / Abstract of the Project:\n",
    "\n",
    "The following notebook is designed to show how particle matter 2.5 has had an adverse effect on health-related issues. There are several factors which have contributed to the rise of particle matter 2.5 such as the growth of wildfires. Other factors include the emissions from gasoline, oil, diesel and also wood, which is why the particle matter 2.5 rates have been higher over the recent years especially in dry climates. Particle Matter 2.5 has direct health issues related to the topic as well, which is what we are attempting to prove within this notebook and analysis. Our goal is to show that there has been an increase of Asthma related attacks and an overall increase of Asthma diagnosis in the Los Angeles area as they are one of the 5 areas with the highest particle matter 2.5 rating. “For PM2.5, short-term exposures (up to 24-hours duration) have been associated with premature mortality, increased hospital admissions for heart or lung causes, acute and chronic bronchitis, asthma attacks, emergency room visits, respiratory symptoms, and restricted activity days. These adverse health effects have been reported primarily in infants, children, and older adults with preexisting heart or lung diseases. In addition, of all of the common air pollutants, PM2.5 is associated with the greatest proportion of adverse health effects related to air pollution, both in the United States and world-wide based on the World Health Organization’s” (California Air Resources Board, n.d., para. 5). Let this fact sink in there and then think about it, the World needs to change and make changes that can have a positive outlook on the development of the World and also take care of the people who have a chance to make a difference, the youth, and the population that give this nation the ability to continue to grow."
   ]
  },
  {
   "cell_type": "markdown",
   "metadata": {},
   "source": [
    "### Crisp DM Model\n",
    "\n",
    "Project Understanding: The goal of this project is to attempt to show how PM 2.5 is affecting the health and lives of the general population in terms of their respiratory and to show the lack of resources with the communities to combat the spread.\n",
    "\n",
    "Data Understanding:In the aspect of this project, out goal was to bring in CSV style datasets, although we were unable to find the exact data that we were initally looking for we were able to discover datasets that included the whole state of CA, instead of local county datasets. Thus, in otder to understand what we had, it was easier to upload the tables into notebook, and the run queries to clean the tables to display the information that we are looking for and can show the datasets that are involved within the project topic.\n",
    "\n",
    "Data Preparation: In order to organize the datasets, we decided to create geodatabases with ArcGIS Pro, and then bring in the geodatabases into notebooks for better organization. Selecting the datasets, within the dataset that we are need to be used, integrating the datasets, by joing tables.\n",
    "\n",
    "Modeling: In this stage we decided to use interpolation techniques to combine the layers that we used. Bringing in each layer combing them to build different models, while also learning how different modeling techniques work. We also decided to play around and use different techniques to try and create additional demonstrations but ran out of time.\n",
    "\n",
    "Evaluation: The work that was created overall, was to demonstrate that areas that have a higher PM 2.5 rating above 12 or near that number have contributed to the increase of health issues within the general population, but primarly the children and elderly population due to thier lack of a developed system.\n",
    "\n",
    "Deployment: is demonstrated through the analysis maps and the final output map that demonstrates the lack of hospitals, and the increase in cases of Asthma within Los Angeles and San Bernardino."
   ]
  },
  {
   "cell_type": "markdown",
   "metadata": {},
   "source": [
    "## Code Requirements:"
   ]
  },
  {
   "cell_type": "code",
   "execution_count": 1,
   "metadata": {},
   "outputs": [],
   "source": [
    "from arcgis.gis import GIS\n",
    "gis = GIS(\"home\")\n",
    "from arcgis.features.analyze_patterns import interpolate_points"
   ]
  },
  {
   "cell_type": "code",
   "execution_count": 2,
   "metadata": {},
   "outputs": [
    {
     "name": "stdout",
     "output_type": "stream",
     "text": [
      "/bin/bash: /opt/conda/lib/libtinfo.so.6: no version information available (required by /bin/bash)\n",
      "Collecting geopandas\n",
      "  Downloading geopandas-0.12.1-py3-none-any.whl (1.1 MB)\n",
      "\u001b[K     |████████████████████████████████| 1.1 MB 8.2 MB/s eta 0:00:01\n",
      "\u001b[?25hRequirement already satisfied: packaging in /opt/conda/lib/python3.9/site-packages (from geopandas) (21.3)\n",
      "Requirement already satisfied: fiona>=1.8 in /opt/conda/lib/python3.9/site-packages (from geopandas) (1.8.20)\n",
      "Requirement already satisfied: shapely>=1.7 in /opt/conda/lib/python3.9/site-packages (from geopandas) (1.7.1)\n",
      "Collecting pyproj>=2.6.1.post1\n",
      "  Downloading pyproj-3.4.0-cp39-cp39-manylinux_2_17_x86_64.manylinux2014_x86_64.whl (7.7 MB)\n",
      "\u001b[K     |████████████████████████████████| 7.7 MB 57.1 MB/s eta 0:00:01\n",
      "\u001b[?25hRequirement already satisfied: pandas>=1.0.0 in /opt/conda/lib/python3.9/site-packages (from geopandas) (1.3.5)\n",
      "Requirement already satisfied: cligj>=0.5 in /opt/conda/lib/python3.9/site-packages (from fiona>=1.8->geopandas) (0.7.2)\n",
      "Requirement already satisfied: click-plugins>=1.0 in /opt/conda/lib/python3.9/site-packages (from fiona>=1.8->geopandas) (1.1.1)\n",
      "Requirement already satisfied: certifi in /opt/conda/lib/python3.9/site-packages (from fiona>=1.8->geopandas) (2022.5.18.1)\n",
      "Requirement already satisfied: click>=4.0 in /opt/conda/lib/python3.9/site-packages (from fiona>=1.8->geopandas) (8.0.4)\n",
      "Requirement already satisfied: munch in /opt/conda/lib/python3.9/site-packages (from fiona>=1.8->geopandas) (2.5.0)\n",
      "Requirement already satisfied: setuptools in /opt/conda/lib/python3.9/site-packages (from fiona>=1.8->geopandas) (61.2.0)\n",
      "Requirement already satisfied: attrs>=17 in /opt/conda/lib/python3.9/site-packages (from fiona>=1.8->geopandas) (21.4.0)\n",
      "Requirement already satisfied: six>=1.7 in /opt/conda/lib/python3.9/site-packages (from fiona>=1.8->geopandas) (1.16.0)\n",
      "Requirement already satisfied: python-dateutil>=2.7.3 in /opt/conda/lib/python3.9/site-packages (from pandas>=1.0.0->geopandas) (2.8.2)\n",
      "Requirement already satisfied: pytz>=2017.3 in /opt/conda/lib/python3.9/site-packages (from pandas>=1.0.0->geopandas) (2022.1)\n",
      "Requirement already satisfied: numpy>=1.17.3 in /opt/conda/lib/python3.9/site-packages (from pandas>=1.0.0->geopandas) (1.22.3)\n",
      "Requirement already satisfied: pyparsing!=3.0.5,>=2.0.2 in /opt/conda/lib/python3.9/site-packages (from packaging->geopandas) (3.0.4)\n",
      "Installing collected packages: pyproj, geopandas\n",
      "Successfully installed geopandas-0.12.1 pyproj-3.4.0\n"
     ]
    }
   ],
   "source": [
    "! pip install geopandas"
   ]
  },
  {
   "cell_type": "code",
   "execution_count": 3,
   "metadata": {},
   "outputs": [
    {
     "name": "stdout",
     "output_type": "stream",
     "text": [
      "/bin/bash: /opt/conda/lib/libtinfo.so.6: no version information available (required by /bin/bash)\n",
      "Collecting folium\n",
      "  Downloading folium-0.13.0-py2.py3-none-any.whl (96 kB)\n",
      "\u001b[K     |████████████████████████████████| 96 kB 4.4 MB/s eta 0:00:011\n",
      "\u001b[?25hRequirement already satisfied: numpy in /opt/conda/lib/python3.9/site-packages (from folium) (1.22.3)\n",
      "Collecting branca>=0.3.0\n",
      "  Downloading branca-0.6.0-py3-none-any.whl (24 kB)\n",
      "Requirement already satisfied: requests in /opt/conda/lib/python3.9/site-packages (from folium) (2.27.1)\n",
      "Requirement already satisfied: jinja2>=2.9 in /opt/conda/lib/python3.9/site-packages (from folium) (3.0.3)\n",
      "Requirement already satisfied: MarkupSafe>=2.0 in /opt/conda/lib/python3.9/site-packages (from jinja2>=2.9->folium) (2.1.1)\n",
      "Requirement already satisfied: idna<4,>=2.5 in /opt/conda/lib/python3.9/site-packages (from requests->folium) (3.3)\n",
      "Requirement already satisfied: charset-normalizer~=2.0.0 in /opt/conda/lib/python3.9/site-packages (from requests->folium) (2.0.4)\n",
      "Requirement already satisfied: urllib3<1.27,>=1.21.1 in /opt/conda/lib/python3.9/site-packages (from requests->folium) (1.26.9)\n",
      "Requirement already satisfied: certifi>=2017.4.17 in /opt/conda/lib/python3.9/site-packages (from requests->folium) (2022.5.18.1)\n",
      "Installing collected packages: branca, folium\n",
      "Successfully installed branca-0.6.0 folium-0.13.0\n"
     ]
    }
   ],
   "source": [
    "! pip install folium"
   ]
  },
  {
   "cell_type": "code",
   "execution_count": 4,
   "metadata": {},
   "outputs": [],
   "source": [
    "import pandas as pd\n",
    "import numpy as np\n",
    "import geopandas as gpd\n",
    "from shapely.geometry import Point\n",
    "import matplotlib\n",
    "import matplotlib.pyplot as plt \n",
    "import folium\n",
    "import os\n",
    "import seaborn as sns"
   ]
  },
  {
   "cell_type": "code",
   "execution_count": 5,
   "metadata": {},
   "outputs": [],
   "source": [
    "import os\n",
    "import zipfile\n",
    "import arcpy"
   ]
  },
  {
   "cell_type": "code",
   "execution_count": 6,
   "metadata": {},
   "outputs": [],
   "source": [
    "#Let’s visualize it on a map\n",
    "import pandas as pd\n",
    "from arcgis.features import GeoAccessor"
   ]
  },
  {
   "cell_type": "code",
   "execution_count": 7,
   "metadata": {},
   "outputs": [],
   "source": [
    "%matplotlib inline\n",
    "import pandas as pd\n",
    "from datetime import datetime as dt\n",
    "import matplotlib.pyplot as plt"
   ]
  },
  {
   "cell_type": "code",
   "execution_count": 8,
   "metadata": {},
   "outputs": [],
   "source": [
    "%matplotlib inline\n",
    "import pandas as pd\n",
    "from datetime import datetime as dt\n",
    "import matplotlib.pyplot as plt\n",
    "from IPython.display import display\n",
    "from arcgis.features.analyze_patterns import calculate_density, find_hot_spots\n",
    "from arcgis.mapping.symbol import create_symbol\n",
    "from arcgis.features.use_proximity import create_drive_time_areas\n",
    "from arcgis.features.summarize_data import summarize_within\n",
    "import arcpy\n",
    "from arcgis.features import analysis\n",
    "from arcgis.features.analyze_patterns import calculate_density, find_hot_spots\n",
    "import arcgis.network as network"
   ]
  },
  {
   "cell_type": "code",
   "execution_count": 9,
   "metadata": {},
   "outputs": [],
   "source": [
    "#Let’s import the analysis tools\n",
    "from arcgis.features import analysis"
   ]
  },
  {
   "cell_type": "markdown",
   "metadata": {},
   "source": [
    "#### Analysis Questions\n",
    "\n",
    "Is there a relation between PM 2.5 and respiratory issues in the general population?\n",
    "\n",
    "Has there been an increase in Asthma cases in areas that have a higher concentraction of PM 2.5?"
   ]
  },
  {
   "cell_type": "markdown",
   "metadata": {},
   "source": [
    "## Create a Geodatabase to store all data:"
   ]
  },
  {
   "cell_type": "markdown",
   "metadata": {},
   "source": [
    "## I. PM2_5 DIR:"
   ]
  },
  {
   "cell_type": "code",
   "execution_count": 10,
   "metadata": {},
   "outputs": [
    {
     "data": {
      "text/plain": [
       "['PM2_5']"
      ]
     },
     "execution_count": 10,
     "metadata": {},
     "output_type": "execute_result"
    }
   ],
   "source": [
    "# Examine the directory structure\n",
    "os.listdir('/arcgis/home/California_Health')"
   ]
  },
  {
   "cell_type": "code",
   "execution_count": 11,
   "metadata": {},
   "outputs": [
    {
     "name": "stdout",
     "output_type": "stream",
     "text": [
      "/arcgis/home/California_Health already exists.\n"
     ]
    }
   ],
   "source": [
    "# Create a placeholder folder for the datasets\n",
    "try:\n",
    "    dir_name = ('/arcgis/home/California_Health')\n",
    "    os.mkdir(dir_name)\n",
    "except Exception as exception:\n",
    "    print (f\"{dir_name} already exists.\")"
   ]
  },
  {
   "cell_type": "code",
   "execution_count": 12,
   "metadata": {},
   "outputs": [],
   "source": [
    "#Create a Directory to store our geodatabase\n",
    "home_dir = '/arcgis/home/California_Health'\n",
    "new_dirname = 'PM2_5'\n",
    "lesson_dir = os.path.join(home_dir, new_dirname)"
   ]
  },
  {
   "cell_type": "markdown",
   "metadata": {},
   "source": [
    "## 1. PM PREDICTION GDB"
   ]
  },
  {
   "cell_type": "code",
   "execution_count": 13,
   "metadata": {},
   "outputs": [],
   "source": [
    "dataset = '/arcgis/home/California_Project/California.gdb.zip'"
   ]
  },
  {
   "cell_type": "code",
   "execution_count": 14,
   "metadata": {},
   "outputs": [],
   "source": [
    "#Unzipping the geodatabase\n",
    "zip_ref = zipfile.ZipFile(dataset, 'r')\n",
    "zip_ref.extractall(lesson_dir)"
   ]
  },
  {
   "cell_type": "code",
   "execution_count": 15,
   "metadata": {},
   "outputs": [
    {
     "name": "stdout",
     "output_type": "stream",
     "text": [
      "None\n"
     ]
    }
   ],
   "source": [
    "#Checking our workspace\n",
    "print(arcpy.env.workspace)"
   ]
  },
  {
   "cell_type": "code",
   "execution_count": 16,
   "metadata": {},
   "outputs": [],
   "source": [
    "#Assign the geodatabase to PMPREDICTION\n",
    "PM2_DROUGHT = os.path.join(lesson_dir, 'California.gdb')"
   ]
  },
  {
   "cell_type": "code",
   "execution_count": 17,
   "metadata": {},
   "outputs": [],
   "source": [
    "#Assign new workspace\n",
    "arcpy.env.workspace = PM2_DROUGHT"
   ]
  },
  {
   "cell_type": "code",
   "execution_count": 18,
   "metadata": {},
   "outputs": [
    {
     "name": "stdout",
     "output_type": "stream",
     "text": [
      "/arcgis/home/California_Health/PM2_5/California.gdb\n"
     ]
    }
   ],
   "source": [
    "print(arcpy.env.workspace)"
   ]
  },
  {
   "cell_type": "code",
   "execution_count": 19,
   "metadata": {},
   "outputs": [
    {
     "data": {
      "text/plain": [
       "['Places_over_Federal_Standard',\n",
       " 'Places_Over_Federal_Standard_Muneeer',\n",
       " 'Places_Over_CA_Standards_Muneer_Mogni',\n",
       " 'PM_Prediction_Muneer_Mogni',\n",
       " 'PM_Prediction_Muneer_Mogni___predictionError',\n",
       " 'Nearest_Monitoring_Sites_to_Populated_Places_Muneer_Mo',\n",
       " 'Nearest_Monitoring_Sites_to_Populated_Places_Muneer_Mo___Connecting_Lines',\n",
       " 'Monitoring_Stations_within_Populated_Places_Muneer',\n",
       " 'Monitoring_Stations_within_Populated_Places_Muneer_1',\n",
       " 'Monitoring_Stations_within_Populated_Places_Muneer_Mogni',\n",
       " 'Annual_PM2_5_Monitoring_Sites',\n",
       " 'Populated_Places',\n",
       " 'California']"
      ]
     },
     "execution_count": 19,
     "metadata": {},
     "output_type": "execute_result"
    }
   ],
   "source": [
    "#List feature classes in geodatabase\n",
    "arcpy.ListFeatureClasses()"
   ]
  },
  {
   "cell_type": "code",
   "execution_count": 20,
   "metadata": {},
   "outputs": [],
   "source": [
    "#Create a new geodatabase to store results\n",
    "gp_res = arcpy.management.CreateFileGDB(lesson_dir, 'results_california_health_10.gdb')\n"
   ]
  },
  {
   "cell_type": "code",
   "execution_count": 21,
   "metadata": {},
   "outputs": [
    {
     "data": {
      "text/html": [
       "<div class='gpresult'><h2>Messages</h2><div id='messages' data-messages='[\"Start Time: Friday, December 09, 2022 9:06:40 PM\",\"Succeeded at Friday, December 09, 2022 9:06:41 PM (Elapsed Time: 0.27 seconds)\"]' data-show='true'><div id = 'default' /></div></div>"
      ],
      "text/plain": [
       "<Result '/arcgis/home/California_Health/PM2_5/results_california_health_10.gdb'>"
      ]
     },
     "execution_count": 21,
     "metadata": {},
     "output_type": "execute_result"
    }
   ],
   "source": [
    "gp_res"
   ]
  },
  {
   "cell_type": "code",
   "execution_count": 22,
   "metadata": {},
   "outputs": [
    {
     "name": "stdout",
     "output_type": "stream",
     "text": [
      "/arcgis/home/California_Health/PM2_5/California.gdb\n"
     ]
    }
   ],
   "source": [
    "print(arcpy.env.workspace)"
   ]
  },
  {
   "cell_type": "code",
   "execution_count": 23,
   "metadata": {},
   "outputs": [
    {
     "name": "stdout",
     "output_type": "stream",
     "text": [
      "/arcgis/home/California_Health/PM2_5/results_california_health_10.gdb\n"
     ]
    }
   ],
   "source": [
    "#change workspace to the new geodatabase\n",
    "arcpy.env.workspace = gp_res[0]\n",
    "print(arcpy.env.workspace)"
   ]
  },
  {
   "cell_type": "markdown",
   "metadata": {},
   "source": [
    "## 2. FIRE HAZARD"
   ]
  },
  {
   "cell_type": "code",
   "execution_count": 24,
   "metadata": {},
   "outputs": [],
   "source": [
    "dataset3 = '/arcgis/home/California_Project/kx-los-angeles-county-fire-hazard-severity-zones-FGDB.zip'"
   ]
  },
  {
   "cell_type": "code",
   "execution_count": 25,
   "metadata": {},
   "outputs": [],
   "source": [
    "#Unzipping the geodatabase\n",
    "zip_ref = zipfile.ZipFile(dataset3, 'r')\n",
    "zip_ref.extractall(lesson_dir)"
   ]
  },
  {
   "cell_type": "code",
   "execution_count": 26,
   "metadata": {},
   "outputs": [
    {
     "name": "stdout",
     "output_type": "stream",
     "text": [
      "/arcgis/home/California_Health/PM2_5/results_california_health_10.gdb\n"
     ]
    }
   ],
   "source": [
    "#Checking our workspace\n",
    "print(arcpy.env.workspace)"
   ]
  },
  {
   "cell_type": "code",
   "execution_count": 27,
   "metadata": {},
   "outputs": [],
   "source": [
    "#Assign the geodatabase to PMPREDICTION\n",
    "cal_fire = os.path.join(lesson_dir, 'los-angeles-county-fire-hazard-severity-zones.gdb')"
   ]
  },
  {
   "cell_type": "code",
   "execution_count": 28,
   "metadata": {},
   "outputs": [],
   "source": [
    "arcpy.env.workspace = cal_fire"
   ]
  },
  {
   "cell_type": "code",
   "execution_count": 29,
   "metadata": {},
   "outputs": [
    {
     "name": "stdout",
     "output_type": "stream",
     "text": [
      "/arcgis/home/California_Health/PM2_5/los-angeles-county-fire-hazard-severity-zones.gdb\n"
     ]
    }
   ],
   "source": [
    "print(arcpy.env.workspace)"
   ]
  },
  {
   "cell_type": "code",
   "execution_count": 30,
   "metadata": {},
   "outputs": [
    {
     "data": {
      "text/plain": [
       "['Los_Angeles_County_Fire_Hazard_Severity_Zones']"
      ]
     },
     "execution_count": 30,
     "metadata": {},
     "output_type": "execute_result"
    }
   ],
   "source": [
    "#List feature classes in geodatabase\n",
    "arcpy.ListFeatureClasses()"
   ]
  },
  {
   "cell_type": "code",
   "execution_count": 31,
   "metadata": {},
   "outputs": [],
   "source": [
    "#Create a new geodatabase to store results\n",
    "gp_res = arcpy.management.CreateFileGDB(lesson_dir, 'fire_7.gdb')\n"
   ]
  },
  {
   "cell_type": "code",
   "execution_count": 32,
   "metadata": {},
   "outputs": [
    {
     "data": {
      "text/html": [
       "<div class='gpresult'><h2>Messages</h2><div id='messages' data-messages='[\"Start Time: Friday, December 09, 2022 9:07:31 PM\",\"Succeeded at Friday, December 09, 2022 9:07:31 PM (Elapsed Time: 0.18 seconds)\"]' data-show='true'><div id = 'default' /></div></div>"
      ],
      "text/plain": [
       "<Result '/arcgis/home/California_Health/PM2_5/fire_7.gdb'>"
      ]
     },
     "execution_count": 32,
     "metadata": {},
     "output_type": "execute_result"
    }
   ],
   "source": [
    "gp_res"
   ]
  },
  {
   "cell_type": "code",
   "execution_count": 33,
   "metadata": {},
   "outputs": [
    {
     "name": "stdout",
     "output_type": "stream",
     "text": [
      "/arcgis/home/California_Health/PM2_5/los-angeles-county-fire-hazard-severity-zones.gdb\n"
     ]
    }
   ],
   "source": [
    "print(arcpy.env.workspace)"
   ]
  },
  {
   "cell_type": "code",
   "execution_count": 34,
   "metadata": {},
   "outputs": [
    {
     "name": "stdout",
     "output_type": "stream",
     "text": [
      "/arcgis/home/California_Health/PM2_5/fire_7.gdb\n"
     ]
    }
   ],
   "source": [
    "arcpy.env.workspace = gp_res[0]\n",
    "print(arcpy.env.workspace)"
   ]
  },
  {
   "cell_type": "markdown",
   "metadata": {},
   "source": [
    "## 3. ASTHAMA CAL"
   ]
  },
  {
   "cell_type": "code",
   "execution_count": 35,
   "metadata": {},
   "outputs": [],
   "source": [
    "dataset4 = '/arcgis/home/California_Project/asthma_cal.gdb.zip'"
   ]
  },
  {
   "cell_type": "code",
   "execution_count": 36,
   "metadata": {},
   "outputs": [],
   "source": [
    "#Unzipping the geodatabase\n",
    "zip_ref = zipfile.ZipFile(dataset4, 'r')\n",
    "zip_ref.extractall(lesson_dir)"
   ]
  },
  {
   "cell_type": "code",
   "execution_count": 37,
   "metadata": {},
   "outputs": [
    {
     "name": "stdout",
     "output_type": "stream",
     "text": [
      "/arcgis/home/California_Health/PM2_5/fire_7.gdb\n"
     ]
    }
   ],
   "source": [
    "#Checking our workspace\n",
    "print(arcpy.env.workspace)"
   ]
  },
  {
   "cell_type": "code",
   "execution_count": 38,
   "metadata": {},
   "outputs": [],
   "source": [
    "#Assign the geodatabase to crimedc\n",
    "calenviro = os.path.join(lesson_dir, 'asthma_cal.gdb')"
   ]
  },
  {
   "cell_type": "code",
   "execution_count": 39,
   "metadata": {},
   "outputs": [],
   "source": [
    "#Assign new workspace\n",
    "arcpy.env.workspace = calenviro"
   ]
  },
  {
   "cell_type": "code",
   "execution_count": 40,
   "metadata": {},
   "outputs": [
    {
     "name": "stdout",
     "output_type": "stream",
     "text": [
      "/arcgis/home/California_Health/PM2_5/asthma_cal.gdb\n"
     ]
    }
   ],
   "source": [
    "print(arcpy.env.workspace)"
   ]
  },
  {
   "cell_type": "code",
   "execution_count": 41,
   "metadata": {},
   "outputs": [
    {
     "data": {
      "text/plain": [
       "['asthma_cal']"
      ]
     },
     "execution_count": 41,
     "metadata": {},
     "output_type": "execute_result"
    }
   ],
   "source": [
    "#List feature classes in geodatabase\n",
    "arcpy.ListFeatureClasses()"
   ]
  },
  {
   "cell_type": "code",
   "execution_count": 43,
   "metadata": {},
   "outputs": [],
   "source": [
    "#Create a new geodatabase to store results\n",
    "gp_res = arcpy.management.CreateFileGDB(lesson_dir, 'results_asthma_cal_4.gdb')\n"
   ]
  },
  {
   "cell_type": "code",
   "execution_count": 44,
   "metadata": {},
   "outputs": [
    {
     "data": {
      "text/html": [
       "<div class='gpresult'><h2>Messages</h2><div id='messages' data-messages='[\"Start Time: Friday, December 09, 2022 9:08:07 PM\",\"Succeeded at Friday, December 09, 2022 9:08:07 PM (Elapsed Time: 0.21 seconds)\"]' data-show='true'><div id = 'default' /></div></div>"
      ],
      "text/plain": [
       "<Result '/arcgis/home/California_Health/PM2_5/results_asthma_cal_4.gdb'>"
      ]
     },
     "execution_count": 44,
     "metadata": {},
     "output_type": "execute_result"
    }
   ],
   "source": [
    "gp_res"
   ]
  },
  {
   "cell_type": "code",
   "execution_count": 45,
   "metadata": {},
   "outputs": [
    {
     "name": "stdout",
     "output_type": "stream",
     "text": [
      "/arcgis/home/California_Health/PM2_5/asthma_cal.gdb\n"
     ]
    }
   ],
   "source": [
    "print(arcpy.env.workspace)"
   ]
  },
  {
   "cell_type": "code",
   "execution_count": 46,
   "metadata": {},
   "outputs": [
    {
     "name": "stdout",
     "output_type": "stream",
     "text": [
      "/arcgis/home/California_Health/PM2_5/results_asthma_cal_4.gdb\n"
     ]
    }
   ],
   "source": [
    "#change workspace to the new geodatabase\n",
    "arcpy.env.workspace = gp_res[0]\n",
    "print(arcpy.env.workspace)"
   ]
  },
  {
   "cell_type": "markdown",
   "metadata": {},
   "source": [
    "## Literature Review\n",
    "\n",
    "Particle Matter otherwise known as (PM 2.5) has several associations with health problems, for example asthma being on the leading respiratory issues. According to a journal published by Kornnasa Chankaew, a study that was conducted in Thailand about how sensitive children with asthmatic symptoms are to levels of PM 2.5 levels above 12 mcg/m^3. The study shows that exposure to high daily PM 2.5 levels can lead to asthma exacerbation within a three-day period. Yes, this study was conducted in Thailand where, PM 2.5 levels are high, but the average level of 12 mcg/m^3 is very common within the United States as well. When examing Asthma, for example the percent of adults who currently have Asthma on a national level is roughly 7%, but California counts for 7.8% of the total population of adults who have Asthma. On a national average for children who currently have Asthma the national level is 8.3%, while California counts for 7.3% (CDC & Prevention, n.d.). According to the CDC & Prevention the annual ambient concentration of PM 2.5 is 14.7ug/m^3, while Los Angeles County is at 12.0 ug/m^3; which makes them the same level as the study that was conducted in Thailand, thus there is enough evidence to suggest that PM 2.5 is one of the leading causes to cause asthmatic symptoms in children. According to the results founded by Kornnasa Chankaew severe asthma was found in more than half of the participants(Chankaew, 2022).\n",
    "\n",
    "According to the journal, US particulate matter air quality improves except in wildfire-prone areas; \"wildfires are a major source of fine particulate matter (diameter <2.5 um; PM2.5), which is a health hazard. Since the mid-1980's, the total US area burned by wildfires has been increasing, with fires in the Northwest United States accounting for a 50-60% of that total increase\" (McClure, 2018). As we do know, wildfires have been growing increasingly over the past couple of decades especially up and down the coast of California and surrounding states, which in return have generated an increase in the particle matter (PM 2.5). \"Across 112 cities, California averaged a PM 2.5 concentration of 12.1 ug/m^3 (moderate) in the year of 2018. Only 35.7 percent of the cities met the World Health Organization target for annual PM 2.5 exposure of 10 ug/m^3, as compared to the national average of 81.7 percent\" (California Air Quality index, last updated Dec 4, 2022). The top five worst cities in the country with annual PM 2.5 ratings are the following and all located in California: Bakersfield, Fresno, Visalia, Los Angeles and the Bay Area. California has such bad air quality due to emissions, demand for energy production through fossil fuels and household energy consumption as well as the wildfires.\n",
    "\n",
    "\n"
   ]
  },
  {
   "cell_type": "markdown",
   "metadata": {},
   "source": [
    "## DATA  FILTERATION AND STUDY AREA:"
   ]
  },
  {
   "cell_type": "markdown",
   "metadata": {},
   "source": [
    "### 1. POPULATION DATA"
   ]
  },
  {
   "cell_type": "code",
   "execution_count": 47,
   "metadata": {},
   "outputs": [],
   "source": [
    "Populated_Places_sdf = pd.DataFrame.spatial.from_featureclass(os.path.join(PM2_DROUGHT,'Populated_Places'))"
   ]
  },
  {
   "cell_type": "code",
   "execution_count": 48,
   "metadata": {},
   "outputs": [
    {
     "data": {
      "application/vnd.jupyter.widget-view+json": {
       "model_id": "1c477605e57e4011a29780011f689a28",
       "version_major": 2,
       "version_minor": 0
      },
      "text/plain": [
       "MapView(layout=Layout(height='400px', width='100%'))"
      ]
     },
     "metadata": {},
     "output_type": "display_data"
    },
    {
     "data": {
      "text/html": [
       "<div class=\"map-static-img-preview-21a56faa-b0c2-4a98-ba4d-787d47e61cfd\"><img src=\"\"></img></div>"
      ],
      "text/plain": [
       "<IPython.core.display.HTML object>"
      ]
     },
     "metadata": {},
     "output_type": "display_data"
    },
    {
     "data": {
      "text/html": [
       "<div class=\"map-html-embed-preview-21a56faa-b0c2-4a98-ba4d-787d47e61cfd\"></div>"
      ],
      "text/plain": [
       "<IPython.core.display.HTML object>"
      ]
     },
     "metadata": {},
     "output_type": "display_data"
    }
   ],
   "source": [
    "#plots the data to the map view\n",
    "map_view = Populated_Places_sdf.spatial.plot(alpha=0.10)\n",
    "map_view"
   ]
  },
  {
   "cell_type": "code",
   "execution_count": 49,
   "metadata": {
    "scrolled": true
   },
   "outputs": [
    {
     "data": {
      "text/html": [
       "<div>\n",
       "<style scoped>\n",
       "    .dataframe tbody tr th:only-of-type {\n",
       "        vertical-align: middle;\n",
       "    }\n",
       "\n",
       "    .dataframe tbody tr th {\n",
       "        vertical-align: top;\n",
       "    }\n",
       "\n",
       "    .dataframe thead th {\n",
       "        text-align: right;\n",
       "    }\n",
       "</style>\n",
       "<table border=\"1\" class=\"dataframe\">\n",
       "  <thead>\n",
       "    <tr style=\"text-align: right;\">\n",
       "      <th></th>\n",
       "      <th>OBJECTID</th>\n",
       "      <th>GEOID</th>\n",
       "      <th>NAME</th>\n",
       "      <th>Population</th>\n",
       "      <th>Males</th>\n",
       "      <th>Females</th>\n",
       "      <th>Children</th>\n",
       "      <th>Elderly</th>\n",
       "      <th>MeanHHIncome</th>\n",
       "      <th>MeanError</th>\n",
       "      <th>TotalHHs</th>\n",
       "      <th>HHsError</th>\n",
       "      <th>AreaSqMiles</th>\n",
       "      <th>AreaSqKm</th>\n",
       "      <th>SHAPE</th>\n",
       "    </tr>\n",
       "  </thead>\n",
       "  <tbody>\n",
       "    <tr>\n",
       "      <th>0</th>\n",
       "      <td>1</td>\n",
       "      <td>0673108</td>\n",
       "      <td>South Lake Tahoe</td>\n",
       "      <td>21034</td>\n",
       "      <td>11105</td>\n",
       "      <td>9929</td>\n",
       "      <td>3617</td>\n",
       "      <td>2043</td>\n",
       "      <td>55424</td>\n",
       "      <td>4073</td>\n",
       "      <td>8497</td>\n",
       "      <td>360</td>\n",
       "      <td>16.615255</td>\n",
       "      <td>43.033314</td>\n",
       "      <td>{\"rings\": [[[245239.27940000035, 4316194.14540...</td>\n",
       "    </tr>\n",
       "    <tr>\n",
       "      <th>1</th>\n",
       "      <td>2</td>\n",
       "      <td>0657540</td>\n",
       "      <td>Placerville</td>\n",
       "      <td>9788</td>\n",
       "      <td>4596</td>\n",
       "      <td>5192</td>\n",
       "      <td>1863</td>\n",
       "      <td>1629</td>\n",
       "      <td>63441</td>\n",
       "      <td>5715</td>\n",
       "      <td>3893</td>\n",
       "      <td>269</td>\n",
       "      <td>5.823516</td>\n",
       "      <td>15.082839</td>\n",
       "      <td>{\"rings\": [[[166569.64769999962, 4292303.72089...</td>\n",
       "    </tr>\n",
       "    <tr>\n",
       "      <th>2</th>\n",
       "      <td>3</td>\n",
       "      <td>0683668</td>\n",
       "      <td>Watsonville</td>\n",
       "      <td>50671</td>\n",
       "      <td>25196</td>\n",
       "      <td>25475</td>\n",
       "      <td>13441</td>\n",
       "      <td>4030</td>\n",
       "      <td>58345</td>\n",
       "      <td>3512</td>\n",
       "      <td>13754</td>\n",
       "      <td>436</td>\n",
       "      <td>6.808626</td>\n",
       "      <td>17.634260</td>\n",
       "      <td>{\"rings\": [[[73232.70469999965, 4093371.532199...</td>\n",
       "    </tr>\n",
       "    <tr>\n",
       "      <th>3</th>\n",
       "      <td>4</td>\n",
       "      <td>0670588</td>\n",
       "      <td>Scotts Valley</td>\n",
       "      <td>11308</td>\n",
       "      <td>5522</td>\n",
       "      <td>5786</td>\n",
       "      <td>2312</td>\n",
       "      <td>1575</td>\n",
       "      <td>116495</td>\n",
       "      <td>6874</td>\n",
       "      <td>4318</td>\n",
       "      <td>215</td>\n",
       "      <td>4.636924</td>\n",
       "      <td>12.009578</td>\n",
       "      <td>{\"rings\": [[[51922.15529999975, 4112331.9945],...</td>\n",
       "    </tr>\n",
       "    <tr>\n",
       "      <th>4</th>\n",
       "      <td>5</td>\n",
       "      <td>0669112</td>\n",
       "      <td>Santa Cruz</td>\n",
       "      <td>51657</td>\n",
       "      <td>25706</td>\n",
       "      <td>25951</td>\n",
       "      <td>6738</td>\n",
       "      <td>5215</td>\n",
       "      <td>82930</td>\n",
       "      <td>3301</td>\n",
       "      <td>21425</td>\n",
       "      <td>581</td>\n",
       "      <td>13.010564</td>\n",
       "      <td>33.697205</td>\n",
       "      <td>{\"rings\": [[[48237.302699999884, 4101330.36539...</td>\n",
       "    </tr>\n",
       "    <tr>\n",
       "      <th>...</th>\n",
       "      <td>...</td>\n",
       "      <td>...</td>\n",
       "      <td>...</td>\n",
       "      <td>...</td>\n",
       "      <td>...</td>\n",
       "      <td>...</td>\n",
       "      <td>...</td>\n",
       "      <td>...</td>\n",
       "      <td>...</td>\n",
       "      <td>...</td>\n",
       "      <td>...</td>\n",
       "      <td>...</td>\n",
       "      <td>...</td>\n",
       "      <td>...</td>\n",
       "      <td>...</td>\n",
       "    </tr>\n",
       "    <tr>\n",
       "      <th>924</th>\n",
       "      <td>925</td>\n",
       "      <td>0663316</td>\n",
       "      <td>Running Springs</td>\n",
       "      <td>4862</td>\n",
       "      <td>2496</td>\n",
       "      <td>2366</td>\n",
       "      <td>900</td>\n",
       "      <td>539</td>\n",
       "      <td>66757</td>\n",
       "      <td>7520</td>\n",
       "      <td>1927</td>\n",
       "      <td>229</td>\n",
       "      <td>4.209738</td>\n",
       "      <td>10.903172</td>\n",
       "      <td>{\"rings\": [[[489996.76410000026, 3787242.8236]...</td>\n",
       "    </tr>\n",
       "    <tr>\n",
       "      <th>925</th>\n",
       "      <td>926</td>\n",
       "      <td>0664462</td>\n",
       "      <td>San Antonio Heights</td>\n",
       "      <td>3358</td>\n",
       "      <td>1686</td>\n",
       "      <td>1672</td>\n",
       "      <td>542</td>\n",
       "      <td>568</td>\n",
       "      <td>157934</td>\n",
       "      <td>23374</td>\n",
       "      <td>1258</td>\n",
       "      <td>79</td>\n",
       "      <td>2.616188</td>\n",
       "      <td>6.775895</td>\n",
       "      <td>{\"rings\": [[[441543.9840000002, 3780627.910499...</td>\n",
       "    </tr>\n",
       "    <tr>\n",
       "      <th>926</th>\n",
       "      <td>927</td>\n",
       "      <td>0670728</td>\n",
       "      <td>Searles Valley</td>\n",
       "      <td>1739</td>\n",
       "      <td>887</td>\n",
       "      <td>852</td>\n",
       "      <td>370</td>\n",
       "      <td>275</td>\n",
       "      <td>49712</td>\n",
       "      <td>9630</td>\n",
       "      <td>754</td>\n",
       "      <td>103</td>\n",
       "      <td>10.486084</td>\n",
       "      <td>27.158833</td>\n",
       "      <td>{\"rings\": [[[466014.57349999994, 3961293.44700...</td>\n",
       "    </tr>\n",
       "    <tr>\n",
       "      <th>927</th>\n",
       "      <td>928</td>\n",
       "      <td>0686594</td>\n",
       "      <td>Wrightwood</td>\n",
       "      <td>4525</td>\n",
       "      <td>2323</td>\n",
       "      <td>2202</td>\n",
       "      <td>843</td>\n",
       "      <td>611</td>\n",
       "      <td>79808</td>\n",
       "      <td>10095</td>\n",
       "      <td>1891</td>\n",
       "      <td>200</td>\n",
       "      <td>5.924958</td>\n",
       "      <td>15.345571</td>\n",
       "      <td>{\"rings\": [[[440174.0828999998, 3803647.0954],...</td>\n",
       "    </tr>\n",
       "    <tr>\n",
       "      <th>928</th>\n",
       "      <td>929</td>\n",
       "      <td>0652760</td>\n",
       "      <td>Oak Hills</td>\n",
       "      <td>8879</td>\n",
       "      <td>4493</td>\n",
       "      <td>4386</td>\n",
       "      <td>1919</td>\n",
       "      <td>853</td>\n",
       "      <td>90382</td>\n",
       "      <td>11492</td>\n",
       "      <td>2677</td>\n",
       "      <td>270</td>\n",
       "      <td>24.371670</td>\n",
       "      <td>63.122337</td>\n",
       "      <td>{\"rings\": [[[464939.4804999996, 3807150.1876],...</td>\n",
       "    </tr>\n",
       "  </tbody>\n",
       "</table>\n",
       "<p>929 rows × 15 columns</p>\n",
       "</div>"
      ],
      "text/plain": [
       "     OBJECTID    GEOID                 NAME  Population  Males  Females  \\\n",
       "0           1  0673108     South Lake Tahoe       21034  11105     9929   \n",
       "1           2  0657540          Placerville        9788   4596     5192   \n",
       "2           3  0683668          Watsonville       50671  25196    25475   \n",
       "3           4  0670588        Scotts Valley       11308   5522     5786   \n",
       "4           5  0669112           Santa Cruz       51657  25706    25951   \n",
       "..        ...      ...                  ...         ...    ...      ...   \n",
       "924       925  0663316      Running Springs        4862   2496     2366   \n",
       "925       926  0664462  San Antonio Heights        3358   1686     1672   \n",
       "926       927  0670728       Searles Valley        1739    887      852   \n",
       "927       928  0686594           Wrightwood        4525   2323     2202   \n",
       "928       929  0652760            Oak Hills        8879   4493     4386   \n",
       "\n",
       "     Children  Elderly  MeanHHIncome  MeanError  TotalHHs  HHsError  \\\n",
       "0        3617     2043         55424       4073      8497       360   \n",
       "1        1863     1629         63441       5715      3893       269   \n",
       "2       13441     4030         58345       3512     13754       436   \n",
       "3        2312     1575        116495       6874      4318       215   \n",
       "4        6738     5215         82930       3301     21425       581   \n",
       "..        ...      ...           ...        ...       ...       ...   \n",
       "924       900      539         66757       7520      1927       229   \n",
       "925       542      568        157934      23374      1258        79   \n",
       "926       370      275         49712       9630       754       103   \n",
       "927       843      611         79808      10095      1891       200   \n",
       "928      1919      853         90382      11492      2677       270   \n",
       "\n",
       "     AreaSqMiles   AreaSqKm                                              SHAPE  \n",
       "0      16.615255  43.033314  {\"rings\": [[[245239.27940000035, 4316194.14540...  \n",
       "1       5.823516  15.082839  {\"rings\": [[[166569.64769999962, 4292303.72089...  \n",
       "2       6.808626  17.634260  {\"rings\": [[[73232.70469999965, 4093371.532199...  \n",
       "3       4.636924  12.009578  {\"rings\": [[[51922.15529999975, 4112331.9945],...  \n",
       "4      13.010564  33.697205  {\"rings\": [[[48237.302699999884, 4101330.36539...  \n",
       "..           ...        ...                                                ...  \n",
       "924     4.209738  10.903172  {\"rings\": [[[489996.76410000026, 3787242.8236]...  \n",
       "925     2.616188   6.775895  {\"rings\": [[[441543.9840000002, 3780627.910499...  \n",
       "926    10.486084  27.158833  {\"rings\": [[[466014.57349999994, 3961293.44700...  \n",
       "927     5.924958  15.345571  {\"rings\": [[[440174.0828999998, 3803647.0954],...  \n",
       "928    24.371670  63.122337  {\"rings\": [[[464939.4804999996, 3807150.1876],...  \n",
       "\n",
       "[929 rows x 15 columns]"
      ]
     },
     "execution_count": 49,
     "metadata": {},
     "output_type": "execute_result"
    }
   ],
   "source": [
    "population_df = Populated_Places_sdf.head(1000)\n",
    "population_df"
   ]
  },
  {
   "cell_type": "code",
   "execution_count": 50,
   "metadata": {},
   "outputs": [
    {
     "data": {
      "text/plain": [
       "Index(['OBJECTID', 'GEOID', 'NAME', 'Population', 'Males', 'Females',\n",
       "       'Children', 'Elderly', 'MeanHHIncome', 'MeanError', 'TotalHHs',\n",
       "       'HHsError', 'AreaSqMiles', 'AreaSqKm', 'SHAPE'],\n",
       "      dtype='object')"
      ]
     },
     "execution_count": 50,
     "metadata": {},
     "output_type": "execute_result"
    }
   ],
   "source": [
    "# Exploring the dataset attributs\n",
    "population_df.columns"
   ]
  },
  {
   "cell_type": "code",
   "execution_count": 51,
   "metadata": {},
   "outputs": [
    {
     "data": {
      "text/html": [
       "<div>\n",
       "<style scoped>\n",
       "    .dataframe tbody tr th:only-of-type {\n",
       "        vertical-align: middle;\n",
       "    }\n",
       "\n",
       "    .dataframe tbody tr th {\n",
       "        vertical-align: top;\n",
       "    }\n",
       "\n",
       "    .dataframe thead th {\n",
       "        text-align: right;\n",
       "    }\n",
       "</style>\n",
       "<table border=\"1\" class=\"dataframe\">\n",
       "  <thead>\n",
       "    <tr style=\"text-align: right;\">\n",
       "      <th></th>\n",
       "      <th>OBJECTID</th>\n",
       "      <th>GEOID</th>\n",
       "      <th>NAME</th>\n",
       "      <th>Population</th>\n",
       "      <th>Males</th>\n",
       "      <th>Females</th>\n",
       "      <th>Children</th>\n",
       "      <th>Elderly</th>\n",
       "      <th>MeanHHIncome</th>\n",
       "      <th>MeanError</th>\n",
       "      <th>TotalHHs</th>\n",
       "      <th>HHsError</th>\n",
       "      <th>AreaSqMiles</th>\n",
       "      <th>AreaSqKm</th>\n",
       "      <th>SHAPE</th>\n",
       "    </tr>\n",
       "  </thead>\n",
       "  <tbody>\n",
       "    <tr>\n",
       "      <th>367</th>\n",
       "      <td>368</td>\n",
       "      <td>0644000</td>\n",
       "      <td>Los Angeles</td>\n",
       "      <td>3708020</td>\n",
       "      <td>1840055</td>\n",
       "      <td>1867965</td>\n",
       "      <td>718406</td>\n",
       "      <td>382843</td>\n",
       "      <td>77660</td>\n",
       "      <td>580</td>\n",
       "      <td>1317663</td>\n",
       "      <td>3927</td>\n",
       "      <td>477.714935</td>\n",
       "      <td>1237.276001</td>\n",
       "      <td>{\"rings\": [[[385946.0290000001, 3792464.7247],...</td>\n",
       "    </tr>\n",
       "    <tr>\n",
       "      <th>454</th>\n",
       "      <td>455</td>\n",
       "      <td>0665000</td>\n",
       "      <td>San Bernardino</td>\n",
       "      <td>202599</td>\n",
       "      <td>98624</td>\n",
       "      <td>103975</td>\n",
       "      <td>55357</td>\n",
       "      <td>15791</td>\n",
       "      <td>51041</td>\n",
       "      <td>1222</td>\n",
       "      <td>59133</td>\n",
       "      <td>1024</td>\n",
       "      <td>61.892746</td>\n",
       "      <td>160.301468</td>\n",
       "      <td>{\"rings\": [[[484790.52830000035, 3777936.52329...</td>\n",
       "    </tr>\n",
       "  </tbody>\n",
       "</table>\n",
       "</div>"
      ],
      "text/plain": [
       "     OBJECTID    GEOID            NAME  Population    Males  Females  \\\n",
       "367       368  0644000     Los Angeles     3708020  1840055  1867965   \n",
       "454       455  0665000  San Bernardino      202599    98624   103975   \n",
       "\n",
       "     Children  Elderly  MeanHHIncome  MeanError  TotalHHs  HHsError  \\\n",
       "367    718406   382843         77660        580   1317663      3927   \n",
       "454     55357    15791         51041       1222     59133      1024   \n",
       "\n",
       "     AreaSqMiles     AreaSqKm  \\\n",
       "367   477.714935  1237.276001   \n",
       "454    61.892746   160.301468   \n",
       "\n",
       "                                                 SHAPE  \n",
       "367  {\"rings\": [[[385946.0290000001, 3792464.7247],...  \n",
       "454  {\"rings\": [[[484790.52830000035, 3777936.52329...  "
      ]
     },
     "execution_count": 51,
     "metadata": {},
     "output_type": "execute_result"
    }
   ],
   "source": [
    "population_df_Filtered_df = population_df.query(\"NAME == 'Los Angeles' | NAME == 'San Bernardino'\")\n",
    "population_df_Filtered_df"
   ]
  },
  {
   "cell_type": "code",
   "execution_count": 52,
   "metadata": {},
   "outputs": [
    {
     "data": {
      "text/html": [
       "<div>\n",
       "<style scoped>\n",
       "    .dataframe tbody tr th:only-of-type {\n",
       "        vertical-align: middle;\n",
       "    }\n",
       "\n",
       "    .dataframe tbody tr th {\n",
       "        vertical-align: top;\n",
       "    }\n",
       "\n",
       "    .dataframe thead th {\n",
       "        text-align: right;\n",
       "    }\n",
       "</style>\n",
       "<table border=\"1\" class=\"dataframe\">\n",
       "  <thead>\n",
       "    <tr style=\"text-align: right;\">\n",
       "      <th></th>\n",
       "      <th>NAME</th>\n",
       "      <th>Population</th>\n",
       "      <th>Children</th>\n",
       "      <th>Elderly</th>\n",
       "      <th>AreaSqMiles</th>\n",
       "      <th>SHAPE</th>\n",
       "    </tr>\n",
       "  </thead>\n",
       "  <tbody>\n",
       "    <tr>\n",
       "      <th>367</th>\n",
       "      <td>Los Angeles</td>\n",
       "      <td>3708020</td>\n",
       "      <td>718406</td>\n",
       "      <td>382843</td>\n",
       "      <td>477.714935</td>\n",
       "      <td>{\"rings\": [[[385946.0290000001, 3792464.7247],...</td>\n",
       "    </tr>\n",
       "    <tr>\n",
       "      <th>454</th>\n",
       "      <td>San Bernardino</td>\n",
       "      <td>202599</td>\n",
       "      <td>55357</td>\n",
       "      <td>15791</td>\n",
       "      <td>61.892746</td>\n",
       "      <td>{\"rings\": [[[484790.52830000035, 3777936.52329...</td>\n",
       "    </tr>\n",
       "  </tbody>\n",
       "</table>\n",
       "</div>"
      ],
      "text/plain": [
       "               NAME  Population  Children  Elderly  AreaSqMiles  \\\n",
       "367     Los Angeles     3708020    718406   382843   477.714935   \n",
       "454  San Bernardino      202599     55357    15791    61.892746   \n",
       "\n",
       "                                                 SHAPE  \n",
       "367  {\"rings\": [[[385946.0290000001, 3792464.7247],...  \n",
       "454  {\"rings\": [[[484790.52830000035, 3777936.52329...  "
      ]
     },
     "execution_count": 52,
     "metadata": {},
     "output_type": "execute_result"
    }
   ],
   "source": [
    "population_df_Filtered_df[['NAME', 'Population','Children','Elderly', 'AreaSqMiles', 'SHAPE',]]"
   ]
  },
  {
   "cell_type": "code",
   "execution_count": 53,
   "metadata": {},
   "outputs": [
    {
     "name": "stderr",
     "output_type": "stream",
     "text": [
      "/opt/conda/lib/python3.9/site-packages/pandas/core/indexing.py:1817: SettingWithCopyWarning: \n",
      "A value is trying to be set on a copy of a slice from a DataFrame.\n",
      "Try using .loc[row_indexer,col_indexer] = value instead\n",
      "\n",
      "See the caveats in the documentation: https://pandas.pydata.org/pandas-docs/stable/user_guide/indexing.html#returning-a-view-versus-a-copy\n",
      "  self._setitem_single_column(loc, value, pi)\n"
     ]
    },
    {
     "data": {
      "text/html": [
       "<div class=\"item_container\" style=\"height: auto; overflow: hidden; border: 1px solid #cfcfcf; border-radius: 2px; background: #f6fafa; line-height: 1.21429em; padding: 10px;\">\n",
       "                    <div class=\"item_left\" style=\"width: 210px; float: left;\">\n",
       "                       <a href='https://www.arcgis.com/home/item.html?id=f5e3eba6bc714d40b2bc5c8b44efddcb' target='_blank'>\n",
       "                        <img src='http://static.arcgis.com/images/desktopapp.png' class=\"itemThumbnail\">\n",
       "                       </a>\n",
       "                    </div>\n",
       "\n",
       "                    <div class=\"item_right\"     style=\"float: none; width: auto; overflow: hidden;\">\n",
       "                        <a href='https://www.arcgis.com/home/item.html?id=f5e3eba6bc714d40b2bc5c8b44efddcb' target='_blank'><b>population</b>\n",
       "                        </a>\n",
       "                        <br/><img src='https://www.arcgis.com/home/js/jsapi/esri/css/images/item_type_icons/featureshosted16.png' style=\"vertical-align:middle;\">Feature Layer Collection by david.marcucci\n",
       "                        <br/>Last Modified: December 09, 2022\n",
       "                        <br/>0 comments, 0 views\n",
       "                    </div>\n",
       "                </div>\n",
       "                "
      ],
      "text/plain": [
       "<Item title:\"population\" type:Feature Layer Collection owner:david.marcucci>"
      ]
     },
     "execution_count": 53,
     "metadata": {},
     "output_type": "execute_result"
    }
   ],
   "source": [
    "population_df_FilteredLayer = population_df_Filtered_df.spatial.to_featurelayer(title='population',tags=['population'])\n",
    "population_df_FilteredLayer"
   ]
  },
  {
   "cell_type": "code",
   "execution_count": 54,
   "metadata": {
    "scrolled": true
   },
   "outputs": [
    {
     "data": {
      "application/vnd.jupyter.widget-view+json": {
       "model_id": "de2c5b6b65ac478299c644e79315804b",
       "version_major": 2,
       "version_minor": 0
      },
      "text/plain": [
       "MapView(layout=Layout(height='400px', width='100%'))"
      ]
     },
     "metadata": {},
     "output_type": "display_data"
    },
    {
     "data": {
      "text/html": [
       "<div class=\"map-static-img-preview-6cab7b7b-3a00-48fa-ba10-345a983b2c61\"><img src=\"\"></img></div>"
      ],
      "text/plain": [
       "<IPython.core.display.HTML object>"
      ]
     },
     "metadata": {},
     "output_type": "display_data"
    },
    {
     "data": {
      "text/html": [
       "<div class=\"map-html-embed-preview-6cab7b7b-3a00-48fa-ba10-345a983b2c61\"></div>"
      ],
      "text/plain": [
       "<IPython.core.display.HTML object>"
      ]
     },
     "metadata": {},
     "output_type": "display_data"
    }
   ],
   "source": [
    "map_view_2 = population_df_Filtered_df.spatial.plot(alpha=0.10)\n",
    "map_view_2"
   ]
  },
  {
   "cell_type": "markdown",
   "metadata": {},
   "source": [
    "### 2. ANNUAL AVERAGE PM 2.5 PARTICLES"
   ]
  },
  {
   "cell_type": "code",
   "execution_count": 55,
   "metadata": {},
   "outputs": [],
   "source": [
    "Annual_pm2_5_sdf = pd.DataFrame.spatial.from_featureclass(os.path.join(PM2_DROUGHT,'Annual_PM2_5_Monitoring_Sites'))"
   ]
  },
  {
   "cell_type": "code",
   "execution_count": 56,
   "metadata": {
    "scrolled": true
   },
   "outputs": [
    {
     "data": {
      "text/html": [
       "<div>\n",
       "<style scoped>\n",
       "    .dataframe tbody tr th:only-of-type {\n",
       "        vertical-align: middle;\n",
       "    }\n",
       "\n",
       "    .dataframe tbody tr th {\n",
       "        vertical-align: top;\n",
       "    }\n",
       "\n",
       "    .dataframe thead th {\n",
       "        text-align: right;\n",
       "    }\n",
       "</style>\n",
       "<table border=\"1\" class=\"dataframe\">\n",
       "  <thead>\n",
       "    <tr style=\"text-align: right;\">\n",
       "      <th></th>\n",
       "      <th>OBJECTID</th>\n",
       "      <th>OBSERVATIONS</th>\n",
       "      <th>LOCATION</th>\n",
       "      <th>ADDRESS</th>\n",
       "      <th>CITY</th>\n",
       "      <th>COUNTY</th>\n",
       "      <th>YEARLYAVG</th>\n",
       "      <th>MAX_</th>\n",
       "      <th>AVG_AQI</th>\n",
       "      <th>SHAPE</th>\n",
       "    </tr>\n",
       "  </thead>\n",
       "  <tbody>\n",
       "    <tr>\n",
       "      <th>0</th>\n",
       "      <td>1</td>\n",
       "      <td>101</td>\n",
       "      <td>Chula Vista</td>\n",
       "      <td>80 E. 'J' ST., CHULA VISTA</td>\n",
       "      <td>Chula Vista</td>\n",
       "      <td>San Diego</td>\n",
       "      <td>9.5911</td>\n",
       "      <td>22.7</td>\n",
       "      <td>38.6139</td>\n",
       "      <td>{\"x\": 494458.6166000003, \"y\": 3610407.92469999...</td>\n",
       "    </tr>\n",
       "    <tr>\n",
       "      <th>1</th>\n",
       "      <td>2</td>\n",
       "      <td>195</td>\n",
       "      <td>CALEXICO HIGH SCHOOL  ARB (#1300698)</td>\n",
       "      <td>1029 ETHEL ST, CALEXICO HIGH SCHOOL</td>\n",
       "      <td>Calexico</td>\n",
       "      <td>Imperial</td>\n",
       "      <td>12.9195</td>\n",
       "      <td>50.9</td>\n",
       "      <td>48.1744</td>\n",
       "      <td>{\"x\": 642126.9216999998, \"y\": 3616405.01810000...</td>\n",
       "    </tr>\n",
       "    <tr>\n",
       "      <th>2</th>\n",
       "      <td>3</td>\n",
       "      <td>320</td>\n",
       "      <td>San Diego - Downtown</td>\n",
       "      <td>1110 BEARDSLEY STREET, SAN DIEGO, CA 92112</td>\n",
       "      <td>San Diego</td>\n",
       "      <td>San Diego</td>\n",
       "      <td>10.4284</td>\n",
       "      <td>29.7</td>\n",
       "      <td>41.3875</td>\n",
       "      <td>{\"x\": 485973.14740000013, \"y\": 3618205.0065, \"...</td>\n",
       "    </tr>\n",
       "    <tr>\n",
       "      <th>3</th>\n",
       "      <td>4</td>\n",
       "      <td>73</td>\n",
       "      <td>La Posta Reservation</td>\n",
       "      <td>8 1/2 Crestwood Road, Boulevard, CA 91905</td>\n",
       "      <td>Boulevard</td>\n",
       "      <td>San Diego</td>\n",
       "      <td>4.9562</td>\n",
       "      <td>114.0</td>\n",
       "      <td>16.6849</td>\n",
       "      <td>{\"x\": 559483.7282999996, \"y\": 3621004.2884, \"s...</td>\n",
       "    </tr>\n",
       "    <tr>\n",
       "      <th>4</th>\n",
       "      <td>5</td>\n",
       "      <td>116</td>\n",
       "      <td>El Cajon</td>\n",
       "      <td>1155 REDWOOD AVE., EL CAJON</td>\n",
       "      <td>El Cajon</td>\n",
       "      <td>San Diego</td>\n",
       "      <td>10.8353</td>\n",
       "      <td>27.7</td>\n",
       "      <td>42.9655</td>\n",
       "      <td>{\"x\": 505422.23060000036, \"y\": 3628140.5621000...</td>\n",
       "    </tr>\n",
       "    <tr>\n",
       "      <th>...</th>\n",
       "      <td>...</td>\n",
       "      <td>...</td>\n",
       "      <td>...</td>\n",
       "      <td>...</td>\n",
       "      <td>...</td>\n",
       "      <td>...</td>\n",
       "      <td>...</td>\n",
       "      <td>...</td>\n",
       "      <td>...</td>\n",
       "      <td>...</td>\n",
       "    </tr>\n",
       "    <tr>\n",
       "      <th>93</th>\n",
       "      <td>94</td>\n",
       "      <td>7632</td>\n",
       "      <td>RED BLUFF-310 S. MAIN STREET</td>\n",
       "      <td>310 S. MAIN STREET, RED BLUFF, CA 96080</td>\n",
       "      <td>Red Bluff</td>\n",
       "      <td>Tehama</td>\n",
       "      <td>11.1148</td>\n",
       "      <td>94.0</td>\n",
       "      <td>43.6213</td>\n",
       "      <td>{\"x\": 54802.732599999756, \"y\": 4459500.6574000...</td>\n",
       "    </tr>\n",
       "    <tr>\n",
       "      <th>94</th>\n",
       "      <td>95</td>\n",
       "      <td>56</td>\n",
       "      <td>Redding - Health Dept</td>\n",
       "      <td>HLTH CTR-2630 HOSPITAL LN, REDDING</td>\n",
       "      <td>Redding</td>\n",
       "      <td>Shasta</td>\n",
       "      <td>4.6304</td>\n",
       "      <td>10.7</td>\n",
       "      <td>19.3571</td>\n",
       "      <td>{\"x\": 44341.43960000016, \"y\": 4502688.3136, \"s...</td>\n",
       "    </tr>\n",
       "    <tr>\n",
       "      <th>95</th>\n",
       "      <td>96</td>\n",
       "      <td>87</td>\n",
       "      <td>EUREKA-JACOBS</td>\n",
       "      <td>717 SOUTH AVENUE</td>\n",
       "      <td>Eureka</td>\n",
       "      <td>Humboldt</td>\n",
       "      <td>5.9839</td>\n",
       "      <td>21.6</td>\n",
       "      <td>24.3218</td>\n",
       "      <td>{\"x\": -105902.0691999998, \"y\": 4538852.9030000...</td>\n",
       "    </tr>\n",
       "    <tr>\n",
       "      <th>96</th>\n",
       "      <td>97</td>\n",
       "      <td>89</td>\n",
       "      <td>Eureka I Street</td>\n",
       "      <td>I STREET, EUREKA</td>\n",
       "      <td>Eureka</td>\n",
       "      <td>Humboldt</td>\n",
       "      <td>5.8247</td>\n",
       "      <td>21.8</td>\n",
       "      <td>23.8315</td>\n",
       "      <td>{\"x\": -104374.48739999998, \"y\": 4541506.0704, ...</td>\n",
       "    </tr>\n",
       "    <tr>\n",
       "      <th>97</th>\n",
       "      <td>98</td>\n",
       "      <td>55</td>\n",
       "      <td>Yreka-Siskiyou Co. APCD Lab</td>\n",
       "      <td>530 FOOTHILL DR., YREKA</td>\n",
       "      <td>Yreka</td>\n",
       "      <td>Siskiyou</td>\n",
       "      <td>4.5018</td>\n",
       "      <td>17.0</td>\n",
       "      <td>18.6182</td>\n",
       "      <td>{\"x\": 31364.075100000016, \"y\": 4634814.8699999...</td>\n",
       "    </tr>\n",
       "  </tbody>\n",
       "</table>\n",
       "<p>98 rows × 10 columns</p>\n",
       "</div>"
      ],
      "text/plain": [
       "    OBJECTID  OBSERVATIONS                              LOCATION  \\\n",
       "0          1           101                           Chula Vista   \n",
       "1          2           195  CALEXICO HIGH SCHOOL  ARB (#1300698)   \n",
       "2          3           320                  San Diego - Downtown   \n",
       "3          4            73                  La Posta Reservation   \n",
       "4          5           116                              El Cajon   \n",
       "..       ...           ...                                   ...   \n",
       "93        94          7632          RED BLUFF-310 S. MAIN STREET   \n",
       "94        95            56                 Redding - Health Dept   \n",
       "95        96            87                         EUREKA-JACOBS   \n",
       "96        97            89                       Eureka I Street   \n",
       "97        98            55           Yreka-Siskiyou Co. APCD Lab   \n",
       "\n",
       "                                       ADDRESS         CITY     COUNTY  \\\n",
       "0                   80 E. 'J' ST., CHULA VISTA  Chula Vista  San Diego   \n",
       "1          1029 ETHEL ST, CALEXICO HIGH SCHOOL     Calexico   Imperial   \n",
       "2   1110 BEARDSLEY STREET, SAN DIEGO, CA 92112    San Diego  San Diego   \n",
       "3    8 1/2 Crestwood Road, Boulevard, CA 91905    Boulevard  San Diego   \n",
       "4                  1155 REDWOOD AVE., EL CAJON     El Cajon  San Diego   \n",
       "..                                         ...          ...        ...   \n",
       "93     310 S. MAIN STREET, RED BLUFF, CA 96080    Red Bluff     Tehama   \n",
       "94          HLTH CTR-2630 HOSPITAL LN, REDDING      Redding     Shasta   \n",
       "95                            717 SOUTH AVENUE       Eureka   Humboldt   \n",
       "96                            I STREET, EUREKA       Eureka   Humboldt   \n",
       "97                     530 FOOTHILL DR., YREKA        Yreka   Siskiyou   \n",
       "\n",
       "    YEARLYAVG   MAX_  AVG_AQI  \\\n",
       "0      9.5911   22.7  38.6139   \n",
       "1     12.9195   50.9  48.1744   \n",
       "2     10.4284   29.7  41.3875   \n",
       "3      4.9562  114.0  16.6849   \n",
       "4     10.8353   27.7  42.9655   \n",
       "..        ...    ...      ...   \n",
       "93    11.1148   94.0  43.6213   \n",
       "94     4.6304   10.7  19.3571   \n",
       "95     5.9839   21.6  24.3218   \n",
       "96     5.8247   21.8  23.8315   \n",
       "97     4.5018   17.0  18.6182   \n",
       "\n",
       "                                                SHAPE  \n",
       "0   {\"x\": 494458.6166000003, \"y\": 3610407.92469999...  \n",
       "1   {\"x\": 642126.9216999998, \"y\": 3616405.01810000...  \n",
       "2   {\"x\": 485973.14740000013, \"y\": 3618205.0065, \"...  \n",
       "3   {\"x\": 559483.7282999996, \"y\": 3621004.2884, \"s...  \n",
       "4   {\"x\": 505422.23060000036, \"y\": 3628140.5621000...  \n",
       "..                                                ...  \n",
       "93  {\"x\": 54802.732599999756, \"y\": 4459500.6574000...  \n",
       "94  {\"x\": 44341.43960000016, \"y\": 4502688.3136, \"s...  \n",
       "95  {\"x\": -105902.0691999998, \"y\": 4538852.9030000...  \n",
       "96  {\"x\": -104374.48739999998, \"y\": 4541506.0704, ...  \n",
       "97  {\"x\": 31364.075100000016, \"y\": 4634814.8699999...  \n",
       "\n",
       "[98 rows x 10 columns]"
      ]
     },
     "execution_count": 56,
     "metadata": {},
     "output_type": "execute_result"
    }
   ],
   "source": [
    "Annual_pm2_5_df = Annual_pm2_5_sdf.head(1000)\n",
    "Annual_pm2_5_df"
   ]
  },
  {
   "cell_type": "code",
   "execution_count": 57,
   "metadata": {},
   "outputs": [
    {
     "data": {
      "text/plain": [
       "Index(['OBJECTID', 'OBSERVATIONS', 'LOCATION', 'ADDRESS', 'CITY', 'COUNTY',\n",
       "       'YEARLYAVG', 'MAX_', 'AVG_AQI', 'SHAPE'],\n",
       "      dtype='object')"
      ]
     },
     "execution_count": 57,
     "metadata": {},
     "output_type": "execute_result"
    }
   ],
   "source": [
    "# Exploring the dataset attributs\n",
    "Annual_pm2_5_df.columns"
   ]
  },
  {
   "cell_type": "code",
   "execution_count": 58,
   "metadata": {},
   "outputs": [
    {
     "data": {
      "text/html": [
       "<div>\n",
       "<style scoped>\n",
       "    .dataframe tbody tr th:only-of-type {\n",
       "        vertical-align: middle;\n",
       "    }\n",
       "\n",
       "    .dataframe tbody tr th {\n",
       "        vertical-align: top;\n",
       "    }\n",
       "\n",
       "    .dataframe thead th {\n",
       "        text-align: right;\n",
       "    }\n",
       "</style>\n",
       "<table border=\"1\" class=\"dataframe\">\n",
       "  <thead>\n",
       "    <tr style=\"text-align: right;\">\n",
       "      <th></th>\n",
       "      <th>OBJECTID</th>\n",
       "      <th>OBSERVATIONS</th>\n",
       "      <th>LOCATION</th>\n",
       "      <th>ADDRESS</th>\n",
       "      <th>CITY</th>\n",
       "      <th>COUNTY</th>\n",
       "      <th>YEARLYAVG</th>\n",
       "      <th>MAX_</th>\n",
       "      <th>AVG_AQI</th>\n",
       "      <th>SHAPE</th>\n",
       "    </tr>\n",
       "  </thead>\n",
       "  <tbody>\n",
       "    <tr>\n",
       "      <th>14</th>\n",
       "      <td>15</td>\n",
       "      <td>351</td>\n",
       "      <td></td>\n",
       "      <td>1305 E. PACIFIC COAST HWY., LONG BEACH</td>\n",
       "      <td>Long Beach</td>\n",
       "      <td>Los Angeles</td>\n",
       "      <td>10.3664</td>\n",
       "      <td>33.7</td>\n",
       "      <td>40.9345</td>\n",
       "      <td>{\"x\": 391194.5108000003, \"y\": 3739754.40059999...</td>\n",
       "    </tr>\n",
       "    <tr>\n",
       "      <th>15</th>\n",
       "      <td>16</td>\n",
       "      <td>9105</td>\n",
       "      <td>Long Beach (North)</td>\n",
       "      <td>3648 N. LONG BEACH BLVD., LONG BEACH</td>\n",
       "      <td>Long Beach</td>\n",
       "      <td>Los Angeles</td>\n",
       "      <td>11.3943</td>\n",
       "      <td>94.3</td>\n",
       "      <td>43.3488</td>\n",
       "      <td>{\"x\": 389949.7229000004, \"y\": 3743250.8992, \"s...</td>\n",
       "    </tr>\n",
       "    <tr>\n",
       "      <th>18</th>\n",
       "      <td>19</td>\n",
       "      <td>111</td>\n",
       "      <td>Compton</td>\n",
       "      <td>700 North Bullis Road</td>\n",
       "      <td>Compton</td>\n",
       "      <td>Los Angeles</td>\n",
       "      <td>12.5036</td>\n",
       "      <td>38.2</td>\n",
       "      <td>47.3874</td>\n",
       "      <td>{\"x\": 388589.31159999967, \"y\": 3751875.7814000...</td>\n",
       "    </tr>\n",
       "    <tr>\n",
       "      <th>22</th>\n",
       "      <td>23</td>\n",
       "      <td>117</td>\n",
       "      <td>Pico Rivera #2</td>\n",
       "      <td>4144 SAN GABRIEL RIVER PKWY, PICO RIVERA</td>\n",
       "      <td>Pico Rivera</td>\n",
       "      <td>Los Angeles</td>\n",
       "      <td>12.4957</td>\n",
       "      <td>34.9</td>\n",
       "      <td>47.6154</td>\n",
       "      <td>{\"x\": 401204.0968000004, \"y\": 3763995.89340000...</td>\n",
       "    </tr>\n",
       "    <tr>\n",
       "      <th>23</th>\n",
       "      <td>24</td>\n",
       "      <td>112</td>\n",
       "      <td>Ontario Fire Station</td>\n",
       "      <td>1408 FRANCIS ST.</td>\n",
       "      <td>Ontario</td>\n",
       "      <td>San Bernardino</td>\n",
       "      <td>13.0196</td>\n",
       "      <td>46.1</td>\n",
       "      <td>49.5536</td>\n",
       "      <td>{\"x\": 436307.2224000003, \"y\": 3766497.7653, \"s...</td>\n",
       "    </tr>\n",
       "    <tr>\n",
       "      <th>24</th>\n",
       "      <td>25</td>\n",
       "      <td>9048</td>\n",
       "      <td>Los Angeles (Main St.)</td>\n",
       "      <td>1630 N MAIN ST, LOS ANGELES</td>\n",
       "      <td>Los Angeles</td>\n",
       "      <td>Los Angeles</td>\n",
       "      <td>15.3741</td>\n",
       "      <td>95.0</td>\n",
       "      <td>52.5699</td>\n",
       "      <td>{\"x\": 386785.5275999997, \"y\": 3770218.43219999...</td>\n",
       "    </tr>\n",
       "    <tr>\n",
       "      <th>25</th>\n",
       "      <td>26</td>\n",
       "      <td>112</td>\n",
       "      <td>Fontana</td>\n",
       "      <td>14360 ARROW BLVD., FONTANA</td>\n",
       "      <td>Fontana</td>\n",
       "      <td>San Bernardino</td>\n",
       "      <td>11.9321</td>\n",
       "      <td>42.6</td>\n",
       "      <td>45.6429</td>\n",
       "      <td>{\"x\": 454617.0566999996, \"y\": 3773355.33269999...</td>\n",
       "    </tr>\n",
       "    <tr>\n",
       "      <th>26</th>\n",
       "      <td>27</td>\n",
       "      <td>119</td>\n",
       "      <td>San Bernardino</td>\n",
       "      <td>24302 4TH ST., SAN BERNARDINO, CA.</td>\n",
       "      <td>San Bernardino</td>\n",
       "      <td>San Bernardino</td>\n",
       "      <td>11.1714</td>\n",
       "      <td>39.3</td>\n",
       "      <td>42.9664</td>\n",
       "      <td>{\"x\": 474718.24710000027, \"y\": 3774040.6341999...</td>\n",
       "    </tr>\n",
       "    <tr>\n",
       "      <th>27</th>\n",
       "      <td>28</td>\n",
       "      <td>97</td>\n",
       "      <td>Pasadena</td>\n",
       "      <td>752 S. WILSON AVE., PASADENA</td>\n",
       "      <td>Pasadena</td>\n",
       "      <td>Los Angeles</td>\n",
       "      <td>10.1351</td>\n",
       "      <td>35.2</td>\n",
       "      <td>40.6289</td>\n",
       "      <td>{\"x\": 396065.0432000002, \"y\": 3777432.27019999...</td>\n",
       "    </tr>\n",
       "    <tr>\n",
       "      <th>28</th>\n",
       "      <td>29</td>\n",
       "      <td>93</td>\n",
       "      <td>Azusa</td>\n",
       "      <td>803 N. LOREN AVE., AZUSA</td>\n",
       "      <td>Azusa</td>\n",
       "      <td>Los Angeles</td>\n",
       "      <td>11.0204</td>\n",
       "      <td>44.4</td>\n",
       "      <td>42.3118</td>\n",
       "      <td>{\"x\": 414814.2516000001, \"y\": 3777676.4363, \"s...</td>\n",
       "    </tr>\n",
       "    <tr>\n",
       "      <th>29</th>\n",
       "      <td>30</td>\n",
       "      <td>9335</td>\n",
       "      <td>Burbank</td>\n",
       "      <td>228 W. PALM AVE., BURBANK</td>\n",
       "      <td>Burbank</td>\n",
       "      <td>Los Angeles</td>\n",
       "      <td>15.7411</td>\n",
       "      <td>155.0</td>\n",
       "      <td>53.9165</td>\n",
       "      <td>{\"x\": 378614.34700000007, \"y\": 3782460.1578, \"...</td>\n",
       "    </tr>\n",
       "    <tr>\n",
       "      <th>30</th>\n",
       "      <td>31</td>\n",
       "      <td>100</td>\n",
       "      <td>Reseda</td>\n",
       "      <td>18330 GAULT ST., RESEDA</td>\n",
       "      <td>Reseda</td>\n",
       "      <td>Los Angeles</td>\n",
       "      <td>10.1660</td>\n",
       "      <td>40.7</td>\n",
       "      <td>40.0100</td>\n",
       "      <td>{\"x\": 358778.02919999976, \"y\": 3785310.6676000...</td>\n",
       "    </tr>\n",
       "    <tr>\n",
       "      <th>33</th>\n",
       "      <td>34</td>\n",
       "      <td>53</td>\n",
       "      <td>Big Bear</td>\n",
       "      <td>501 W. VALLEY BLVD., BIG BEAR CITY,</td>\n",
       "      <td>Big Bear City</td>\n",
       "      <td>San Bernardino</td>\n",
       "      <td>7.6358</td>\n",
       "      <td>35.4</td>\n",
       "      <td>29.7358</td>\n",
       "      <td>{\"x\": 512479.38210000005, \"y\": 3791485.9474, \"...</td>\n",
       "    </tr>\n",
       "    <tr>\n",
       "      <th>37</th>\n",
       "      <td>38</td>\n",
       "      <td>117</td>\n",
       "      <td>Victorville -Park Avenue</td>\n",
       "      <td>14306 PARK AVE., VICTORVILLE, CA</td>\n",
       "      <td>Victorville</td>\n",
       "      <td>San Bernardino</td>\n",
       "      <td>7.4103</td>\n",
       "      <td>20.0</td>\n",
       "      <td>30.4786</td>\n",
       "      <td>{\"x\": 469576.95239999983, \"y\": 3818757.5249000...</td>\n",
       "    </tr>\n",
       "    <tr>\n",
       "      <th>38</th>\n",
       "      <td>39</td>\n",
       "      <td>57</td>\n",
       "      <td>Antelope Valley Air Monitoring Station</td>\n",
       "      <td>43301 DIVISION ST., LANCASTER, CA</td>\n",
       "      <td>Lancaster</td>\n",
       "      <td>Los Angeles</td>\n",
       "      <td>5.9649</td>\n",
       "      <td>15.0</td>\n",
       "      <td>24.6667</td>\n",
       "      <td>{\"x\": 396339.31379999965, \"y\": 3837185.1926000...</td>\n",
       "    </tr>\n",
       "  </tbody>\n",
       "</table>\n",
       "</div>"
      ],
      "text/plain": [
       "    OBJECTID  OBSERVATIONS                                LOCATION  \\\n",
       "14        15           351                                           \n",
       "15        16          9105                      Long Beach (North)   \n",
       "18        19           111                                 Compton   \n",
       "22        23           117                          Pico Rivera #2   \n",
       "23        24           112                    Ontario Fire Station   \n",
       "24        25          9048                  Los Angeles (Main St.)   \n",
       "25        26           112                                 Fontana   \n",
       "26        27           119                          San Bernardino   \n",
       "27        28            97                                Pasadena   \n",
       "28        29            93                                   Azusa   \n",
       "29        30          9335                                 Burbank   \n",
       "30        31           100                                  Reseda   \n",
       "33        34            53                                Big Bear   \n",
       "37        38           117                Victorville -Park Avenue   \n",
       "38        39            57  Antelope Valley Air Monitoring Station   \n",
       "\n",
       "                                     ADDRESS            CITY          COUNTY  \\\n",
       "14    1305 E. PACIFIC COAST HWY., LONG BEACH      Long Beach     Los Angeles   \n",
       "15      3648 N. LONG BEACH BLVD., LONG BEACH      Long Beach     Los Angeles   \n",
       "18                     700 North Bullis Road         Compton     Los Angeles   \n",
       "22  4144 SAN GABRIEL RIVER PKWY, PICO RIVERA     Pico Rivera     Los Angeles   \n",
       "23                          1408 FRANCIS ST.         Ontario  San Bernardino   \n",
       "24               1630 N MAIN ST, LOS ANGELES     Los Angeles     Los Angeles   \n",
       "25                14360 ARROW BLVD., FONTANA         Fontana  San Bernardino   \n",
       "26        24302 4TH ST., SAN BERNARDINO, CA.  San Bernardino  San Bernardino   \n",
       "27              752 S. WILSON AVE., PASADENA        Pasadena     Los Angeles   \n",
       "28                  803 N. LOREN AVE., AZUSA           Azusa     Los Angeles   \n",
       "29                 228 W. PALM AVE., BURBANK         Burbank     Los Angeles   \n",
       "30                   18330 GAULT ST., RESEDA          Reseda     Los Angeles   \n",
       "33       501 W. VALLEY BLVD., BIG BEAR CITY,   Big Bear City  San Bernardino   \n",
       "37          14306 PARK AVE., VICTORVILLE, CA     Victorville  San Bernardino   \n",
       "38         43301 DIVISION ST., LANCASTER, CA       Lancaster     Los Angeles   \n",
       "\n",
       "    YEARLYAVG   MAX_  AVG_AQI  \\\n",
       "14    10.3664   33.7  40.9345   \n",
       "15    11.3943   94.3  43.3488   \n",
       "18    12.5036   38.2  47.3874   \n",
       "22    12.4957   34.9  47.6154   \n",
       "23    13.0196   46.1  49.5536   \n",
       "24    15.3741   95.0  52.5699   \n",
       "25    11.9321   42.6  45.6429   \n",
       "26    11.1714   39.3  42.9664   \n",
       "27    10.1351   35.2  40.6289   \n",
       "28    11.0204   44.4  42.3118   \n",
       "29    15.7411  155.0  53.9165   \n",
       "30    10.1660   40.7  40.0100   \n",
       "33     7.6358   35.4  29.7358   \n",
       "37     7.4103   20.0  30.4786   \n",
       "38     5.9649   15.0  24.6667   \n",
       "\n",
       "                                                SHAPE  \n",
       "14  {\"x\": 391194.5108000003, \"y\": 3739754.40059999...  \n",
       "15  {\"x\": 389949.7229000004, \"y\": 3743250.8992, \"s...  \n",
       "18  {\"x\": 388589.31159999967, \"y\": 3751875.7814000...  \n",
       "22  {\"x\": 401204.0968000004, \"y\": 3763995.89340000...  \n",
       "23  {\"x\": 436307.2224000003, \"y\": 3766497.7653, \"s...  \n",
       "24  {\"x\": 386785.5275999997, \"y\": 3770218.43219999...  \n",
       "25  {\"x\": 454617.0566999996, \"y\": 3773355.33269999...  \n",
       "26  {\"x\": 474718.24710000027, \"y\": 3774040.6341999...  \n",
       "27  {\"x\": 396065.0432000002, \"y\": 3777432.27019999...  \n",
       "28  {\"x\": 414814.2516000001, \"y\": 3777676.4363, \"s...  \n",
       "29  {\"x\": 378614.34700000007, \"y\": 3782460.1578, \"...  \n",
       "30  {\"x\": 358778.02919999976, \"y\": 3785310.6676000...  \n",
       "33  {\"x\": 512479.38210000005, \"y\": 3791485.9474, \"...  \n",
       "37  {\"x\": 469576.95239999983, \"y\": 3818757.5249000...  \n",
       "38  {\"x\": 396339.31379999965, \"y\": 3837185.1926000...  "
      ]
     },
     "execution_count": 58,
     "metadata": {},
     "output_type": "execute_result"
    }
   ],
   "source": [
    "Annual_pm2_5_df_df_Filtered_df = Annual_pm2_5_df.query(\"COUNTY == 'Los Angeles' | COUNTY == 'San Bernardino'\")\n",
    "Annual_pm2_5_df_df_Filtered_df"
   ]
  },
  {
   "cell_type": "code",
   "execution_count": 59,
   "metadata": {
    "scrolled": false
   },
   "outputs": [
    {
     "name": "stderr",
     "output_type": "stream",
     "text": [
      "/opt/conda/lib/python3.9/site-packages/pandas/core/indexing.py:1817: SettingWithCopyWarning: \n",
      "A value is trying to be set on a copy of a slice from a DataFrame.\n",
      "Try using .loc[row_indexer,col_indexer] = value instead\n",
      "\n",
      "See the caveats in the documentation: https://pandas.pydata.org/pandas-docs/stable/user_guide/indexing.html#returning-a-view-versus-a-copy\n",
      "  self._setitem_single_column(loc, value, pi)\n"
     ]
    },
    {
     "data": {
      "text/html": [
       "<div class=\"item_container\" style=\"height: auto; overflow: hidden; border: 1px solid #cfcfcf; border-radius: 2px; background: #f6fafa; line-height: 1.21429em; padding: 10px;\">\n",
       "                    <div class=\"item_left\" style=\"width: 210px; float: left;\">\n",
       "                       <a href='https://www.arcgis.com/home/item.html?id=45b317c5285647b387ca91ecc54d4a0f' target='_blank'>\n",
       "                        <img src='http://static.arcgis.com/images/desktopapp.png' class=\"itemThumbnail\">\n",
       "                       </a>\n",
       "                    </div>\n",
       "\n",
       "                    <div class=\"item_right\"     style=\"float: none; width: auto; overflow: hidden;\">\n",
       "                        <a href='https://www.arcgis.com/home/item.html?id=45b317c5285647b387ca91ecc54d4a0f' target='_blank'><b>annualpm2.5</b>\n",
       "                        </a>\n",
       "                        <br/><img src='https://www.arcgis.com/home/js/jsapi/esri/css/images/item_type_icons/featureshosted16.png' style=\"vertical-align:middle;\">Feature Layer Collection by david.marcucci\n",
       "                        <br/>Last Modified: December 09, 2022\n",
       "                        <br/>0 comments, 0 views\n",
       "                    </div>\n",
       "                </div>\n",
       "                "
      ],
      "text/plain": [
       "<Item title:\"annualpm2.5\" type:Feature Layer Collection owner:david.marcucci>"
      ]
     },
     "execution_count": 59,
     "metadata": {},
     "output_type": "execute_result"
    }
   ],
   "source": [
    "Annual_pm2_5_df_df_Filtered_df_FilteredLayer = Annual_pm2_5_df_df_Filtered_df.spatial.to_featurelayer(title='annualpm2.5',tags=['pm2.5'])\n",
    "Annual_pm2_5_df_df_Filtered_df_FilteredLayer"
   ]
  },
  {
   "cell_type": "code",
   "execution_count": 60,
   "metadata": {
    "scrolled": true
   },
   "outputs": [
    {
     "data": {
      "application/vnd.jupyter.widget-view+json": {
       "model_id": "554156036e264267baed64adb3928685",
       "version_major": 2,
       "version_minor": 0
      },
      "text/plain": [
       "MapView(layout=Layout(height='400px', width='100%'))"
      ]
     },
     "metadata": {},
     "output_type": "display_data"
    },
    {
     "data": {
      "text/html": [
       "<div class=\"map-static-img-preview-182f8c39-5220-4e88-9089-4663a43f973f\"><img src=\"\"></img></div>"
      ],
      "text/plain": [
       "<IPython.core.display.HTML object>"
      ]
     },
     "metadata": {},
     "output_type": "display_data"
    },
    {
     "data": {
      "text/html": [
       "<div class=\"map-html-embed-preview-182f8c39-5220-4e88-9089-4663a43f973f\"></div>"
      ],
      "text/plain": [
       "<IPython.core.display.HTML object>"
      ]
     },
     "metadata": {},
     "output_type": "display_data"
    }
   ],
   "source": [
    "map_view_3 = Annual_pm2_5_df_df_Filtered_df.spatial.plot(alpha=0.10)\n",
    "map_view_3"
   ]
  },
  {
   "cell_type": "markdown",
   "metadata": {},
   "source": [
    "### 3. ASTHMA EFFECT DUE TO PM 2.5 IN LOS ANGELES AND SAN BERNARDINO COUNTY"
   ]
  },
  {
   "cell_type": "code",
   "execution_count": 61,
   "metadata": {},
   "outputs": [],
   "source": [
    "asthma_sdf = pd.DataFrame.spatial.from_featureclass(os.path.join(calenviro,'asthma_cal'))"
   ]
  },
  {
   "cell_type": "code",
   "execution_count": 62,
   "metadata": {},
   "outputs": [
    {
     "data": {
      "text/html": [
       "<div>\n",
       "<style scoped>\n",
       "    .dataframe tbody tr th:only-of-type {\n",
       "        vertical-align: middle;\n",
       "    }\n",
       "\n",
       "    .dataframe tbody tr th {\n",
       "        vertical-align: top;\n",
       "    }\n",
       "\n",
       "    .dataframe thead th {\n",
       "        text-align: right;\n",
       "    }\n",
       "</style>\n",
       "<table border=\"1\" class=\"dataframe\">\n",
       "  <thead>\n",
       "    <tr style=\"text-align: right;\">\n",
       "      <th></th>\n",
       "      <th>OBJECTID</th>\n",
       "      <th>Census_Tract</th>\n",
       "      <th>Total_Population</th>\n",
       "      <th>California_County</th>\n",
       "      <th>ZIP</th>\n",
       "      <th>Approximate_Location</th>\n",
       "      <th>Longitude</th>\n",
       "      <th>Latitude</th>\n",
       "      <th>CES_4_0_Score</th>\n",
       "      <th>CES_4_0_Percentile</th>\n",
       "      <th>...</th>\n",
       "      <th>Poverty</th>\n",
       "      <th>Poverty_Pctl</th>\n",
       "      <th>Unemployment</th>\n",
       "      <th>Unemployment_Pctl</th>\n",
       "      <th>Housing_Burden</th>\n",
       "      <th>Housing_Burden_Pctl</th>\n",
       "      <th>Pop__Char_</th>\n",
       "      <th>Pop__Char__Score</th>\n",
       "      <th>Pop__Char__Pctl</th>\n",
       "      <th>SHAPE</th>\n",
       "    </tr>\n",
       "  </thead>\n",
       "  <tbody>\n",
       "    <tr>\n",
       "      <th>0</th>\n",
       "      <td>1</td>\n",
       "      <td>6.019001e+09</td>\n",
       "      <td>2780</td>\n",
       "      <td>Fresno</td>\n",
       "      <td>93706</td>\n",
       "      <td>Fresno</td>\n",
       "      <td>-119.781696</td>\n",
       "      <td>36.709695</td>\n",
       "      <td>93.18</td>\n",
       "      <td>100.00</td>\n",
       "      <td>...</td>\n",
       "      <td>76.0</td>\n",
       "      <td>98.92</td>\n",
       "      <td>12.8</td>\n",
       "      <td>93.83</td>\n",
       "      <td>30.3</td>\n",
       "      <td>91.04</td>\n",
       "      <td>93.16</td>\n",
       "      <td>9.66</td>\n",
       "      <td>99.72</td>\n",
       "      <td>{\"x\": -119.78169609999998, \"y\": 36.70969520000...</td>\n",
       "    </tr>\n",
       "    <tr>\n",
       "      <th>1</th>\n",
       "      <td>2</td>\n",
       "      <td>6.077001e+09</td>\n",
       "      <td>4680</td>\n",
       "      <td>San Joaquin</td>\n",
       "      <td>95206</td>\n",
       "      <td>Stockton</td>\n",
       "      <td>-121.287873</td>\n",
       "      <td>37.943173</td>\n",
       "      <td>86.65</td>\n",
       "      <td>99.99</td>\n",
       "      <td>...</td>\n",
       "      <td>73.2</td>\n",
       "      <td>98.39</td>\n",
       "      <td>19.8</td>\n",
       "      <td>99.21</td>\n",
       "      <td>31.2</td>\n",
       "      <td>92.28</td>\n",
       "      <td>93.17</td>\n",
       "      <td>9.66</td>\n",
       "      <td>99.74</td>\n",
       "      <td>{\"x\": -121.28787289999997, \"y\": 37.94317270000...</td>\n",
       "    </tr>\n",
       "    <tr>\n",
       "      <th>2</th>\n",
       "      <td>3</td>\n",
       "      <td>6.037205e+09</td>\n",
       "      <td>2751</td>\n",
       "      <td>Los Angeles</td>\n",
       "      <td>90023</td>\n",
       "      <td>Los Angeles</td>\n",
       "      <td>-118.197497</td>\n",
       "      <td>34.017500</td>\n",
       "      <td>82.39</td>\n",
       "      <td>99.97</td>\n",
       "      <td>...</td>\n",
       "      <td>62.6</td>\n",
       "      <td>93.39</td>\n",
       "      <td>6.4</td>\n",
       "      <td>61.53</td>\n",
       "      <td>20.3</td>\n",
       "      <td>63.97</td>\n",
       "      <td>83.75</td>\n",
       "      <td>8.69</td>\n",
       "      <td>95.79</td>\n",
       "      <td>{\"x\": -118.19749749999994, \"y\": 34.01750040000...</td>\n",
       "    </tr>\n",
       "    <tr>\n",
       "      <th>3</th>\n",
       "      <td>4</td>\n",
       "      <td>6.019001e+09</td>\n",
       "      <td>3664</td>\n",
       "      <td>Fresno</td>\n",
       "      <td>93706</td>\n",
       "      <td>Fresno</td>\n",
       "      <td>-119.827707</td>\n",
       "      <td>36.734535</td>\n",
       "      <td>81.33</td>\n",
       "      <td>99.96</td>\n",
       "      <td>...</td>\n",
       "      <td>65.7</td>\n",
       "      <td>95.35</td>\n",
       "      <td>15.7</td>\n",
       "      <td>97.35</td>\n",
       "      <td>35.4</td>\n",
       "      <td>96.41</td>\n",
       "      <td>94.64</td>\n",
       "      <td>9.82</td>\n",
       "      <td>99.89</td>\n",
       "      <td>{\"x\": -119.82770689999995, \"y\": 36.73453530000...</td>\n",
       "    </tr>\n",
       "    <tr>\n",
       "      <th>4</th>\n",
       "      <td>5</td>\n",
       "      <td>6.019000e+09</td>\n",
       "      <td>2689</td>\n",
       "      <td>Fresno</td>\n",
       "      <td>93706</td>\n",
       "      <td>Fresno</td>\n",
       "      <td>-119.805504</td>\n",
       "      <td>36.735491</td>\n",
       "      <td>80.75</td>\n",
       "      <td>99.95</td>\n",
       "      <td>...</td>\n",
       "      <td>72.7</td>\n",
       "      <td>98.30</td>\n",
       "      <td>13.7</td>\n",
       "      <td>95.29</td>\n",
       "      <td>32.7</td>\n",
       "      <td>94.16</td>\n",
       "      <td>95.40</td>\n",
       "      <td>9.90</td>\n",
       "      <td>99.95</td>\n",
       "      <td>{\"x\": -119.80550439999996, \"y\": 36.73549140000...</td>\n",
       "    </tr>\n",
       "    <tr>\n",
       "      <th>...</th>\n",
       "      <td>...</td>\n",
       "      <td>...</td>\n",
       "      <td>...</td>\n",
       "      <td>...</td>\n",
       "      <td>...</td>\n",
       "      <td>...</td>\n",
       "      <td>...</td>\n",
       "      <td>...</td>\n",
       "      <td>...</td>\n",
       "      <td>...</td>\n",
       "      <td>...</td>\n",
       "      <td>...</td>\n",
       "      <td>...</td>\n",
       "      <td>...</td>\n",
       "      <td>...</td>\n",
       "      <td>...</td>\n",
       "      <td>...</td>\n",
       "      <td>...</td>\n",
       "      <td>...</td>\n",
       "      <td>...</td>\n",
       "      <td>...</td>\n",
       "    </tr>\n",
       "    <tr>\n",
       "      <th>995</th>\n",
       "      <td>996</td>\n",
       "      <td>6.037237e+09</td>\n",
       "      <td>5311</td>\n",
       "      <td>Los Angeles</td>\n",
       "      <td>90047</td>\n",
       "      <td>Los Angeles</td>\n",
       "      <td>-118.311071</td>\n",
       "      <td>33.978283</td>\n",
       "      <td>49.65</td>\n",
       "      <td>87.46</td>\n",
       "      <td>...</td>\n",
       "      <td>43.4</td>\n",
       "      <td>73.89</td>\n",
       "      <td>8.4</td>\n",
       "      <td>77.76</td>\n",
       "      <td>39.5</td>\n",
       "      <td>98.44</td>\n",
       "      <td>81.04</td>\n",
       "      <td>8.41</td>\n",
       "      <td>93.56</td>\n",
       "      <td>{\"x\": -118.31107139999995, \"y\": 33.97828330000...</td>\n",
       "    </tr>\n",
       "    <tr>\n",
       "      <th>996</th>\n",
       "      <td>997</td>\n",
       "      <td>6.037121e+09</td>\n",
       "      <td>2420</td>\n",
       "      <td>Los Angeles</td>\n",
       "      <td>91352</td>\n",
       "      <td>Los Angeles</td>\n",
       "      <td>-118.395556</td>\n",
       "      <td>34.227607</td>\n",
       "      <td>49.61</td>\n",
       "      <td>87.44</td>\n",
       "      <td>...</td>\n",
       "      <td>29.2</td>\n",
       "      <td>52.53</td>\n",
       "      <td>8.7</td>\n",
       "      <td>79.72</td>\n",
       "      <td>22.6</td>\n",
       "      <td>72.60</td>\n",
       "      <td>60.32</td>\n",
       "      <td>6.26</td>\n",
       "      <td>66.04</td>\n",
       "      <td>{\"x\": -118.39555639999998, \"y\": 34.22760730000...</td>\n",
       "    </tr>\n",
       "    <tr>\n",
       "      <th>997</th>\n",
       "      <td>998</td>\n",
       "      <td>6.037530e+09</td>\n",
       "      <td>2211</td>\n",
       "      <td>Los Angeles</td>\n",
       "      <td>90022</td>\n",
       "      <td>East Los Angeles</td>\n",
       "      <td>-118.155189</td>\n",
       "      <td>34.029461</td>\n",
       "      <td>49.60</td>\n",
       "      <td>87.43</td>\n",
       "      <td>...</td>\n",
       "      <td>46.2</td>\n",
       "      <td>77.65</td>\n",
       "      <td>6.3</td>\n",
       "      <td>60.57</td>\n",
       "      <td>26.2</td>\n",
       "      <td>83.08</td>\n",
       "      <td>81.30</td>\n",
       "      <td>8.43</td>\n",
       "      <td>93.84</td>\n",
       "      <td>{\"x\": -118.15518899999995, \"y\": 34.02946150000...</td>\n",
       "    </tr>\n",
       "    <tr>\n",
       "      <th>998</th>\n",
       "      <td>999</td>\n",
       "      <td>6.037570e+09</td>\n",
       "      <td>5094</td>\n",
       "      <td>Los Angeles</td>\n",
       "      <td>90805</td>\n",
       "      <td>Long Beach</td>\n",
       "      <td>-118.192697</td>\n",
       "      <td>33.856318</td>\n",
       "      <td>49.59</td>\n",
       "      <td>87.42</td>\n",
       "      <td>...</td>\n",
       "      <td>54.2</td>\n",
       "      <td>86.22</td>\n",
       "      <td>5.5</td>\n",
       "      <td>51.26</td>\n",
       "      <td>15.4</td>\n",
       "      <td>40.90</td>\n",
       "      <td>70.84</td>\n",
       "      <td>7.35</td>\n",
       "      <td>81.14</td>\n",
       "      <td>{\"x\": -118.19269679999996, \"y\": 33.85631770000...</td>\n",
       "    </tr>\n",
       "    <tr>\n",
       "      <th>999</th>\n",
       "      <td>1000</td>\n",
       "      <td>6.037530e+09</td>\n",
       "      <td>6849</td>\n",
       "      <td>Los Angeles</td>\n",
       "      <td>90022</td>\n",
       "      <td>East Los Angeles</td>\n",
       "      <td>-118.147946</td>\n",
       "      <td>34.027811</td>\n",
       "      <td>49.56</td>\n",
       "      <td>87.41</td>\n",
       "      <td>...</td>\n",
       "      <td>45.8</td>\n",
       "      <td>77.20</td>\n",
       "      <td>12.4</td>\n",
       "      <td>93.09</td>\n",
       "      <td>18.3</td>\n",
       "      <td>55.49</td>\n",
       "      <td>73.88</td>\n",
       "      <td>7.66</td>\n",
       "      <td>85.19</td>\n",
       "      <td>{\"x\": -118.14794579999995, \"y\": 34.02781150000...</td>\n",
       "    </tr>\n",
       "  </tbody>\n",
       "</table>\n",
       "<p>1000 rows × 60 columns</p>\n",
       "</div>"
      ],
      "text/plain": [
       "     OBJECTID  Census_Tract  Total_Population California_County    ZIP  \\\n",
       "0           1  6.019001e+09              2780           Fresno   93706   \n",
       "1           2  6.077001e+09              4680       San Joaquin  95206   \n",
       "2           3  6.037205e+09              2751       Los Angeles  90023   \n",
       "3           4  6.019001e+09              3664           Fresno   93706   \n",
       "4           5  6.019000e+09              2689           Fresno   93706   \n",
       "..        ...           ...               ...               ...    ...   \n",
       "995       996  6.037237e+09              5311       Los Angeles  90047   \n",
       "996       997  6.037121e+09              2420       Los Angeles  91352   \n",
       "997       998  6.037530e+09              2211       Los Angeles  90022   \n",
       "998       999  6.037570e+09              5094       Los Angeles  90805   \n",
       "999      1000  6.037530e+09              6849       Los Angeles  90022   \n",
       "\n",
       "    Approximate_Location   Longitude   Latitude  CES_4_0_Score  \\\n",
       "0                 Fresno -119.781696  36.709695          93.18   \n",
       "1               Stockton -121.287873  37.943173          86.65   \n",
       "2            Los Angeles -118.197497  34.017500          82.39   \n",
       "3                 Fresno -119.827707  36.734535          81.33   \n",
       "4                 Fresno -119.805504  36.735491          80.75   \n",
       "..                   ...         ...        ...            ...   \n",
       "995          Los Angeles -118.311071  33.978283          49.65   \n",
       "996          Los Angeles -118.395556  34.227607          49.61   \n",
       "997     East Los Angeles -118.155189  34.029461          49.60   \n",
       "998           Long Beach -118.192697  33.856318          49.59   \n",
       "999     East Los Angeles -118.147946  34.027811          49.56   \n",
       "\n",
       "     CES_4_0_Percentile  ... Poverty  Poverty_Pctl  Unemployment  \\\n",
       "0                100.00  ...    76.0         98.92          12.8   \n",
       "1                 99.99  ...    73.2         98.39          19.8   \n",
       "2                 99.97  ...    62.6         93.39           6.4   \n",
       "3                 99.96  ...    65.7         95.35          15.7   \n",
       "4                 99.95  ...    72.7         98.30          13.7   \n",
       "..                  ...  ...     ...           ...           ...   \n",
       "995               87.46  ...    43.4         73.89           8.4   \n",
       "996               87.44  ...    29.2         52.53           8.7   \n",
       "997               87.43  ...    46.2         77.65           6.3   \n",
       "998               87.42  ...    54.2         86.22           5.5   \n",
       "999               87.41  ...    45.8         77.20          12.4   \n",
       "\n",
       "     Unemployment_Pctl  Housing_Burden  Housing_Burden_Pctl  Pop__Char_  \\\n",
       "0                93.83            30.3                91.04       93.16   \n",
       "1                99.21            31.2                92.28       93.17   \n",
       "2                61.53            20.3                63.97       83.75   \n",
       "3                97.35            35.4                96.41       94.64   \n",
       "4                95.29            32.7                94.16       95.40   \n",
       "..                 ...             ...                  ...         ...   \n",
       "995              77.76            39.5                98.44       81.04   \n",
       "996              79.72            22.6                72.60       60.32   \n",
       "997              60.57            26.2                83.08       81.30   \n",
       "998              51.26            15.4                40.90       70.84   \n",
       "999              93.09            18.3                55.49       73.88   \n",
       "\n",
       "     Pop__Char__Score  Pop__Char__Pctl  \\\n",
       "0                9.66            99.72   \n",
       "1                9.66            99.74   \n",
       "2                8.69            95.79   \n",
       "3                9.82            99.89   \n",
       "4                9.90            99.95   \n",
       "..                ...              ...   \n",
       "995              8.41            93.56   \n",
       "996              6.26            66.04   \n",
       "997              8.43            93.84   \n",
       "998              7.35            81.14   \n",
       "999              7.66            85.19   \n",
       "\n",
       "                                                 SHAPE  \n",
       "0    {\"x\": -119.78169609999998, \"y\": 36.70969520000...  \n",
       "1    {\"x\": -121.28787289999997, \"y\": 37.94317270000...  \n",
       "2    {\"x\": -118.19749749999994, \"y\": 34.01750040000...  \n",
       "3    {\"x\": -119.82770689999995, \"y\": 36.73453530000...  \n",
       "4    {\"x\": -119.80550439999996, \"y\": 36.73549140000...  \n",
       "..                                                 ...  \n",
       "995  {\"x\": -118.31107139999995, \"y\": 33.97828330000...  \n",
       "996  {\"x\": -118.39555639999998, \"y\": 34.22760730000...  \n",
       "997  {\"x\": -118.15518899999995, \"y\": 34.02946150000...  \n",
       "998  {\"x\": -118.19269679999996, \"y\": 33.85631770000...  \n",
       "999  {\"x\": -118.14794579999995, \"y\": 34.02781150000...  \n",
       "\n",
       "[1000 rows x 60 columns]"
      ]
     },
     "execution_count": 62,
     "metadata": {},
     "output_type": "execute_result"
    }
   ],
   "source": [
    "asthma_sdf_df = asthma_sdf.head(1000)\n",
    "asthma_sdf_df"
   ]
  },
  {
   "cell_type": "code",
   "execution_count": 63,
   "metadata": {},
   "outputs": [
    {
     "data": {
      "text/plain": [
       "Index(['OBJECTID', 'Census_Tract', 'Total_Population', 'California_County',\n",
       "       'ZIP', 'Approximate_Location', 'Longitude', 'Latitude', 'CES_4_0_Score',\n",
       "       'CES_4_0_Percentile', 'CES_4_0_Percentile_Range', 'Ozone', 'Ozone_Pctl',\n",
       "       'PM2_5', 'PM2_5_Pctl', 'Diesel_PM', 'Diesel_PM_Pctl', 'Drinking_Water',\n",
       "       'Drinking_Water_Pctl', 'Lead', 'Lead_Pctl', 'Pesticides',\n",
       "       'Pesticides_Pctl', 'Tox__Release', 'Tox__Release_Pctl', 'Traffic',\n",
       "       'Traffic_Pctl', 'Cleanup_Sites', 'Cleanup_Sites_Pctl',\n",
       "       'Groundwater_Threats', 'Groundwater_Threats_Pctl', 'Haz__Waste',\n",
       "       'Haz__Waste_Pctl', 'Imp__Water_Bodies', 'Imp__Water_Bodies_Pctl',\n",
       "       'Solid_Waste', 'Solid_Waste_Pctl', 'Pollution_Burden',\n",
       "       'Pollution_Burden_Score', 'Pollution_Burden_Pctl', 'Asthma',\n",
       "       'Asthma_Pctl', 'Low_Birth_Weight', 'Low_Birth_Weight_Pctl',\n",
       "       'Cardiovascular_Disease', 'Cardiovascular_Disease_Pctl', 'Education',\n",
       "       'Education_Pctl', 'Linguistic_Isolation', 'Linguistic_Isolation_Pctl',\n",
       "       'Poverty', 'Poverty_Pctl', 'Unemployment', 'Unemployment_Pctl',\n",
       "       'Housing_Burden', 'Housing_Burden_Pctl', 'Pop__Char_',\n",
       "       'Pop__Char__Score', 'Pop__Char__Pctl', 'SHAPE'],\n",
       "      dtype='object')"
      ]
     },
     "execution_count": 63,
     "metadata": {},
     "output_type": "execute_result"
    }
   ],
   "source": [
    "# Exploring the dataset attributs\n",
    "asthma_sdf_df.columns"
   ]
  },
  {
   "cell_type": "code",
   "execution_count": 64,
   "metadata": {
    "scrolled": true
   },
   "outputs": [
    {
     "data": {
      "text/html": [
       "<div>\n",
       "<style scoped>\n",
       "    .dataframe tbody tr th:only-of-type {\n",
       "        vertical-align: middle;\n",
       "    }\n",
       "\n",
       "    .dataframe tbody tr th {\n",
       "        vertical-align: top;\n",
       "    }\n",
       "\n",
       "    .dataframe thead th {\n",
       "        text-align: right;\n",
       "    }\n",
       "</style>\n",
       "<table border=\"1\" class=\"dataframe\">\n",
       "  <thead>\n",
       "    <tr style=\"text-align: right;\">\n",
       "      <th></th>\n",
       "      <th>OBJECTID</th>\n",
       "      <th>Census_Tract</th>\n",
       "      <th>Total_Population</th>\n",
       "      <th>California_County</th>\n",
       "      <th>ZIP</th>\n",
       "      <th>Approximate_Location</th>\n",
       "      <th>Longitude</th>\n",
       "      <th>Latitude</th>\n",
       "      <th>CES_4_0_Score</th>\n",
       "      <th>CES_4_0_Percentile</th>\n",
       "      <th>...</th>\n",
       "      <th>Poverty</th>\n",
       "      <th>Poverty_Pctl</th>\n",
       "      <th>Unemployment</th>\n",
       "      <th>Unemployment_Pctl</th>\n",
       "      <th>Housing_Burden</th>\n",
       "      <th>Housing_Burden_Pctl</th>\n",
       "      <th>Pop__Char_</th>\n",
       "      <th>Pop__Char__Score</th>\n",
       "      <th>Pop__Char__Pctl</th>\n",
       "      <th>SHAPE</th>\n",
       "    </tr>\n",
       "  </thead>\n",
       "  <tbody>\n",
       "    <tr>\n",
       "      <th>2</th>\n",
       "      <td>3</td>\n",
       "      <td>6.037205e+09</td>\n",
       "      <td>2751</td>\n",
       "      <td>Los Angeles</td>\n",
       "      <td>90023</td>\n",
       "      <td>Los Angeles</td>\n",
       "      <td>-118.197497</td>\n",
       "      <td>34.017500</td>\n",
       "      <td>82.39</td>\n",
       "      <td>99.97</td>\n",
       "      <td>...</td>\n",
       "      <td>62.6</td>\n",
       "      <td>93.39</td>\n",
       "      <td>6.4</td>\n",
       "      <td>61.53</td>\n",
       "      <td>20.3</td>\n",
       "      <td>63.97</td>\n",
       "      <td>83.75</td>\n",
       "      <td>8.69</td>\n",
       "      <td>95.79</td>\n",
       "      <td>{\"x\": -118.19749749999994, \"y\": 34.01750040000...</td>\n",
       "    </tr>\n",
       "    <tr>\n",
       "      <th>5</th>\n",
       "      <td>6</td>\n",
       "      <td>6.037542e+09</td>\n",
       "      <td>3306</td>\n",
       "      <td>Los Angeles</td>\n",
       "      <td>90221</td>\n",
       "      <td>Compton</td>\n",
       "      <td>-118.212413</td>\n",
       "      <td>33.881969</td>\n",
       "      <td>80.71</td>\n",
       "      <td>99.94</td>\n",
       "      <td>...</td>\n",
       "      <td>43.5</td>\n",
       "      <td>74.05</td>\n",
       "      <td>9.3</td>\n",
       "      <td>83.22</td>\n",
       "      <td>23.7</td>\n",
       "      <td>76.35</td>\n",
       "      <td>83.37</td>\n",
       "      <td>8.65</td>\n",
       "      <td>95.46</td>\n",
       "      <td>{\"x\": -118.21241339999995, \"y\": 33.88196900000...</td>\n",
       "    </tr>\n",
       "    <tr>\n",
       "      <th>7</th>\n",
       "      <td>8</td>\n",
       "      <td>6.037543e+09</td>\n",
       "      <td>5124</td>\n",
       "      <td>Los Angeles</td>\n",
       "      <td>90220</td>\n",
       "      <td>Compton</td>\n",
       "      <td>-118.230032</td>\n",
       "      <td>33.879862</td>\n",
       "      <td>79.29</td>\n",
       "      <td>99.91</td>\n",
       "      <td>...</td>\n",
       "      <td>56.8</td>\n",
       "      <td>88.92</td>\n",
       "      <td>12.6</td>\n",
       "      <td>93.49</td>\n",
       "      <td>29.6</td>\n",
       "      <td>89.84</td>\n",
       "      <td>85.44</td>\n",
       "      <td>8.86</td>\n",
       "      <td>96.90</td>\n",
       "      <td>{\"x\": -118.230032, \"y\": 33.87986170000005, \"sp...</td>\n",
       "    </tr>\n",
       "    <tr>\n",
       "      <th>10</th>\n",
       "      <td>11</td>\n",
       "      <td>6.037203e+09</td>\n",
       "      <td>2000</td>\n",
       "      <td>Los Angeles</td>\n",
       "      <td>90033</td>\n",
       "      <td>Los Angeles</td>\n",
       "      <td>-118.207788</td>\n",
       "      <td>34.058872</td>\n",
       "      <td>77.35</td>\n",
       "      <td>99.87</td>\n",
       "      <td>...</td>\n",
       "      <td>71.7</td>\n",
       "      <td>97.95</td>\n",
       "      <td>11.9</td>\n",
       "      <td>91.94</td>\n",
       "      <td>28.3</td>\n",
       "      <td>87.49</td>\n",
       "      <td>82.01</td>\n",
       "      <td>8.51</td>\n",
       "      <td>94.49</td>\n",
       "      <td>{\"x\": -118.20778829999995, \"y\": 34.05887230000...</td>\n",
       "    </tr>\n",
       "    <tr>\n",
       "      <th>11</th>\n",
       "      <td>12</td>\n",
       "      <td>6.037291e+09</td>\n",
       "      <td>3640</td>\n",
       "      <td>Los Angeles</td>\n",
       "      <td>90247</td>\n",
       "      <td>Los Angeles</td>\n",
       "      <td>-118.286709</td>\n",
       "      <td>33.877139</td>\n",
       "      <td>77.25</td>\n",
       "      <td>99.86</td>\n",
       "      <td>...</td>\n",
       "      <td>51.5</td>\n",
       "      <td>83.49</td>\n",
       "      <td>4.5</td>\n",
       "      <td>37.71</td>\n",
       "      <td>26.1</td>\n",
       "      <td>82.79</td>\n",
       "      <td>74.47</td>\n",
       "      <td>7.73</td>\n",
       "      <td>86.01</td>\n",
       "      <td>{\"x\": -118.28670899999997, \"y\": 33.87713950000...</td>\n",
       "    </tr>\n",
       "    <tr>\n",
       "      <th>...</th>\n",
       "      <td>...</td>\n",
       "      <td>...</td>\n",
       "      <td>...</td>\n",
       "      <td>...</td>\n",
       "      <td>...</td>\n",
       "      <td>...</td>\n",
       "      <td>...</td>\n",
       "      <td>...</td>\n",
       "      <td>...</td>\n",
       "      <td>...</td>\n",
       "      <td>...</td>\n",
       "      <td>...</td>\n",
       "      <td>...</td>\n",
       "      <td>...</td>\n",
       "      <td>...</td>\n",
       "      <td>...</td>\n",
       "      <td>...</td>\n",
       "      <td>...</td>\n",
       "      <td>...</td>\n",
       "      <td>...</td>\n",
       "      <td>...</td>\n",
       "    </tr>\n",
       "    <tr>\n",
       "      <th>995</th>\n",
       "      <td>996</td>\n",
       "      <td>6.037237e+09</td>\n",
       "      <td>5311</td>\n",
       "      <td>Los Angeles</td>\n",
       "      <td>90047</td>\n",
       "      <td>Los Angeles</td>\n",
       "      <td>-118.311071</td>\n",
       "      <td>33.978283</td>\n",
       "      <td>49.65</td>\n",
       "      <td>87.46</td>\n",
       "      <td>...</td>\n",
       "      <td>43.4</td>\n",
       "      <td>73.89</td>\n",
       "      <td>8.4</td>\n",
       "      <td>77.76</td>\n",
       "      <td>39.5</td>\n",
       "      <td>98.44</td>\n",
       "      <td>81.04</td>\n",
       "      <td>8.41</td>\n",
       "      <td>93.56</td>\n",
       "      <td>{\"x\": -118.31107139999995, \"y\": 33.97828330000...</td>\n",
       "    </tr>\n",
       "    <tr>\n",
       "      <th>996</th>\n",
       "      <td>997</td>\n",
       "      <td>6.037121e+09</td>\n",
       "      <td>2420</td>\n",
       "      <td>Los Angeles</td>\n",
       "      <td>91352</td>\n",
       "      <td>Los Angeles</td>\n",
       "      <td>-118.395556</td>\n",
       "      <td>34.227607</td>\n",
       "      <td>49.61</td>\n",
       "      <td>87.44</td>\n",
       "      <td>...</td>\n",
       "      <td>29.2</td>\n",
       "      <td>52.53</td>\n",
       "      <td>8.7</td>\n",
       "      <td>79.72</td>\n",
       "      <td>22.6</td>\n",
       "      <td>72.60</td>\n",
       "      <td>60.32</td>\n",
       "      <td>6.26</td>\n",
       "      <td>66.04</td>\n",
       "      <td>{\"x\": -118.39555639999998, \"y\": 34.22760730000...</td>\n",
       "    </tr>\n",
       "    <tr>\n",
       "      <th>997</th>\n",
       "      <td>998</td>\n",
       "      <td>6.037530e+09</td>\n",
       "      <td>2211</td>\n",
       "      <td>Los Angeles</td>\n",
       "      <td>90022</td>\n",
       "      <td>East Los Angeles</td>\n",
       "      <td>-118.155189</td>\n",
       "      <td>34.029461</td>\n",
       "      <td>49.60</td>\n",
       "      <td>87.43</td>\n",
       "      <td>...</td>\n",
       "      <td>46.2</td>\n",
       "      <td>77.65</td>\n",
       "      <td>6.3</td>\n",
       "      <td>60.57</td>\n",
       "      <td>26.2</td>\n",
       "      <td>83.08</td>\n",
       "      <td>81.30</td>\n",
       "      <td>8.43</td>\n",
       "      <td>93.84</td>\n",
       "      <td>{\"x\": -118.15518899999995, \"y\": 34.02946150000...</td>\n",
       "    </tr>\n",
       "    <tr>\n",
       "      <th>998</th>\n",
       "      <td>999</td>\n",
       "      <td>6.037570e+09</td>\n",
       "      <td>5094</td>\n",
       "      <td>Los Angeles</td>\n",
       "      <td>90805</td>\n",
       "      <td>Long Beach</td>\n",
       "      <td>-118.192697</td>\n",
       "      <td>33.856318</td>\n",
       "      <td>49.59</td>\n",
       "      <td>87.42</td>\n",
       "      <td>...</td>\n",
       "      <td>54.2</td>\n",
       "      <td>86.22</td>\n",
       "      <td>5.5</td>\n",
       "      <td>51.26</td>\n",
       "      <td>15.4</td>\n",
       "      <td>40.90</td>\n",
       "      <td>70.84</td>\n",
       "      <td>7.35</td>\n",
       "      <td>81.14</td>\n",
       "      <td>{\"x\": -118.19269679999996, \"y\": 33.85631770000...</td>\n",
       "    </tr>\n",
       "    <tr>\n",
       "      <th>999</th>\n",
       "      <td>1000</td>\n",
       "      <td>6.037530e+09</td>\n",
       "      <td>6849</td>\n",
       "      <td>Los Angeles</td>\n",
       "      <td>90022</td>\n",
       "      <td>East Los Angeles</td>\n",
       "      <td>-118.147946</td>\n",
       "      <td>34.027811</td>\n",
       "      <td>49.56</td>\n",
       "      <td>87.41</td>\n",
       "      <td>...</td>\n",
       "      <td>45.8</td>\n",
       "      <td>77.20</td>\n",
       "      <td>12.4</td>\n",
       "      <td>93.09</td>\n",
       "      <td>18.3</td>\n",
       "      <td>55.49</td>\n",
       "      <td>73.88</td>\n",
       "      <td>7.66</td>\n",
       "      <td>85.19</td>\n",
       "      <td>{\"x\": -118.14794579999995, \"y\": 34.02781150000...</td>\n",
       "    </tr>\n",
       "  </tbody>\n",
       "</table>\n",
       "<p>691 rows × 60 columns</p>\n",
       "</div>"
      ],
      "text/plain": [
       "     OBJECTID  Census_Tract  Total_Population California_County    ZIP  \\\n",
       "2           3  6.037205e+09              2751       Los Angeles  90023   \n",
       "5           6  6.037542e+09              3306       Los Angeles  90221   \n",
       "7           8  6.037543e+09              5124       Los Angeles  90220   \n",
       "10         11  6.037203e+09              2000       Los Angeles  90033   \n",
       "11         12  6.037291e+09              3640       Los Angeles  90247   \n",
       "..        ...           ...               ...               ...    ...   \n",
       "995       996  6.037237e+09              5311       Los Angeles  90047   \n",
       "996       997  6.037121e+09              2420       Los Angeles  91352   \n",
       "997       998  6.037530e+09              2211       Los Angeles  90022   \n",
       "998       999  6.037570e+09              5094       Los Angeles  90805   \n",
       "999      1000  6.037530e+09              6849       Los Angeles  90022   \n",
       "\n",
       "    Approximate_Location   Longitude   Latitude  CES_4_0_Score  \\\n",
       "2            Los Angeles -118.197497  34.017500          82.39   \n",
       "5                Compton -118.212413  33.881969          80.71   \n",
       "7                Compton -118.230032  33.879862          79.29   \n",
       "10           Los Angeles -118.207788  34.058872          77.35   \n",
       "11           Los Angeles -118.286709  33.877139          77.25   \n",
       "..                   ...         ...        ...            ...   \n",
       "995          Los Angeles -118.311071  33.978283          49.65   \n",
       "996          Los Angeles -118.395556  34.227607          49.61   \n",
       "997     East Los Angeles -118.155189  34.029461          49.60   \n",
       "998           Long Beach -118.192697  33.856318          49.59   \n",
       "999     East Los Angeles -118.147946  34.027811          49.56   \n",
       "\n",
       "     CES_4_0_Percentile  ... Poverty  Poverty_Pctl  Unemployment  \\\n",
       "2                 99.97  ...    62.6         93.39           6.4   \n",
       "5                 99.94  ...    43.5         74.05           9.3   \n",
       "7                 99.91  ...    56.8         88.92          12.6   \n",
       "10                99.87  ...    71.7         97.95          11.9   \n",
       "11                99.86  ...    51.5         83.49           4.5   \n",
       "..                  ...  ...     ...           ...           ...   \n",
       "995               87.46  ...    43.4         73.89           8.4   \n",
       "996               87.44  ...    29.2         52.53           8.7   \n",
       "997               87.43  ...    46.2         77.65           6.3   \n",
       "998               87.42  ...    54.2         86.22           5.5   \n",
       "999               87.41  ...    45.8         77.20          12.4   \n",
       "\n",
       "     Unemployment_Pctl  Housing_Burden  Housing_Burden_Pctl  Pop__Char_  \\\n",
       "2                61.53            20.3                63.97       83.75   \n",
       "5                83.22            23.7                76.35       83.37   \n",
       "7                93.49            29.6                89.84       85.44   \n",
       "10               91.94            28.3                87.49       82.01   \n",
       "11               37.71            26.1                82.79       74.47   \n",
       "..                 ...             ...                  ...         ...   \n",
       "995              77.76            39.5                98.44       81.04   \n",
       "996              79.72            22.6                72.60       60.32   \n",
       "997              60.57            26.2                83.08       81.30   \n",
       "998              51.26            15.4                40.90       70.84   \n",
       "999              93.09            18.3                55.49       73.88   \n",
       "\n",
       "     Pop__Char__Score  Pop__Char__Pctl  \\\n",
       "2                8.69            95.79   \n",
       "5                8.65            95.46   \n",
       "7                8.86            96.90   \n",
       "10               8.51            94.49   \n",
       "11               7.73            86.01   \n",
       "..                ...              ...   \n",
       "995              8.41            93.56   \n",
       "996              6.26            66.04   \n",
       "997              8.43            93.84   \n",
       "998              7.35            81.14   \n",
       "999              7.66            85.19   \n",
       "\n",
       "                                                 SHAPE  \n",
       "2    {\"x\": -118.19749749999994, \"y\": 34.01750040000...  \n",
       "5    {\"x\": -118.21241339999995, \"y\": 33.88196900000...  \n",
       "7    {\"x\": -118.230032, \"y\": 33.87986170000005, \"sp...  \n",
       "10   {\"x\": -118.20778829999995, \"y\": 34.05887230000...  \n",
       "11   {\"x\": -118.28670899999997, \"y\": 33.87713950000...  \n",
       "..                                                 ...  \n",
       "995  {\"x\": -118.31107139999995, \"y\": 33.97828330000...  \n",
       "996  {\"x\": -118.39555639999998, \"y\": 34.22760730000...  \n",
       "997  {\"x\": -118.15518899999995, \"y\": 34.02946150000...  \n",
       "998  {\"x\": -118.19269679999996, \"y\": 33.85631770000...  \n",
       "999  {\"x\": -118.14794579999995, \"y\": 34.02781150000...  \n",
       "\n",
       "[691 rows x 60 columns]"
      ]
     },
     "execution_count": 64,
     "metadata": {},
     "output_type": "execute_result"
    }
   ],
   "source": [
    "asthma_sdf_df_Filtered_df = asthma_sdf_df.query(\"California_County == 'Los Angeles' | California_County == 'San Bernardino'\")\n",
    "asthma_sdf_df_Filtered_df"
   ]
  },
  {
   "cell_type": "code",
   "execution_count": 65,
   "metadata": {},
   "outputs": [
    {
     "data": {
      "text/html": [
       "<div>\n",
       "<style scoped>\n",
       "    .dataframe tbody tr th:only-of-type {\n",
       "        vertical-align: middle;\n",
       "    }\n",
       "\n",
       "    .dataframe tbody tr th {\n",
       "        vertical-align: top;\n",
       "    }\n",
       "\n",
       "    .dataframe thead th {\n",
       "        text-align: right;\n",
       "    }\n",
       "</style>\n",
       "<table border=\"1\" class=\"dataframe\">\n",
       "  <thead>\n",
       "    <tr style=\"text-align: right;\">\n",
       "      <th></th>\n",
       "      <th>California_County</th>\n",
       "      <th>PM2_5</th>\n",
       "      <th>Asthma</th>\n",
       "      <th>Asthma_Pctl</th>\n",
       "      <th>Cardiovascular_Disease</th>\n",
       "      <th>SHAPE</th>\n",
       "    </tr>\n",
       "  </thead>\n",
       "  <tbody>\n",
       "    <tr>\n",
       "      <th>2</th>\n",
       "      <td>Los Angeles</td>\n",
       "      <td>12.251640</td>\n",
       "      <td>76.10</td>\n",
       "      <td>82.76</td>\n",
       "      <td>20.87</td>\n",
       "      <td>{\"x\": -118.19749749999994, \"y\": 34.01750040000...</td>\n",
       "    </tr>\n",
       "    <tr>\n",
       "      <th>5</th>\n",
       "      <td>Los Angeles</td>\n",
       "      <td>12.252580</td>\n",
       "      <td>86.77</td>\n",
       "      <td>88.60</td>\n",
       "      <td>22.20</td>\n",
       "      <td>{\"x\": -118.21241339999995, \"y\": 33.88196900000...</td>\n",
       "    </tr>\n",
       "    <tr>\n",
       "      <th>7</th>\n",
       "      <td>Los Angeles</td>\n",
       "      <td>12.216660</td>\n",
       "      <td>114.33</td>\n",
       "      <td>95.46</td>\n",
       "      <td>18.18</td>\n",
       "      <td>{\"x\": -118.230032, \"y\": 33.87986170000005, \"sp...</td>\n",
       "    </tr>\n",
       "    <tr>\n",
       "      <th>10</th>\n",
       "      <td>Los Angeles</td>\n",
       "      <td>12.576875</td>\n",
       "      <td>65.53</td>\n",
       "      <td>74.85</td>\n",
       "      <td>13.45</td>\n",
       "      <td>{\"x\": -118.20778829999995, \"y\": 34.05887230000...</td>\n",
       "    </tr>\n",
       "    <tr>\n",
       "      <th>11</th>\n",
       "      <td>Los Angeles</td>\n",
       "      <td>12.066061</td>\n",
       "      <td>64.77</td>\n",
       "      <td>74.05</td>\n",
       "      <td>12.99</td>\n",
       "      <td>{\"x\": -118.28670899999997, \"y\": 33.87713950000...</td>\n",
       "    </tr>\n",
       "    <tr>\n",
       "      <th>...</th>\n",
       "      <td>...</td>\n",
       "      <td>...</td>\n",
       "      <td>...</td>\n",
       "      <td>...</td>\n",
       "      <td>...</td>\n",
       "      <td>...</td>\n",
       "    </tr>\n",
       "    <tr>\n",
       "      <th>995</th>\n",
       "      <td>Los Angeles</td>\n",
       "      <td>11.956565</td>\n",
       "      <td>142.48</td>\n",
       "      <td>98.54</td>\n",
       "      <td>19.97</td>\n",
       "      <td>{\"x\": -118.31107139999995, \"y\": 33.97828330000...</td>\n",
       "    </tr>\n",
       "    <tr>\n",
       "      <th>996</th>\n",
       "      <td>Los Angeles</td>\n",
       "      <td>11.435700</td>\n",
       "      <td>74.78</td>\n",
       "      <td>81.89</td>\n",
       "      <td>15.13</td>\n",
       "      <td>{\"x\": -118.39555639999998, \"y\": 34.22760730000...</td>\n",
       "    </tr>\n",
       "    <tr>\n",
       "      <th>997</th>\n",
       "      <td>Los Angeles</td>\n",
       "      <td>12.231703</td>\n",
       "      <td>72.44</td>\n",
       "      <td>80.22</td>\n",
       "      <td>16.96</td>\n",
       "      <td>{\"x\": -118.15518899999995, \"y\": 34.02946150000...</td>\n",
       "    </tr>\n",
       "    <tr>\n",
       "      <th>998</th>\n",
       "      <td>Los Angeles</td>\n",
       "      <td>12.956383</td>\n",
       "      <td>94.42</td>\n",
       "      <td>91.14</td>\n",
       "      <td>20.48</td>\n",
       "      <td>{\"x\": -118.19269679999996, \"y\": 33.85631770000...</td>\n",
       "    </tr>\n",
       "    <tr>\n",
       "      <th>999</th>\n",
       "      <td>Los Angeles</td>\n",
       "      <td>12.238839</td>\n",
       "      <td>67.00</td>\n",
       "      <td>76.20</td>\n",
       "      <td>15.84</td>\n",
       "      <td>{\"x\": -118.14794579999995, \"y\": 34.02781150000...</td>\n",
       "    </tr>\n",
       "  </tbody>\n",
       "</table>\n",
       "<p>691 rows × 6 columns</p>\n",
       "</div>"
      ],
      "text/plain": [
       "    California_County      PM2_5  Asthma  Asthma_Pctl  Cardiovascular_Disease  \\\n",
       "2         Los Angeles  12.251640   76.10        82.76                   20.87   \n",
       "5         Los Angeles  12.252580   86.77        88.60                   22.20   \n",
       "7         Los Angeles  12.216660  114.33        95.46                   18.18   \n",
       "10        Los Angeles  12.576875   65.53        74.85                   13.45   \n",
       "11        Los Angeles  12.066061   64.77        74.05                   12.99   \n",
       "..                ...        ...     ...          ...                     ...   \n",
       "995       Los Angeles  11.956565  142.48        98.54                   19.97   \n",
       "996       Los Angeles  11.435700   74.78        81.89                   15.13   \n",
       "997       Los Angeles  12.231703   72.44        80.22                   16.96   \n",
       "998       Los Angeles  12.956383   94.42        91.14                   20.48   \n",
       "999       Los Angeles  12.238839   67.00        76.20                   15.84   \n",
       "\n",
       "                                                 SHAPE  \n",
       "2    {\"x\": -118.19749749999994, \"y\": 34.01750040000...  \n",
       "5    {\"x\": -118.21241339999995, \"y\": 33.88196900000...  \n",
       "7    {\"x\": -118.230032, \"y\": 33.87986170000005, \"sp...  \n",
       "10   {\"x\": -118.20778829999995, \"y\": 34.05887230000...  \n",
       "11   {\"x\": -118.28670899999997, \"y\": 33.87713950000...  \n",
       "..                                                 ...  \n",
       "995  {\"x\": -118.31107139999995, \"y\": 33.97828330000...  \n",
       "996  {\"x\": -118.39555639999998, \"y\": 34.22760730000...  \n",
       "997  {\"x\": -118.15518899999995, \"y\": 34.02946150000...  \n",
       "998  {\"x\": -118.19269679999996, \"y\": 33.85631770000...  \n",
       "999  {\"x\": -118.14794579999995, \"y\": 34.02781150000...  \n",
       "\n",
       "[691 rows x 6 columns]"
      ]
     },
     "execution_count": 65,
     "metadata": {},
     "output_type": "execute_result"
    }
   ],
   "source": [
    "asthma_sdf_df_Filtered_df[['California_County', 'PM2_5','Asthma','Asthma_Pctl', 'Cardiovascular_Disease', 'SHAPE',]]"
   ]
  },
  {
   "cell_type": "code",
   "execution_count": 66,
   "metadata": {},
   "outputs": [
    {
     "name": "stderr",
     "output_type": "stream",
     "text": [
      "/opt/conda/lib/python3.9/site-packages/pandas/core/indexing.py:1817: SettingWithCopyWarning: \n",
      "A value is trying to be set on a copy of a slice from a DataFrame.\n",
      "Try using .loc[row_indexer,col_indexer] = value instead\n",
      "\n",
      "See the caveats in the documentation: https://pandas.pydata.org/pandas-docs/stable/user_guide/indexing.html#returning-a-view-versus-a-copy\n",
      "  self._setitem_single_column(loc, value, pi)\n"
     ]
    },
    {
     "data": {
      "text/html": [
       "<div class=\"item_container\" style=\"height: auto; overflow: hidden; border: 1px solid #cfcfcf; border-radius: 2px; background: #f6fafa; line-height: 1.21429em; padding: 10px;\">\n",
       "                    <div class=\"item_left\" style=\"width: 210px; float: left;\">\n",
       "                       <a href='https://www.arcgis.com/home/item.html?id=5e45f07d5b2c49aeaaac75c5451bdccb' target='_blank'>\n",
       "                        <img src='http://static.arcgis.com/images/desktopapp.png' class=\"itemThumbnail\">\n",
       "                       </a>\n",
       "                    </div>\n",
       "\n",
       "                    <div class=\"item_right\"     style=\"float: none; width: auto; overflow: hidden;\">\n",
       "                        <a href='https://www.arcgis.com/home/item.html?id=5e45f07d5b2c49aeaaac75c5451bdccb' target='_blank'><b>asthma_LA</b>\n",
       "                        </a>\n",
       "                        <br/><img src='https://www.arcgis.com/home/js/jsapi/esri/css/images/item_type_icons/featureshosted16.png' style=\"vertical-align:middle;\">Feature Layer Collection by david.marcucci\n",
       "                        <br/>Last Modified: December 09, 2022\n",
       "                        <br/>0 comments, 0 views\n",
       "                    </div>\n",
       "                </div>\n",
       "                "
      ],
      "text/plain": [
       "<Item title:\"asthma_LA\" type:Feature Layer Collection owner:david.marcucci>"
      ]
     },
     "execution_count": 66,
     "metadata": {},
     "output_type": "execute_result"
    }
   ],
   "source": [
    "asthma_sdf_df_Filtered_df_FilteredLayer = asthma_sdf_df_Filtered_df.spatial.to_featurelayer(title='asthma_LA',tags=['asthma'])\n",
    "asthma_sdf_df_Filtered_df_FilteredLayer"
   ]
  },
  {
   "cell_type": "code",
   "execution_count": 67,
   "metadata": {},
   "outputs": [
    {
     "data": {
      "application/vnd.jupyter.widget-view+json": {
       "model_id": "05bb71ab465c4efbbbada79e89c35f37",
       "version_major": 2,
       "version_minor": 0
      },
      "text/plain": [
       "MapView(layout=Layout(height='400px', width='100%'))"
      ]
     },
     "metadata": {},
     "output_type": "display_data"
    },
    {
     "data": {
      "text/html": [
       "<div class=\"map-static-img-preview-756f24e3-3ecf-470b-9883-738817ce34af\"><img src=\"\"></img></div>"
      ],
      "text/plain": [
       "<IPython.core.display.HTML object>"
      ]
     },
     "metadata": {},
     "output_type": "display_data"
    },
    {
     "data": {
      "text/html": [
       "<div class=\"map-html-embed-preview-756f24e3-3ecf-470b-9883-738817ce34af\"></div>"
      ],
      "text/plain": [
       "<IPython.core.display.HTML object>"
      ]
     },
     "metadata": {},
     "output_type": "display_data"
    }
   ],
   "source": [
    "map_view_4 = asthma_sdf_df_Filtered_df.spatial.plot(alpha=0.10)\n",
    "map_view_4"
   ]
  },
  {
   "cell_type": "markdown",
   "metadata": {},
   "source": [
    "### 4. CALIFORNIA FIRE HAZARD MAP"
   ]
  },
  {
   "cell_type": "code",
   "execution_count": 68,
   "metadata": {},
   "outputs": [],
   "source": [
    "cal_fire_sdf = pd.DataFrame.spatial.from_featureclass(os.path.join(cal_fire,'Los_Angeles_County_Fire_Hazard_Severity_Zones'))"
   ]
  },
  {
   "cell_type": "code",
   "execution_count": 69,
   "metadata": {},
   "outputs": [
    {
     "data": {
      "text/html": [
       "<div>\n",
       "<style scoped>\n",
       "    .dataframe tbody tr th:only-of-type {\n",
       "        vertical-align: middle;\n",
       "    }\n",
       "\n",
       "    .dataframe tbody tr th {\n",
       "        vertical-align: top;\n",
       "    }\n",
       "\n",
       "    .dataframe thead th {\n",
       "        text-align: right;\n",
       "    }\n",
       "</style>\n",
       "<table border=\"1\" class=\"dataframe\">\n",
       "  <thead>\n",
       "    <tr style=\"text-align: right;\">\n",
       "      <th></th>\n",
       "      <th>OBJECTID</th>\n",
       "      <th>SRA</th>\n",
       "      <th>STLength</th>\n",
       "      <th>VH_REC</th>\n",
       "      <th>STArea</th>\n",
       "      <th>HAZ_CODE</th>\n",
       "      <th>HAZ_CLASS</th>\n",
       "      <th>INCORP</th>\n",
       "      <th>SHAPE</th>\n",
       "    </tr>\n",
       "  </thead>\n",
       "  <tbody>\n",
       "    <tr>\n",
       "      <th>0</th>\n",
       "      <td>1</td>\n",
       "      <td>FRA</td>\n",
       "      <td>371973.537602</td>\n",
       "      <td>Very High</td>\n",
       "      <td>1.425559e+09</td>\n",
       "      <td>3</td>\n",
       "      <td>Very High</td>\n",
       "      <td></td>\n",
       "      <td>{\"hasZ\": true, \"rings\": [[[-13199631.594449997...</td>\n",
       "    </tr>\n",
       "    <tr>\n",
       "      <th>1</th>\n",
       "      <td>2</td>\n",
       "      <td>FRA</td>\n",
       "      <td>64157.675152</td>\n",
       "      <td></td>\n",
       "      <td>4.343357e+07</td>\n",
       "      <td>2</td>\n",
       "      <td>High</td>\n",
       "      <td></td>\n",
       "      <td>{\"hasZ\": true, \"rings\": [[[-13183404.686249971...</td>\n",
       "    </tr>\n",
       "    <tr>\n",
       "      <th>2</th>\n",
       "      <td>3</td>\n",
       "      <td>SRA</td>\n",
       "      <td>5384.163053</td>\n",
       "      <td></td>\n",
       "      <td>8.068016e+04</td>\n",
       "      <td>1</td>\n",
       "      <td>Moderate</td>\n",
       "      <td></td>\n",
       "      <td>{\"hasZ\": true, \"rings\": [[[-13150997.200599909...</td>\n",
       "    </tr>\n",
       "    <tr>\n",
       "      <th>3</th>\n",
       "      <td>4</td>\n",
       "      <td>SRA</td>\n",
       "      <td>2649.439602</td>\n",
       "      <td></td>\n",
       "      <td>4.239419e+05</td>\n",
       "      <td>1</td>\n",
       "      <td>Moderate</td>\n",
       "      <td></td>\n",
       "      <td>{\"hasZ\": true, \"rings\": [[[-13150100.024749994...</td>\n",
       "    </tr>\n",
       "    <tr>\n",
       "      <th>4</th>\n",
       "      <td>5</td>\n",
       "      <td>FRA</td>\n",
       "      <td>15859.725839</td>\n",
       "      <td>Very High</td>\n",
       "      <td>1.220582e+07</td>\n",
       "      <td>3</td>\n",
       "      <td>Very High</td>\n",
       "      <td></td>\n",
       "      <td>{\"hasZ\": true, \"rings\": [[[-13147935.122950077...</td>\n",
       "    </tr>\n",
       "    <tr>\n",
       "      <th>...</th>\n",
       "      <td>...</td>\n",
       "      <td>...</td>\n",
       "      <td>...</td>\n",
       "      <td>...</td>\n",
       "      <td>...</td>\n",
       "      <td>...</td>\n",
       "      <td>...</td>\n",
       "      <td>...</td>\n",
       "      <td>...</td>\n",
       "    </tr>\n",
       "    <tr>\n",
       "      <th>935</th>\n",
       "      <td>936</td>\n",
       "      <td>LRA</td>\n",
       "      <td>356.707578</td>\n",
       "      <td></td>\n",
       "      <td>2.142578e+00</td>\n",
       "      <td>3</td>\n",
       "      <td>Very High</td>\n",
       "      <td>Y</td>\n",
       "      <td>{\"hasZ\": true, \"rings\": [[[-13143881.588500023...</td>\n",
       "    </tr>\n",
       "    <tr>\n",
       "      <th>936</th>\n",
       "      <td>937</td>\n",
       "      <td>LRA</td>\n",
       "      <td>2635.133639</td>\n",
       "      <td></td>\n",
       "      <td>1.416797e+01</td>\n",
       "      <td>3</td>\n",
       "      <td>Very High</td>\n",
       "      <td>Y</td>\n",
       "      <td>{\"hasZ\": true, \"rings\": [[[-13146024.064100027...</td>\n",
       "    </tr>\n",
       "    <tr>\n",
       "      <th>937</th>\n",
       "      <td>938</td>\n",
       "      <td>LRA</td>\n",
       "      <td>6046.175496</td>\n",
       "      <td></td>\n",
       "      <td>4.553418e+01</td>\n",
       "      <td>3</td>\n",
       "      <td>Very High</td>\n",
       "      <td>Y</td>\n",
       "      <td>{\"hasZ\": true, \"rings\": [[[-13203163.747200012...</td>\n",
       "    </tr>\n",
       "    <tr>\n",
       "      <th>938</th>\n",
       "      <td>939</td>\n",
       "      <td>LRA</td>\n",
       "      <td>10.296968</td>\n",
       "      <td></td>\n",
       "      <td>5.664062e-02</td>\n",
       "      <td>3</td>\n",
       "      <td>Very High</td>\n",
       "      <td>Y</td>\n",
       "      <td>{\"hasZ\": true, \"rings\": [[[-13197545.058049917...</td>\n",
       "    </tr>\n",
       "    <tr>\n",
       "      <th>939</th>\n",
       "      <td>940</td>\n",
       "      <td>LRA</td>\n",
       "      <td>8200.983048</td>\n",
       "      <td></td>\n",
       "      <td>6.065820e+01</td>\n",
       "      <td>3</td>\n",
       "      <td>Very High</td>\n",
       "      <td>Y</td>\n",
       "      <td>{\"hasZ\": true, \"rings\": [[[-13192565.706449986...</td>\n",
       "    </tr>\n",
       "  </tbody>\n",
       "</table>\n",
       "<p>940 rows × 9 columns</p>\n",
       "</div>"
      ],
      "text/plain": [
       "     OBJECTID  SRA       STLength     VH_REC        STArea  HAZ_CODE  \\\n",
       "0           1  FRA  371973.537602  Very High  1.425559e+09         3   \n",
       "1           2  FRA   64157.675152             4.343357e+07         2   \n",
       "2           3  SRA    5384.163053             8.068016e+04         1   \n",
       "3           4  SRA    2649.439602             4.239419e+05         1   \n",
       "4           5  FRA   15859.725839  Very High  1.220582e+07         3   \n",
       "..        ...  ...            ...        ...           ...       ...   \n",
       "935       936  LRA     356.707578             2.142578e+00         3   \n",
       "936       937  LRA    2635.133639             1.416797e+01         3   \n",
       "937       938  LRA    6046.175496             4.553418e+01         3   \n",
       "938       939  LRA      10.296968             5.664062e-02         3   \n",
       "939       940  LRA    8200.983048             6.065820e+01         3   \n",
       "\n",
       "     HAZ_CLASS INCORP                                              SHAPE  \n",
       "0    Very High         {\"hasZ\": true, \"rings\": [[[-13199631.594449997...  \n",
       "1         High         {\"hasZ\": true, \"rings\": [[[-13183404.686249971...  \n",
       "2     Moderate         {\"hasZ\": true, \"rings\": [[[-13150997.200599909...  \n",
       "3     Moderate         {\"hasZ\": true, \"rings\": [[[-13150100.024749994...  \n",
       "4    Very High         {\"hasZ\": true, \"rings\": [[[-13147935.122950077...  \n",
       "..         ...    ...                                                ...  \n",
       "935  Very High      Y  {\"hasZ\": true, \"rings\": [[[-13143881.588500023...  \n",
       "936  Very High      Y  {\"hasZ\": true, \"rings\": [[[-13146024.064100027...  \n",
       "937  Very High      Y  {\"hasZ\": true, \"rings\": [[[-13203163.747200012...  \n",
       "938  Very High      Y  {\"hasZ\": true, \"rings\": [[[-13197545.058049917...  \n",
       "939  Very High      Y  {\"hasZ\": true, \"rings\": [[[-13192565.706449986...  \n",
       "\n",
       "[940 rows x 9 columns]"
      ]
     },
     "execution_count": 69,
     "metadata": {},
     "output_type": "execute_result"
    }
   ],
   "source": [
    "cal_fire_sdf_df = cal_fire_sdf.head(1000)\n",
    "cal_fire_sdf_df"
   ]
  },
  {
   "cell_type": "code",
   "execution_count": 70,
   "metadata": {},
   "outputs": [
    {
     "data": {
      "text/plain": [
       "Index(['OBJECTID', 'SRA', 'STLength', 'VH_REC', 'STArea', 'HAZ_CODE',\n",
       "       'HAZ_CLASS', 'INCORP', 'SHAPE'],\n",
       "      dtype='object')"
      ]
     },
     "execution_count": 70,
     "metadata": {},
     "output_type": "execute_result"
    }
   ],
   "source": [
    "# Exploring the dataset attributs\n",
    "cal_fire_sdf_df.columns"
   ]
  },
  {
   "cell_type": "code",
   "execution_count": 71,
   "metadata": {},
   "outputs": [
    {
     "data": {
      "text/html": [
       "<div>\n",
       "<style scoped>\n",
       "    .dataframe tbody tr th:only-of-type {\n",
       "        vertical-align: middle;\n",
       "    }\n",
       "\n",
       "    .dataframe tbody tr th {\n",
       "        vertical-align: top;\n",
       "    }\n",
       "\n",
       "    .dataframe thead th {\n",
       "        text-align: right;\n",
       "    }\n",
       "</style>\n",
       "<table border=\"1\" class=\"dataframe\">\n",
       "  <thead>\n",
       "    <tr style=\"text-align: right;\">\n",
       "      <th></th>\n",
       "      <th>OBJECTID</th>\n",
       "      <th>SRA</th>\n",
       "      <th>STLength</th>\n",
       "      <th>VH_REC</th>\n",
       "      <th>STArea</th>\n",
       "      <th>HAZ_CODE</th>\n",
       "      <th>HAZ_CLASS</th>\n",
       "      <th>INCORP</th>\n",
       "      <th>SHAPE</th>\n",
       "    </tr>\n",
       "  </thead>\n",
       "  <tbody>\n",
       "    <tr>\n",
       "      <th>0</th>\n",
       "      <td>1</td>\n",
       "      <td>FRA</td>\n",
       "      <td>371973.537602</td>\n",
       "      <td>Very High</td>\n",
       "      <td>1.425559e+09</td>\n",
       "      <td>3</td>\n",
       "      <td>Very High</td>\n",
       "      <td></td>\n",
       "      <td>{\"hasZ\": true, \"rings\": [[[-13199631.594449997...</td>\n",
       "    </tr>\n",
       "    <tr>\n",
       "      <th>1</th>\n",
       "      <td>2</td>\n",
       "      <td>FRA</td>\n",
       "      <td>64157.675152</td>\n",
       "      <td></td>\n",
       "      <td>4.343357e+07</td>\n",
       "      <td>2</td>\n",
       "      <td>High</td>\n",
       "      <td></td>\n",
       "      <td>{\"hasZ\": true, \"rings\": [[[-13183404.686249971...</td>\n",
       "    </tr>\n",
       "    <tr>\n",
       "      <th>2</th>\n",
       "      <td>3</td>\n",
       "      <td>SRA</td>\n",
       "      <td>5384.163053</td>\n",
       "      <td></td>\n",
       "      <td>8.068016e+04</td>\n",
       "      <td>1</td>\n",
       "      <td>Moderate</td>\n",
       "      <td></td>\n",
       "      <td>{\"hasZ\": true, \"rings\": [[[-13150997.200599909...</td>\n",
       "    </tr>\n",
       "    <tr>\n",
       "      <th>3</th>\n",
       "      <td>4</td>\n",
       "      <td>SRA</td>\n",
       "      <td>2649.439602</td>\n",
       "      <td></td>\n",
       "      <td>4.239419e+05</td>\n",
       "      <td>1</td>\n",
       "      <td>Moderate</td>\n",
       "      <td></td>\n",
       "      <td>{\"hasZ\": true, \"rings\": [[[-13150100.024749994...</td>\n",
       "    </tr>\n",
       "    <tr>\n",
       "      <th>4</th>\n",
       "      <td>5</td>\n",
       "      <td>FRA</td>\n",
       "      <td>15859.725839</td>\n",
       "      <td>Very High</td>\n",
       "      <td>1.220582e+07</td>\n",
       "      <td>3</td>\n",
       "      <td>Very High</td>\n",
       "      <td></td>\n",
       "      <td>{\"hasZ\": true, \"rings\": [[[-13147935.122950077...</td>\n",
       "    </tr>\n",
       "    <tr>\n",
       "      <th>...</th>\n",
       "      <td>...</td>\n",
       "      <td>...</td>\n",
       "      <td>...</td>\n",
       "      <td>...</td>\n",
       "      <td>...</td>\n",
       "      <td>...</td>\n",
       "      <td>...</td>\n",
       "      <td>...</td>\n",
       "      <td>...</td>\n",
       "    </tr>\n",
       "    <tr>\n",
       "      <th>935</th>\n",
       "      <td>936</td>\n",
       "      <td>LRA</td>\n",
       "      <td>356.707578</td>\n",
       "      <td></td>\n",
       "      <td>2.142578e+00</td>\n",
       "      <td>3</td>\n",
       "      <td>Very High</td>\n",
       "      <td>Y</td>\n",
       "      <td>{\"hasZ\": true, \"rings\": [[[-13143881.588500023...</td>\n",
       "    </tr>\n",
       "    <tr>\n",
       "      <th>936</th>\n",
       "      <td>937</td>\n",
       "      <td>LRA</td>\n",
       "      <td>2635.133639</td>\n",
       "      <td></td>\n",
       "      <td>1.416797e+01</td>\n",
       "      <td>3</td>\n",
       "      <td>Very High</td>\n",
       "      <td>Y</td>\n",
       "      <td>{\"hasZ\": true, \"rings\": [[[-13146024.064100027...</td>\n",
       "    </tr>\n",
       "    <tr>\n",
       "      <th>937</th>\n",
       "      <td>938</td>\n",
       "      <td>LRA</td>\n",
       "      <td>6046.175496</td>\n",
       "      <td></td>\n",
       "      <td>4.553418e+01</td>\n",
       "      <td>3</td>\n",
       "      <td>Very High</td>\n",
       "      <td>Y</td>\n",
       "      <td>{\"hasZ\": true, \"rings\": [[[-13203163.747200012...</td>\n",
       "    </tr>\n",
       "    <tr>\n",
       "      <th>938</th>\n",
       "      <td>939</td>\n",
       "      <td>LRA</td>\n",
       "      <td>10.296968</td>\n",
       "      <td></td>\n",
       "      <td>5.664062e-02</td>\n",
       "      <td>3</td>\n",
       "      <td>Very High</td>\n",
       "      <td>Y</td>\n",
       "      <td>{\"hasZ\": true, \"rings\": [[[-13197545.058049917...</td>\n",
       "    </tr>\n",
       "    <tr>\n",
       "      <th>939</th>\n",
       "      <td>940</td>\n",
       "      <td>LRA</td>\n",
       "      <td>8200.983048</td>\n",
       "      <td></td>\n",
       "      <td>6.065820e+01</td>\n",
       "      <td>3</td>\n",
       "      <td>Very High</td>\n",
       "      <td>Y</td>\n",
       "      <td>{\"hasZ\": true, \"rings\": [[[-13192565.706449986...</td>\n",
       "    </tr>\n",
       "  </tbody>\n",
       "</table>\n",
       "<p>940 rows × 9 columns</p>\n",
       "</div>"
      ],
      "text/plain": [
       "     OBJECTID  SRA       STLength     VH_REC        STArea  HAZ_CODE  \\\n",
       "0           1  FRA  371973.537602  Very High  1.425559e+09         3   \n",
       "1           2  FRA   64157.675152             4.343357e+07         2   \n",
       "2           3  SRA    5384.163053             8.068016e+04         1   \n",
       "3           4  SRA    2649.439602             4.239419e+05         1   \n",
       "4           5  FRA   15859.725839  Very High  1.220582e+07         3   \n",
       "..        ...  ...            ...        ...           ...       ...   \n",
       "935       936  LRA     356.707578             2.142578e+00         3   \n",
       "936       937  LRA    2635.133639             1.416797e+01         3   \n",
       "937       938  LRA    6046.175496             4.553418e+01         3   \n",
       "938       939  LRA      10.296968             5.664062e-02         3   \n",
       "939       940  LRA    8200.983048             6.065820e+01         3   \n",
       "\n",
       "     HAZ_CLASS INCORP                                              SHAPE  \n",
       "0    Very High         {\"hasZ\": true, \"rings\": [[[-13199631.594449997...  \n",
       "1         High         {\"hasZ\": true, \"rings\": [[[-13183404.686249971...  \n",
       "2     Moderate         {\"hasZ\": true, \"rings\": [[[-13150997.200599909...  \n",
       "3     Moderate         {\"hasZ\": true, \"rings\": [[[-13150100.024749994...  \n",
       "4    Very High         {\"hasZ\": true, \"rings\": [[[-13147935.122950077...  \n",
       "..         ...    ...                                                ...  \n",
       "935  Very High      Y  {\"hasZ\": true, \"rings\": [[[-13143881.588500023...  \n",
       "936  Very High      Y  {\"hasZ\": true, \"rings\": [[[-13146024.064100027...  \n",
       "937  Very High      Y  {\"hasZ\": true, \"rings\": [[[-13203163.747200012...  \n",
       "938  Very High      Y  {\"hasZ\": true, \"rings\": [[[-13197545.058049917...  \n",
       "939  Very High      Y  {\"hasZ\": true, \"rings\": [[[-13192565.706449986...  \n",
       "\n",
       "[940 rows x 9 columns]"
      ]
     },
     "execution_count": 71,
     "metadata": {},
     "output_type": "execute_result"
    }
   ],
   "source": [
    "cal_fire_sdf_df_Filtered_df = cal_fire_sdf_df.query(\"HAZ_CLASS == 'Very High' | HAZ_CLASS == 'High'| HAZ_CLASS == 'Moderate'\")\n",
    "cal_fire_sdf_df_Filtered_df"
   ]
  },
  {
   "cell_type": "code",
   "execution_count": 72,
   "metadata": {
    "scrolled": true
   },
   "outputs": [
    {
     "data": {
      "text/html": [
       "<div>\n",
       "<style scoped>\n",
       "    .dataframe tbody tr th:only-of-type {\n",
       "        vertical-align: middle;\n",
       "    }\n",
       "\n",
       "    .dataframe tbody tr th {\n",
       "        vertical-align: top;\n",
       "    }\n",
       "\n",
       "    .dataframe thead th {\n",
       "        text-align: right;\n",
       "    }\n",
       "</style>\n",
       "<table border=\"1\" class=\"dataframe\">\n",
       "  <thead>\n",
       "    <tr style=\"text-align: right;\">\n",
       "      <th></th>\n",
       "      <th>OBJECTID</th>\n",
       "      <th>SRA</th>\n",
       "      <th>STLength</th>\n",
       "      <th>VH_REC</th>\n",
       "      <th>STArea</th>\n",
       "      <th>HAZ_CODE</th>\n",
       "      <th>HAZ_CLASS</th>\n",
       "      <th>INCORP</th>\n",
       "      <th>SHAPE</th>\n",
       "    </tr>\n",
       "  </thead>\n",
       "  <tbody>\n",
       "    <tr>\n",
       "      <th>841</th>\n",
       "      <td>842</td>\n",
       "      <td>LRA</td>\n",
       "      <td>6414.400467</td>\n",
       "      <td></td>\n",
       "      <td>1.295508e+06</td>\n",
       "      <td>3</td>\n",
       "      <td>Very High</td>\n",
       "      <td>Y</td>\n",
       "      <td>{\"hasZ\": true, \"rings\": [[[-13170647.22849989,...</td>\n",
       "    </tr>\n",
       "    <tr>\n",
       "      <th>842</th>\n",
       "      <td>843</td>\n",
       "      <td>LRA</td>\n",
       "      <td>198399.921330</td>\n",
       "      <td></td>\n",
       "      <td>6.913430e+08</td>\n",
       "      <td>3</td>\n",
       "      <td>Very High</td>\n",
       "      <td>Y</td>\n",
       "      <td>{\"hasZ\": true, \"rings\": [[[-13173784.431050062...</td>\n",
       "    </tr>\n",
       "    <tr>\n",
       "      <th>843</th>\n",
       "      <td>844</td>\n",
       "      <td>LRA</td>\n",
       "      <td>23987.230234</td>\n",
       "      <td></td>\n",
       "      <td>1.541176e+07</td>\n",
       "      <td>3</td>\n",
       "      <td>Very High</td>\n",
       "      <td>Y</td>\n",
       "      <td>{\"hasZ\": true, \"rings\": [[[-13183273.850699902...</td>\n",
       "    </tr>\n",
       "    <tr>\n",
       "      <th>844</th>\n",
       "      <td>845</td>\n",
       "      <td>LRA</td>\n",
       "      <td>7514.831359</td>\n",
       "      <td></td>\n",
       "      <td>2.095396e+06</td>\n",
       "      <td>3</td>\n",
       "      <td>Very High</td>\n",
       "      <td>Y</td>\n",
       "      <td>{\"hasZ\": true, \"rings\": [[[-13178654.412699938...</td>\n",
       "    </tr>\n",
       "    <tr>\n",
       "      <th>845</th>\n",
       "      <td>846</td>\n",
       "      <td>LRA</td>\n",
       "      <td>96614.358969</td>\n",
       "      <td></td>\n",
       "      <td>7.448625e+07</td>\n",
       "      <td>3</td>\n",
       "      <td>Very High</td>\n",
       "      <td>Y</td>\n",
       "      <td>{\"hasZ\": true, \"rings\": [[[-13119564.035550117...</td>\n",
       "    </tr>\n",
       "    <tr>\n",
       "      <th>846</th>\n",
       "      <td>847</td>\n",
       "      <td>LRA</td>\n",
       "      <td>218206.368687</td>\n",
       "      <td></td>\n",
       "      <td>2.366474e+08</td>\n",
       "      <td>3</td>\n",
       "      <td>Very High</td>\n",
       "      <td>Y</td>\n",
       "      <td>{\"hasZ\": true, \"rings\": [[[-13127810.970449924...</td>\n",
       "    </tr>\n",
       "    <tr>\n",
       "      <th>847</th>\n",
       "      <td>848</td>\n",
       "      <td>LRA</td>\n",
       "      <td>51019.632841</td>\n",
       "      <td></td>\n",
       "      <td>3.027601e+07</td>\n",
       "      <td>3</td>\n",
       "      <td>Very High</td>\n",
       "      <td>Y</td>\n",
       "      <td>{\"hasZ\": true, \"rings\": [[[-13174069.127949953...</td>\n",
       "    </tr>\n",
       "    <tr>\n",
       "      <th>848</th>\n",
       "      <td>849</td>\n",
       "      <td>LRA</td>\n",
       "      <td>10470.369117</td>\n",
       "      <td></td>\n",
       "      <td>3.694641e+06</td>\n",
       "      <td>3</td>\n",
       "      <td>Very High</td>\n",
       "      <td>Y</td>\n",
       "      <td>{\"hasZ\": true, \"rings\": [[[-13111798.912849903...</td>\n",
       "    </tr>\n",
       "    <tr>\n",
       "      <th>849</th>\n",
       "      <td>850</td>\n",
       "      <td>LRA</td>\n",
       "      <td>274276.125658</td>\n",
       "      <td></td>\n",
       "      <td>5.108196e+08</td>\n",
       "      <td>3</td>\n",
       "      <td>Very High</td>\n",
       "      <td>Y</td>\n",
       "      <td>{\"hasZ\": true, \"rings\": [[[-13237324.918200016...</td>\n",
       "    </tr>\n",
       "    <tr>\n",
       "      <th>850</th>\n",
       "      <td>851</td>\n",
       "      <td>LRA</td>\n",
       "      <td>11972.915686</td>\n",
       "      <td></td>\n",
       "      <td>5.066327e+06</td>\n",
       "      <td>3</td>\n",
       "      <td>Very High</td>\n",
       "      <td>Y</td>\n",
       "      <td>{\"hasZ\": true, \"rings\": [[[-13112515.65015006,...</td>\n",
       "    </tr>\n",
       "    <tr>\n",
       "      <th>851</th>\n",
       "      <td>852</td>\n",
       "      <td>LRA</td>\n",
       "      <td>138789.953115</td>\n",
       "      <td></td>\n",
       "      <td>7.717670e+07</td>\n",
       "      <td>3</td>\n",
       "      <td>Very High</td>\n",
       "      <td>Y</td>\n",
       "      <td>{\"hasZ\": true, \"rings\": [[[-13120146.348050117...</td>\n",
       "    </tr>\n",
       "    <tr>\n",
       "      <th>852</th>\n",
       "      <td>853</td>\n",
       "      <td>LRA</td>\n",
       "      <td>46613.678420</td>\n",
       "      <td></td>\n",
       "      <td>4.566602e+07</td>\n",
       "      <td>3</td>\n",
       "      <td>Very High</td>\n",
       "      <td>Y</td>\n",
       "      <td>{\"hasZ\": true, \"rings\": [[[-13117596.968699932...</td>\n",
       "    </tr>\n",
       "    <tr>\n",
       "      <th>853</th>\n",
       "      <td>854</td>\n",
       "      <td>LRA</td>\n",
       "      <td>10363.704393</td>\n",
       "      <td></td>\n",
       "      <td>3.385454e+06</td>\n",
       "      <td>3</td>\n",
       "      <td>Very High</td>\n",
       "      <td>Y</td>\n",
       "      <td>{\"hasZ\": true, \"rings\": [[[-13102140.428950071...</td>\n",
       "    </tr>\n",
       "    <tr>\n",
       "      <th>854</th>\n",
       "      <td>855</td>\n",
       "      <td>LRA</td>\n",
       "      <td>9536.562656</td>\n",
       "      <td></td>\n",
       "      <td>1.337985e+06</td>\n",
       "      <td>3</td>\n",
       "      <td>Very High</td>\n",
       "      <td>Y</td>\n",
       "      <td>{\"hasZ\": true, \"rings\": [[[-13132228.66050005,...</td>\n",
       "    </tr>\n",
       "    <tr>\n",
       "      <th>855</th>\n",
       "      <td>856</td>\n",
       "      <td>LRA</td>\n",
       "      <td>4321.069337</td>\n",
       "      <td></td>\n",
       "      <td>8.259805e+05</td>\n",
       "      <td>3</td>\n",
       "      <td>Very High</td>\n",
       "      <td>Y</td>\n",
       "      <td>{\"hasZ\": true, \"rings\": [[[-13122484.230600119...</td>\n",
       "    </tr>\n",
       "    <tr>\n",
       "      <th>856</th>\n",
       "      <td>857</td>\n",
       "      <td>LRA</td>\n",
       "      <td>772141.939660</td>\n",
       "      <td></td>\n",
       "      <td>3.282988e+09</td>\n",
       "      <td>3</td>\n",
       "      <td>Very High</td>\n",
       "      <td>Y</td>\n",
       "      <td>{\"hasZ\": true, \"rings\": [[[-13223955.17569995,...</td>\n",
       "    </tr>\n",
       "    <tr>\n",
       "      <th>857</th>\n",
       "      <td>858</td>\n",
       "      <td>LRA</td>\n",
       "      <td>674821.726428</td>\n",
       "      <td></td>\n",
       "      <td>1.964802e+09</td>\n",
       "      <td>3</td>\n",
       "      <td>Very High</td>\n",
       "      <td>Y</td>\n",
       "      <td>{\"hasZ\": true, \"rings\": [[[-13178325.23270011,...</td>\n",
       "    </tr>\n",
       "    <tr>\n",
       "      <th>858</th>\n",
       "      <td>859</td>\n",
       "      <td>LRA</td>\n",
       "      <td>302478.781016</td>\n",
       "      <td></td>\n",
       "      <td>4.762910e+08</td>\n",
       "      <td>3</td>\n",
       "      <td>Very High</td>\n",
       "      <td>Y</td>\n",
       "      <td>{\"hasZ\": true, \"rings\": [[[-13191216.343400002...</td>\n",
       "    </tr>\n",
       "    <tr>\n",
       "      <th>859</th>\n",
       "      <td>860</td>\n",
       "      <td>LRA</td>\n",
       "      <td>34087.079280</td>\n",
       "      <td></td>\n",
       "      <td>2.581222e+07</td>\n",
       "      <td>3</td>\n",
       "      <td>Very High</td>\n",
       "      <td>Y</td>\n",
       "      <td>{\"hasZ\": true, \"rings\": [[[-13199527.28944993,...</td>\n",
       "    </tr>\n",
       "    <tr>\n",
       "      <th>860</th>\n",
       "      <td>861</td>\n",
       "      <td>LRA</td>\n",
       "      <td>1111.011305</td>\n",
       "      <td></td>\n",
       "      <td>1.929075e+04</td>\n",
       "      <td>3</td>\n",
       "      <td>Very High</td>\n",
       "      <td>Y</td>\n",
       "      <td>{\"hasZ\": true, \"rings\": [[[-13130663.22755003,...</td>\n",
       "    </tr>\n",
       "    <tr>\n",
       "      <th>861</th>\n",
       "      <td>862</td>\n",
       "      <td>LRA</td>\n",
       "      <td>956.764449</td>\n",
       "      <td></td>\n",
       "      <td>1.148047e+01</td>\n",
       "      <td>3</td>\n",
       "      <td>Very High</td>\n",
       "      <td>Y</td>\n",
       "      <td>{\"hasZ\": true, \"rings\": [[[-13214572.205199957...</td>\n",
       "    </tr>\n",
       "    <tr>\n",
       "      <th>862</th>\n",
       "      <td>863</td>\n",
       "      <td>LRA</td>\n",
       "      <td>135.019165</td>\n",
       "      <td></td>\n",
       "      <td>5.761719e-01</td>\n",
       "      <td>3</td>\n",
       "      <td>Very High</td>\n",
       "      <td>Y</td>\n",
       "      <td>{\"hasZ\": true, \"rings\": [[[-13194613.246200085...</td>\n",
       "    </tr>\n",
       "    <tr>\n",
       "      <th>863</th>\n",
       "      <td>864</td>\n",
       "      <td>LRA</td>\n",
       "      <td>16928.046495</td>\n",
       "      <td></td>\n",
       "      <td>1.062788e+07</td>\n",
       "      <td>3</td>\n",
       "      <td>Very High</td>\n",
       "      <td>Y</td>\n",
       "      <td>{\"hasZ\": true, \"rings\": [[[-13223635.862050056...</td>\n",
       "    </tr>\n",
       "    <tr>\n",
       "      <th>864</th>\n",
       "      <td>865</td>\n",
       "      <td>FRA</td>\n",
       "      <td>24101.778802</td>\n",
       "      <td>Very High</td>\n",
       "      <td>1.298195e+07</td>\n",
       "      <td>3</td>\n",
       "      <td>Very High</td>\n",
       "      <td>Y</td>\n",
       "      <td>{\"hasZ\": true, \"rings\": [[[-13168039.468050003...</td>\n",
       "    </tr>\n",
       "    <tr>\n",
       "      <th>865</th>\n",
       "      <td>866</td>\n",
       "      <td>FRA</td>\n",
       "      <td>15838.959772</td>\n",
       "      <td>Very High</td>\n",
       "      <td>1.044399e+07</td>\n",
       "      <td>3</td>\n",
       "      <td>Very High</td>\n",
       "      <td>Y</td>\n",
       "      <td>{\"hasZ\": true, \"rings\": [[[-13171035.725300074...</td>\n",
       "    </tr>\n",
       "    <tr>\n",
       "      <th>866</th>\n",
       "      <td>867</td>\n",
       "      <td>FRA</td>\n",
       "      <td>64651.604239</td>\n",
       "      <td>Very High</td>\n",
       "      <td>9.186527e+07</td>\n",
       "      <td>3</td>\n",
       "      <td>Very High</td>\n",
       "      <td>Y</td>\n",
       "      <td>{\"hasZ\": true, \"rings\": [[[-13162248.122800112...</td>\n",
       "    </tr>\n",
       "    <tr>\n",
       "      <th>867</th>\n",
       "      <td>868</td>\n",
       "      <td>FRA</td>\n",
       "      <td>864.601725</td>\n",
       "      <td>Very High</td>\n",
       "      <td>1.438146e+03</td>\n",
       "      <td>3</td>\n",
       "      <td>Very High</td>\n",
       "      <td>Y</td>\n",
       "      <td>{\"hasZ\": true, \"rings\": [[[-13175343.221299887...</td>\n",
       "    </tr>\n",
       "    <tr>\n",
       "      <th>868</th>\n",
       "      <td>869</td>\n",
       "      <td>FRA</td>\n",
       "      <td>10680.903741</td>\n",
       "      <td>Very High</td>\n",
       "      <td>1.824816e+05</td>\n",
       "      <td>3</td>\n",
       "      <td>Very High</td>\n",
       "      <td>Y</td>\n",
       "      <td>{\"hasZ\": true, \"rings\": [[[-13162276.400899887...</td>\n",
       "    </tr>\n",
       "    <tr>\n",
       "      <th>869</th>\n",
       "      <td>870</td>\n",
       "      <td>FRA</td>\n",
       "      <td>13300.286756</td>\n",
       "      <td>Very High</td>\n",
       "      <td>7.045055e+06</td>\n",
       "      <td>3</td>\n",
       "      <td>Very High</td>\n",
       "      <td>Y</td>\n",
       "      <td>{\"hasZ\": true, \"rings\": [[[-13122482.052999973...</td>\n",
       "    </tr>\n",
       "    <tr>\n",
       "      <th>870</th>\n",
       "      <td>871</td>\n",
       "      <td>FRA</td>\n",
       "      <td>2678.150896</td>\n",
       "      <td>Very High</td>\n",
       "      <td>1.547336e+04</td>\n",
       "      <td>3</td>\n",
       "      <td>Very High</td>\n",
       "      <td>Y</td>\n",
       "      <td>{\"hasZ\": true, \"rings\": [[[-13157951.444299936...</td>\n",
       "    </tr>\n",
       "    <tr>\n",
       "      <th>871</th>\n",
       "      <td>872</td>\n",
       "      <td>FRA</td>\n",
       "      <td>6788.930392</td>\n",
       "      <td>Very High</td>\n",
       "      <td>2.264189e+06</td>\n",
       "      <td>3</td>\n",
       "      <td>Very High</td>\n",
       "      <td>Y</td>\n",
       "      <td>{\"hasZ\": true, \"rings\": [[[-13159937.259249926...</td>\n",
       "    </tr>\n",
       "  </tbody>\n",
       "</table>\n",
       "</div>"
      ],
      "text/plain": [
       "     OBJECTID  SRA       STLength     VH_REC        STArea  HAZ_CODE  \\\n",
       "841       842  LRA    6414.400467             1.295508e+06         3   \n",
       "842       843  LRA  198399.921330             6.913430e+08         3   \n",
       "843       844  LRA   23987.230234             1.541176e+07         3   \n",
       "844       845  LRA    7514.831359             2.095396e+06         3   \n",
       "845       846  LRA   96614.358969             7.448625e+07         3   \n",
       "846       847  LRA  218206.368687             2.366474e+08         3   \n",
       "847       848  LRA   51019.632841             3.027601e+07         3   \n",
       "848       849  LRA   10470.369117             3.694641e+06         3   \n",
       "849       850  LRA  274276.125658             5.108196e+08         3   \n",
       "850       851  LRA   11972.915686             5.066327e+06         3   \n",
       "851       852  LRA  138789.953115             7.717670e+07         3   \n",
       "852       853  LRA   46613.678420             4.566602e+07         3   \n",
       "853       854  LRA   10363.704393             3.385454e+06         3   \n",
       "854       855  LRA    9536.562656             1.337985e+06         3   \n",
       "855       856  LRA    4321.069337             8.259805e+05         3   \n",
       "856       857  LRA  772141.939660             3.282988e+09         3   \n",
       "857       858  LRA  674821.726428             1.964802e+09         3   \n",
       "858       859  LRA  302478.781016             4.762910e+08         3   \n",
       "859       860  LRA   34087.079280             2.581222e+07         3   \n",
       "860       861  LRA    1111.011305             1.929075e+04         3   \n",
       "861       862  LRA     956.764449             1.148047e+01         3   \n",
       "862       863  LRA     135.019165             5.761719e-01         3   \n",
       "863       864  LRA   16928.046495             1.062788e+07         3   \n",
       "864       865  FRA   24101.778802  Very High  1.298195e+07         3   \n",
       "865       866  FRA   15838.959772  Very High  1.044399e+07         3   \n",
       "866       867  FRA   64651.604239  Very High  9.186527e+07         3   \n",
       "867       868  FRA     864.601725  Very High  1.438146e+03         3   \n",
       "868       869  FRA   10680.903741  Very High  1.824816e+05         3   \n",
       "869       870  FRA   13300.286756  Very High  7.045055e+06         3   \n",
       "870       871  FRA    2678.150896  Very High  1.547336e+04         3   \n",
       "871       872  FRA    6788.930392  Very High  2.264189e+06         3   \n",
       "\n",
       "     HAZ_CLASS INCORP                                              SHAPE  \n",
       "841  Very High      Y  {\"hasZ\": true, \"rings\": [[[-13170647.22849989,...  \n",
       "842  Very High      Y  {\"hasZ\": true, \"rings\": [[[-13173784.431050062...  \n",
       "843  Very High      Y  {\"hasZ\": true, \"rings\": [[[-13183273.850699902...  \n",
       "844  Very High      Y  {\"hasZ\": true, \"rings\": [[[-13178654.412699938...  \n",
       "845  Very High      Y  {\"hasZ\": true, \"rings\": [[[-13119564.035550117...  \n",
       "846  Very High      Y  {\"hasZ\": true, \"rings\": [[[-13127810.970449924...  \n",
       "847  Very High      Y  {\"hasZ\": true, \"rings\": [[[-13174069.127949953...  \n",
       "848  Very High      Y  {\"hasZ\": true, \"rings\": [[[-13111798.912849903...  \n",
       "849  Very High      Y  {\"hasZ\": true, \"rings\": [[[-13237324.918200016...  \n",
       "850  Very High      Y  {\"hasZ\": true, \"rings\": [[[-13112515.65015006,...  \n",
       "851  Very High      Y  {\"hasZ\": true, \"rings\": [[[-13120146.348050117...  \n",
       "852  Very High      Y  {\"hasZ\": true, \"rings\": [[[-13117596.968699932...  \n",
       "853  Very High      Y  {\"hasZ\": true, \"rings\": [[[-13102140.428950071...  \n",
       "854  Very High      Y  {\"hasZ\": true, \"rings\": [[[-13132228.66050005,...  \n",
       "855  Very High      Y  {\"hasZ\": true, \"rings\": [[[-13122484.230600119...  \n",
       "856  Very High      Y  {\"hasZ\": true, \"rings\": [[[-13223955.17569995,...  \n",
       "857  Very High      Y  {\"hasZ\": true, \"rings\": [[[-13178325.23270011,...  \n",
       "858  Very High      Y  {\"hasZ\": true, \"rings\": [[[-13191216.343400002...  \n",
       "859  Very High      Y  {\"hasZ\": true, \"rings\": [[[-13199527.28944993,...  \n",
       "860  Very High      Y  {\"hasZ\": true, \"rings\": [[[-13130663.22755003,...  \n",
       "861  Very High      Y  {\"hasZ\": true, \"rings\": [[[-13214572.205199957...  \n",
       "862  Very High      Y  {\"hasZ\": true, \"rings\": [[[-13194613.246200085...  \n",
       "863  Very High      Y  {\"hasZ\": true, \"rings\": [[[-13223635.862050056...  \n",
       "864  Very High      Y  {\"hasZ\": true, \"rings\": [[[-13168039.468050003...  \n",
       "865  Very High      Y  {\"hasZ\": true, \"rings\": [[[-13171035.725300074...  \n",
       "866  Very High      Y  {\"hasZ\": true, \"rings\": [[[-13162248.122800112...  \n",
       "867  Very High      Y  {\"hasZ\": true, \"rings\": [[[-13175343.221299887...  \n",
       "868  Very High      Y  {\"hasZ\": true, \"rings\": [[[-13162276.400899887...  \n",
       "869  Very High      Y  {\"hasZ\": true, \"rings\": [[[-13122482.052999973...  \n",
       "870  Very High      Y  {\"hasZ\": true, \"rings\": [[[-13157951.444299936...  \n",
       "871  Very High      Y  {\"hasZ\": true, \"rings\": [[[-13159937.259249926...  "
      ]
     },
     "execution_count": 72,
     "metadata": {},
     "output_type": "execute_result"
    }
   ],
   "source": [
    "cal_f = cal_fire_sdf_df_Filtered_df.iloc[841:872]\n",
    "cal_f"
   ]
  },
  {
   "cell_type": "code",
   "execution_count": 73,
   "metadata": {},
   "outputs": [
    {
     "name": "stderr",
     "output_type": "stream",
     "text": [
      "/opt/conda/lib/python3.9/site-packages/pandas/core/indexing.py:1817: SettingWithCopyWarning: \n",
      "A value is trying to be set on a copy of a slice from a DataFrame.\n",
      "Try using .loc[row_indexer,col_indexer] = value instead\n",
      "\n",
      "See the caveats in the documentation: https://pandas.pydata.org/pandas-docs/stable/user_guide/indexing.html#returning-a-view-versus-a-copy\n",
      "  self._setitem_single_column(loc, value, pi)\n"
     ]
    },
    {
     "data": {
      "text/html": [
       "<div class=\"item_container\" style=\"height: auto; overflow: hidden; border: 1px solid #cfcfcf; border-radius: 2px; background: #f6fafa; line-height: 1.21429em; padding: 10px;\">\n",
       "                    <div class=\"item_left\" style=\"width: 210px; float: left;\">\n",
       "                       <a href='https://www.arcgis.com/home/item.html?id=28083c66be994291bdc3800902d34bd4' target='_blank'>\n",
       "                        <img src='http://static.arcgis.com/images/desktopapp.png' class=\"itemThumbnail\">\n",
       "                       </a>\n",
       "                    </div>\n",
       "\n",
       "                    <div class=\"item_right\"     style=\"float: none; width: auto; overflow: hidden;\">\n",
       "                        <a href='https://www.arcgis.com/home/item.html?id=28083c66be994291bdc3800902d34bd4' target='_blank'><b>cal_fire_2</b>\n",
       "                        </a>\n",
       "                        <br/><img src='https://www.arcgis.com/home/js/jsapi/esri/css/images/item_type_icons/featureshosted16.png' style=\"vertical-align:middle;\">Feature Layer Collection by david.marcucci\n",
       "                        <br/>Last Modified: December 09, 2022\n",
       "                        <br/>0 comments, 0 views\n",
       "                    </div>\n",
       "                </div>\n",
       "                "
      ],
      "text/plain": [
       "<Item title:\"cal_fire_2\" type:Feature Layer Collection owner:david.marcucci>"
      ]
     },
     "execution_count": 73,
     "metadata": {},
     "output_type": "execute_result"
    }
   ],
   "source": [
    "cal_fire_sdf_df_Filtered_df_FilteredLayer = cal_f.spatial.to_featurelayer(title='cal_fire_2',tags=['cal_fire'])\n",
    "cal_fire_sdf_df_Filtered_df_FilteredLayer"
   ]
  },
  {
   "cell_type": "code",
   "execution_count": 74,
   "metadata": {
    "scrolled": true
   },
   "outputs": [
    {
     "data": {
      "application/vnd.jupyter.widget-view+json": {
       "model_id": "52c775dee162426cbd0e9a5fe7f97aef",
       "version_major": 2,
       "version_minor": 0
      },
      "text/plain": [
       "MapView(layout=Layout(height='400px', width='100%'))"
      ]
     },
     "metadata": {},
     "output_type": "display_data"
    },
    {
     "data": {
      "text/html": [
       "<div class=\"map-static-img-preview-fbbd08ce-a60a-4db5-9b66-61704e48a4b3\"><img src=\"\"></img></div>"
      ],
      "text/plain": [
       "<IPython.core.display.HTML object>"
      ]
     },
     "metadata": {},
     "output_type": "display_data"
    },
    {
     "data": {
      "text/html": [
       "<div class=\"map-html-embed-preview-fbbd08ce-a60a-4db5-9b66-61704e48a4b3\"></div>"
      ],
      "text/plain": [
       "<IPython.core.display.HTML object>"
      ]
     },
     "metadata": {},
     "output_type": "display_data"
    }
   ],
   "source": [
    "map_view_5 = cal_f.spatial.plot(alpha=0.10)\n",
    "map_view_5"
   ]
  },
  {
   "cell_type": "markdown",
   "metadata": {},
   "source": [
    "## ANALYSIS:"
   ]
  },
  {
   "cell_type": "markdown",
   "metadata": {},
   "source": [
    "#### 1. POPULATION DATA"
   ]
  },
  {
   "cell_type": "markdown",
   "metadata": {},
   "source": [
    "#### 2. ANNUAL AVERAGE PM 2.5 PARTICLES"
   ]
  },
  {
   "cell_type": "markdown",
   "metadata": {},
   "source": [
    "#### 3. ASTHMA EFFECT DUE TO PM 2.5 IN LOS ANGELES AND SAN BERNARDINO COUNTY"
   ]
  },
  {
   "cell_type": "markdown",
   "metadata": {},
   "source": [
    "#### 4. CALIFORNIA FIRE HAZARD MAP"
   ]
  },
  {
   "cell_type": "markdown",
   "metadata": {},
   "source": [
    "## Joining population data vs annual average PM 2.5 particles:"
   ]
  },
  {
   "cell_type": "code",
   "execution_count": 76,
   "metadata": {
    "scrolled": true
   },
   "outputs": [
    {
     "name": "stderr",
     "output_type": "stream",
     "text": [
      "{\"cost\": 0.017}\n"
     ]
    },
    {
     "data": {
      "text/html": [
       "<div class=\"item_container\" style=\"height: auto; overflow: hidden; border: 1px solid #cfcfcf; border-radius: 2px; background: #f6fafa; line-height: 1.21429em; padding: 10px;\">\n",
       "                    <div class=\"item_left\" style=\"width: 210px; float: left;\">\n",
       "                       <a href='https://www.arcgis.com/home/item.html?id=b3eb2458eeb7453985ec98343246cab1' target='_blank'>\n",
       "                        <img src='http://static.arcgis.com/images/desktopapp.png' class=\"itemThumbnail\">\n",
       "                       </a>\n",
       "                    </div>\n",
       "\n",
       "                    <div class=\"item_right\"     style=\"float: none; width: auto; overflow: hidden;\">\n",
       "                        <a href='https://www.arcgis.com/home/item.html?id=b3eb2458eeb7453985ec98343246cab1' target='_blank'><b>results_populationvsannualpm_Join_DM2</b>\n",
       "                        </a>\n",
       "                        <br/><img src='https://www.arcgis.com/home/js/jsapi/esri/css/images/item_type_icons/featureshosted16.png' style=\"vertical-align:middle;\">Feature Layer Collection by david.marcucci\n",
       "                        <br/>Last Modified: December 09, 2022\n",
       "                        <br/>0 comments, 0 views\n",
       "                    </div>\n",
       "                </div>\n",
       "                "
      ],
      "text/plain": [
       "<Item title:\"results_populationvsannualpm_Join_DM2\" type:Feature Layer Collection owner:david.marcucci>"
      ]
     },
     "execution_count": 76,
     "metadata": {},
     "output_type": "execute_result"
    }
   ],
   "source": [
    "join_populationvsannual_pm_fl = analysis.join_features(population_df_Filtered_df, Annual_pm2_5_df_df_Filtered_df,spatial_relationship='intersects', output_name='results_populationvsannualpm_Join_DM2')\n",
    "join_populationvsannual_pm_fl"
   ]
  },
  {
   "cell_type": "code",
   "execution_count": 77,
   "metadata": {},
   "outputs": [
    {
     "data": {
      "text/html": [
       "<div class=\"item_container\" style=\"height: auto; overflow: hidden; border: 1px solid #cfcfcf; border-radius: 2px; background: #f6fafa; line-height: 1.21429em; padding: 10px;\">\n",
       "                    <div class=\"item_left\" style=\"width: 210px; float: left;\">\n",
       "                       <a href='https://www.arcgis.com/home/item.html?id=00f8a30900de451787ff2a8c42b15748' target='_blank'>\n",
       "                        <img src='data:image/png;base64,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' width='200' height='133' class=\"itemThumbnail\">\n",
       "                       </a>\n",
       "                    </div>\n",
       "\n",
       "                    <div class=\"item_right\"     style=\"float: none; width: auto; overflow: hidden;\">\n",
       "                        <a href='https://www.arcgis.com/home/item.html?id=00f8a30900de451787ff2a8c42b15748' target='_blank'><b>results_populationvsannualpm_Join_DM</b>\n",
       "                        </a>\n",
       "                        <br/><img src='https://www.arcgis.com/home/js/jsapi/esri/css/images/item_type_icons/featureshosted16.png' style=\"vertical-align:middle;\">Feature Layer Collection by david.marcucci\n",
       "                        <br/>Last Modified: December 09, 2022\n",
       "                        <br/>0 comments, 10 views\n",
       "                    </div>\n",
       "                </div>\n",
       "                "
      ],
      "text/plain": [
       "<Item title:\"results_populationvsannualpm_Join_DM\" type:Feature Layer Collection owner:david.marcucci>"
      ]
     },
     "execution_count": 77,
     "metadata": {},
     "output_type": "execute_result"
    }
   ],
   "source": [
    "# Item Added From Toolbar\n",
    "# Title: results_populationvsannualpm_Join_MM | Type: Feature Service | Owner: mohammad-abdul-muneer-mogni.shaik\n",
    "join_populationvsannual_pm_fl = gis.content.get(\"00f8a30900de451787ff2a8c42b15748\")\n",
    "join_populationvsannual_pm_fl"
   ]
  },
  {
   "cell_type": "code",
   "execution_count": 78,
   "metadata": {},
   "outputs": [
    {
     "data": {
      "application/vnd.jupyter.widget-view+json": {
       "model_id": "0e2a78d571e540c3978b5a0886172faa",
       "version_major": 2,
       "version_minor": 0
      },
      "text/plain": [
       "MapView(layout=Layout(height='400px', width='100%'))"
      ]
     },
     "metadata": {},
     "output_type": "display_data"
    },
    {
     "data": {
      "text/html": [
       "<div class=\"map-static-img-preview-e9937474-ccf2-4c9c-a256-291a0f4d143a\"><img src=\"\"></img></div>"
      ],
      "text/plain": [
       "<IPython.core.display.HTML object>"
      ]
     },
     "metadata": {},
     "output_type": "display_data"
    },
    {
     "data": {
      "text/html": [
       "<div class=\"map-html-embed-preview-e9937474-ccf2-4c9c-a256-291a0f4d143a\"></div>"
      ],
      "text/plain": [
       "<IPython.core.display.HTML object>"
      ]
     },
     "metadata": {},
     "output_type": "display_data"
    }
   ],
   "source": [
    "#Let’s map our joined layer\n",
    "populationvsannualpm_map = gis.map('Los Angeles, CA', zoomlevel=9)\n",
    "populationvsannualpm_map.add_layer(join_populationvsannual_pm_fl)\n",
    "populationvsannualpm_map"
   ]
  },
  {
   "cell_type": "markdown",
   "metadata": {},
   "source": [
    "## INTERPOLATION OF JOINED POPULATIONVSANNUALPM MAP & ASTHMA DUE TO PM2.5 MAP: USING ASTHMA FIELD"
   ]
  },
  {
   "cell_type": "code",
   "execution_count": 79,
   "metadata": {},
   "outputs": [
    {
     "data": {
      "text/html": [
       "<div class=\"item_container\" style=\"height: auto; overflow: hidden; border: 1px solid #cfcfcf; border-radius: 2px; background: #f6fafa; line-height: 1.21429em; padding: 10px;\">\n",
       "                    <div class=\"item_left\" style=\"width: 210px; float: left;\">\n",
       "                       <a href='https://www.arcgis.com/home/item.html?id=fd549e39d9cd425f9b8c046d07842f47' target='_blank'>\n",
       "                        <img src='http://static.arcgis.com/images/desktopapp.png' class=\"itemThumbnail\">\n",
       "                       </a>\n",
       "                    </div>\n",
       "\n",
       "                    <div class=\"item_right\"     style=\"float: none; width: auto; overflow: hidden;\">\n",
       "                        <a href='https://www.arcgis.com/home/item.html?id=fd549e39d9cd425f9b8c046d07842f47' target='_blank'><b>asthma_LA</b>\n",
       "                        </a>\n",
       "                        <br/><img src='https://www.arcgis.com/home/js/jsapi/esri/css/images/item_type_icons/featureshosted16.png' style=\"vertical-align:middle;\">Feature Layer Collection by david.marcucci\n",
       "                        <br/>Last Modified: December 08, 2022\n",
       "                        <br/>0 comments, 5 views\n",
       "                    </div>\n",
       "                </div>\n",
       "                "
      ],
      "text/plain": [
       "<Item title:\"asthma_LA\" type:Feature Layer Collection owner:david.marcucci>"
      ]
     },
     "execution_count": 79,
     "metadata": {},
     "output_type": "execute_result"
    }
   ],
   "source": [
    "interpolate_asthma = gis.content.get(\"fd549e39d9cd425f9b8c046d07842f47\")\n",
    "interpolate_asthma"
   ]
  },
  {
   "cell_type": "code",
   "execution_count": 80,
   "metadata": {},
   "outputs": [
    {
     "data": {
      "text/html": [
       "<div class=\"item_container\" style=\"height: auto; overflow: hidden; border: 1px solid #cfcfcf; border-radius: 2px; background: #f6fafa; line-height: 1.21429em; padding: 10px;\">\n",
       "                    <div class=\"item_left\" style=\"width: 210px; float: left;\">\n",
       "                       <a href='https://www.arcgis.com/home/item.html?id=00f8a30900de451787ff2a8c42b15748' target='_blank'>\n",
       "                        <img src='data:image/png;base64,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' width='200' height='133' class=\"itemThumbnail\">\n",
       "                       </a>\n",
       "                    </div>\n",
       "\n",
       "                    <div class=\"item_right\"     style=\"float: none; width: auto; overflow: hidden;\">\n",
       "                        <a href='https://www.arcgis.com/home/item.html?id=00f8a30900de451787ff2a8c42b15748' target='_blank'><b>results_populationvsannualpm_Join_DM</b>\n",
       "                        </a>\n",
       "                        <br/><img src='https://www.arcgis.com/home/js/jsapi/esri/css/images/item_type_icons/featureshosted16.png' style=\"vertical-align:middle;\">Feature Layer Collection by david.marcucci\n",
       "                        <br/>Last Modified: December 09, 2022\n",
       "                        <br/>0 comments, 10 views\n",
       "                    </div>\n",
       "                </div>\n",
       "                "
      ],
      "text/plain": [
       "<Item title:\"results_populationvsannualpm_Join_DM\" type:Feature Layer Collection owner:david.marcucci>"
      ]
     },
     "execution_count": 80,
     "metadata": {},
     "output_type": "execute_result"
    }
   ],
   "source": [
    "# Item Added From Toolbar\n",
    "# Title: results_populationvsannualpm_Join_MM | Type: Feature Service | Owner: mohammad-abdul-muneer-mogni.shaik\n",
    "va_border = gis.content.get(\"00f8a30900de451787ff2a8c42b15748\")\n",
    "va_border"
   ]
  },
  {
   "cell_type": "code",
   "execution_count": 82,
   "metadata": {},
   "outputs": [
    {
     "name": "stderr",
     "output_type": "stream",
     "text": [
      "{\"cost\": 0.692}\n"
     ]
    }
   ],
   "source": [
    "interpolated_asthma = interpolate_points(interpolate_asthma,field='Asthma', interpolate_option= 5, output_prediction_error=True, classification_type='GeometricInterval', num_classes = 8, bounding_polygon_layer = va_border, output_name= 'interpolated_asthma_DM2')"
   ]
  },
  {
   "cell_type": "code",
   "execution_count": 83,
   "metadata": {},
   "outputs": [
    {
     "data": {
      "text/html": [
       "<div class=\"item_container\" style=\"height: auto; overflow: hidden; border: 1px solid #cfcfcf; border-radius: 2px; background: #f6fafa; line-height: 1.21429em; padding: 10px;\">\n",
       "                    <div class=\"item_left\" style=\"width: 210px; float: left;\">\n",
       "                       <a href='https://www.arcgis.com/home/item.html?id=309c8a47a73a400883c039d53aa9b6a9' target='_blank'>\n",
       "                        <img src='http://static.arcgis.com/images/desktopapp.png' class=\"itemThumbnail\">\n",
       "                       </a>\n",
       "                    </div>\n",
       "\n",
       "                    <div class=\"item_right\"     style=\"float: none; width: auto; overflow: hidden;\">\n",
       "                        <a href='https://www.arcgis.com/home/item.html?id=309c8a47a73a400883c039d53aa9b6a9' target='_blank'><b>interpolated_asthma_DM</b>\n",
       "                        </a>\n",
       "                        <br/><img src='https://www.arcgis.com/home/js/jsapi/esri/css/images/item_type_icons/featureshosted16.png' style=\"vertical-align:middle;\">Feature Layer Collection by david.marcucci\n",
       "                        <br/>Last Modified: December 08, 2022\n",
       "                        <br/>0 comments, 7 views\n",
       "                    </div>\n",
       "                </div>\n",
       "                "
      ],
      "text/plain": [
       "<Item title:\"interpolated_asthma_DM\" type:Feature Layer Collection owner:david.marcucci>"
      ]
     },
     "execution_count": 83,
     "metadata": {},
     "output_type": "execute_result"
    }
   ],
   "source": [
    "# Item Added From Toolbar\n",
    "# Title: interpolated_asthma_2 | Type: Feature Service | Owner: mohammad-abdul-muneer-mogni.shaik\n",
    "interpolated_asthma = gis.content.get(\"309c8a47a73a400883c039d53aa9b6a9\")\n",
    "interpolated_asthma"
   ]
  },
  {
   "cell_type": "code",
   "execution_count": 84,
   "metadata": {},
   "outputs": [
    {
     "data": {
      "application/vnd.jupyter.widget-view+json": {
       "model_id": "9d850c913953465fb5ffb10bf9a3291b",
       "version_major": 2,
       "version_minor": 0
      },
      "text/plain": [
       "MapView(layout=Layout(height='400px', width='100%'))"
      ]
     },
     "metadata": {},
     "output_type": "display_data"
    },
    {
     "data": {
      "text/html": [
       "<div class=\"map-static-img-preview-832d8b4e-a776-465b-97cb-bafbbdca6dc8\"><img src=\"\"></img></div>"
      ],
      "text/plain": [
       "<IPython.core.display.HTML object>"
      ]
     },
     "metadata": {},
     "output_type": "display_data"
    },
    {
     "data": {
      "text/html": [
       "<div class=\"map-html-embed-preview-832d8b4e-a776-465b-97cb-bafbbdca6dc8\"></div>"
      ],
      "text/plain": [
       "<IPython.core.display.HTML object>"
      ]
     },
     "metadata": {},
     "output_type": "display_data"
    }
   ],
   "source": [
    "interpolation_map = gis.map('Los Angeles, CA', zoomlevel=9)\n",
    "interpolation_map.add_layer(interpolated_asthma)\n",
    "interpolation_map"
   ]
  },
  {
   "cell_type": "markdown",
   "metadata": {},
   "source": [
    "## INTERPOLATION OF PM2.5 DATA AND WILDFIRES: USING PM2.5PERCENTILE FIELD"
   ]
  },
  {
   "cell_type": "code",
   "execution_count": 85,
   "metadata": {},
   "outputs": [
    {
     "data": {
      "text/html": [
       "<div class=\"item_container\" style=\"height: auto; overflow: hidden; border: 1px solid #cfcfcf; border-radius: 2px; background: #f6fafa; line-height: 1.21429em; padding: 10px;\">\n",
       "                    <div class=\"item_left\" style=\"width: 210px; float: left;\">\n",
       "                       <a href='https://www.arcgis.com/home/item.html?id=fd549e39d9cd425f9b8c046d07842f47' target='_blank'>\n",
       "                        <img src='http://static.arcgis.com/images/desktopapp.png' class=\"itemThumbnail\">\n",
       "                       </a>\n",
       "                    </div>\n",
       "\n",
       "                    <div class=\"item_right\"     style=\"float: none; width: auto; overflow: hidden;\">\n",
       "                        <a href='https://www.arcgis.com/home/item.html?id=fd549e39d9cd425f9b8c046d07842f47' target='_blank'><b>asthma_LA</b>\n",
       "                        </a>\n",
       "                        <br/><img src='https://www.arcgis.com/home/js/jsapi/esri/css/images/item_type_icons/featureshosted16.png' style=\"vertical-align:middle;\">Feature Layer Collection by david.marcucci\n",
       "                        <br/>Last Modified: December 08, 2022\n",
       "                        <br/>0 comments, 6 views\n",
       "                    </div>\n",
       "                </div>\n",
       "                "
      ],
      "text/plain": [
       "<Item title:\"asthma_LA\" type:Feature Layer Collection owner:david.marcucci>"
      ]
     },
     "execution_count": 85,
     "metadata": {},
     "output_type": "execute_result"
    }
   ],
   "source": [
    "# Item Added From Toolbar\n",
    "# Title: annualpm2.5 | Type: File Geodatabase | Owner: mohammad-abdul-muneer-mogni.shaik\n",
    "asth = gis.content.get(\"fd549e39d9cd425f9b8c046d07842f47\")\n",
    "asth"
   ]
  },
  {
   "cell_type": "code",
   "execution_count": 86,
   "metadata": {},
   "outputs": [
    {
     "data": {
      "text/html": [
       "<div class=\"item_container\" style=\"height: auto; overflow: hidden; border: 1px solid #cfcfcf; border-radius: 2px; background: #f6fafa; line-height: 1.21429em; padding: 10px;\">\n",
       "                    <div class=\"item_left\" style=\"width: 210px; float: left;\">\n",
       "                       <a href='https://www.arcgis.com/home/item.html?id=38f63d782e1947faa7a56c4384da2c77' target='_blank'>\n",
       "                        <img src='http://static.arcgis.com/images/desktopapp.png' class=\"itemThumbnail\">\n",
       "                       </a>\n",
       "                    </div>\n",
       "\n",
       "                    <div class=\"item_right\"     style=\"float: none; width: auto; overflow: hidden;\">\n",
       "                        <a href='https://www.arcgis.com/home/item.html?id=38f63d782e1947faa7a56c4384da2c77' target='_blank'><b>cal_fire_2</b>\n",
       "                        </a>\n",
       "                        <br/><img src='https://www.arcgis.com/home/js/jsapi/esri/css/images/item_type_icons/featureshosted16.png' style=\"vertical-align:middle;\">Feature Layer Collection by david.marcucci\n",
       "                        <br/>Last Modified: December 08, 2022\n",
       "                        <br/>0 comments, 3 views\n",
       "                    </div>\n",
       "                </div>\n",
       "                "
      ],
      "text/plain": [
       "<Item title:\"cal_fire_2\" type:Feature Layer Collection owner:david.marcucci>"
      ]
     },
     "execution_count": 86,
     "metadata": {},
     "output_type": "execute_result"
    }
   ],
   "source": [
    "# Item Added From Toolbar\n",
    "# Title: cal_fire_2 | Type: Feature Service | Owner: mohammad-abdul-muneer-mogni.shaik\n",
    "calf = gis.content.get(\"38f63d782e1947faa7a56c4384da2c77\")\n",
    "calf"
   ]
  },
  {
   "cell_type": "code",
   "execution_count": 87,
   "metadata": {},
   "outputs": [
    {
     "name": "stderr",
     "output_type": "stream",
     "text": [
      "{\"cost\": 0.722}\n"
     ]
    }
   ],
   "source": [
    "interpolated_calf_annual_DM = interpolate_points(asth,field='PM2_5_Pctl', interpolate_option= 5, output_prediction_error=True, classification_type='GeometricInterval', num_classes = 8, bounding_polygon_layer = calf, output_name= 'interpolated_calf_annual_DM2')"
   ]
  },
  {
   "cell_type": "code",
   "execution_count": 88,
   "metadata": {},
   "outputs": [
    {
     "data": {
      "text/html": [
       "<div class=\"item_container\" style=\"height: auto; overflow: hidden; border: 1px solid #cfcfcf; border-radius: 2px; background: #f6fafa; line-height: 1.21429em; padding: 10px;\">\n",
       "                    <div class=\"item_left\" style=\"width: 210px; float: left;\">\n",
       "                       <a href='https://www.arcgis.com/home/item.html?id=ad24efa57e9f4035b7e3382abb04c9b9' target='_blank'>\n",
       "                        <img src='http://static.arcgis.com/images/desktopapp.png' class=\"itemThumbnail\">\n",
       "                       </a>\n",
       "                    </div>\n",
       "\n",
       "                    <div class=\"item_right\"     style=\"float: none; width: auto; overflow: hidden;\">\n",
       "                        <a href='https://www.arcgis.com/home/item.html?id=ad24efa57e9f4035b7e3382abb04c9b9' target='_blank'><b>interpolated_calf_annual_DM2</b>\n",
       "                        </a>\n",
       "                        <br/><img src='https://www.arcgis.com/home/js/jsapi/esri/css/images/item_type_icons/featureshosted16.png' style=\"vertical-align:middle;\">Feature Layer Collection by david.marcucci\n",
       "                        <br/>Last Modified: December 09, 2022\n",
       "                        <br/>0 comments, 0 views\n",
       "                    </div>\n",
       "                </div>\n",
       "                "
      ],
      "text/plain": [
       "<Item title:\"interpolated_calf_annual_DM2\" type:Feature Layer Collection owner:david.marcucci>"
      ]
     },
     "execution_count": 88,
     "metadata": {},
     "output_type": "execute_result"
    }
   ],
   "source": [
    "interpolated_calf_annual_DM"
   ]
  },
  {
   "cell_type": "code",
   "execution_count": 89,
   "metadata": {},
   "outputs": [
    {
     "data": {
      "text/html": [
       "<div class=\"item_container\" style=\"height: auto; overflow: hidden; border: 1px solid #cfcfcf; border-radius: 2px; background: #f6fafa; line-height: 1.21429em; padding: 10px;\">\n",
       "                    <div class=\"item_left\" style=\"width: 210px; float: left;\">\n",
       "                       <a href='https://www.arcgis.com/home/item.html?id=5c4f649e3bb94a0b8d2c74d1aba5d886' target='_blank'>\n",
       "                        <img src='http://static.arcgis.com/images/desktopapp.png' class=\"itemThumbnail\">\n",
       "                       </a>\n",
       "                    </div>\n",
       "\n",
       "                    <div class=\"item_right\"     style=\"float: none; width: auto; overflow: hidden;\">\n",
       "                        <a href='https://www.arcgis.com/home/item.html?id=5c4f649e3bb94a0b8d2c74d1aba5d886' target='_blank'><b>interpolated_calf_annual_DM</b>\n",
       "                        </a>\n",
       "                        <br/><img src='https://www.arcgis.com/home/js/jsapi/esri/css/images/item_type_icons/featureshosted16.png' style=\"vertical-align:middle;\">Feature Layer Collection by david.marcucci\n",
       "                        <br/>Last Modified: December 08, 2022\n",
       "                        <br/>0 comments, 8 views\n",
       "                    </div>\n",
       "                </div>\n",
       "                "
      ],
      "text/plain": [
       "<Item title:\"interpolated_calf_annual_DM\" type:Feature Layer Collection owner:david.marcucci>"
      ]
     },
     "execution_count": 89,
     "metadata": {},
     "output_type": "execute_result"
    }
   ],
   "source": [
    "# Item Added From Toolbar\n",
    "# Title: interpolated_calf_annual_2 | Type: Feature Service | Owner: mohammad-abdul-muneer-mogni.shaik\n",
    "interpolated_calf_annual = gis.content.get(\"5c4f649e3bb94a0b8d2c74d1aba5d886\")\n",
    "interpolated_calf_annual"
   ]
  },
  {
   "cell_type": "code",
   "execution_count": 90,
   "metadata": {},
   "outputs": [
    {
     "data": {
      "application/vnd.jupyter.widget-view+json": {
       "model_id": "1bb95e5fc000401ab33cede9170860f2",
       "version_major": 2,
       "version_minor": 0
      },
      "text/plain": [
       "MapView(layout=Layout(height='400px', width='100%'))"
      ]
     },
     "metadata": {},
     "output_type": "display_data"
    },
    {
     "data": {
      "text/html": [
       "<div class=\"map-static-img-preview-32330796-359c-42c5-b3d8-7d844222308f\"><img src=\"\"></img></div>"
      ],
      "text/plain": [
       "<IPython.core.display.HTML object>"
      ]
     },
     "metadata": {},
     "output_type": "display_data"
    },
    {
     "data": {
      "text/html": [
       "<div class=\"map-html-embed-preview-32330796-359c-42c5-b3d8-7d844222308f\"></div>"
      ],
      "text/plain": [
       "<IPython.core.display.HTML object>"
      ]
     },
     "metadata": {},
     "output_type": "display_data"
    }
   ],
   "source": [
    "interpolation_ma = gis.map('Los Angeles, CA', zoomlevel=9)\n",
    "interpolation_ma.add_layer(interpolated_calf_annual)\n",
    "interpolation_ma"
   ]
  },
  {
   "cell_type": "markdown",
   "metadata": {},
   "source": [
    "### HOSPITAL DATA:\n"
   ]
  },
  {
   "cell_type": "code",
   "execution_count": 91,
   "metadata": {},
   "outputs": [
    {
     "data": {
      "text/html": [
       "<div class=\"item_container\" style=\"height: auto; overflow: hidden; border: 1px solid #cfcfcf; border-radius: 2px; background: #f6fafa; line-height: 1.21429em; padding: 10px;\">\n",
       "                    <div class=\"item_left\" style=\"width: 210px; float: left;\">\n",
       "                       <a href='https://www.arcgis.com/home/item.html?id=983f9ae45c9d46ce89822545c878c842' target='_blank'>\n",
       "                        <img src='data:image/png;base64,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' width='200' height='133' class=\"itemThumbnail\">\n",
       "                       </a>\n",
       "                    </div>\n",
       "\n",
       "                    <div class=\"item_right\"     style=\"float: none; width: auto; overflow: hidden;\">\n",
       "                        <a href='https://www.arcgis.com/home/item.html?id=983f9ae45c9d46ce89822545c878c842' target='_blank'><b>Hospitals_and_Medical_Centers</b>\n",
       "                        </a>\n",
       "                        <br/><img src='https://www.arcgis.com/home/js/jsapi/esri/css/images/item_type_icons/featureshosted16.png' style=\"vertical-align:middle;\">Feature Layer Collection by mohammad-abdul-muneer-mogni.shaik\n",
       "                        <br/>Last Modified: December 08, 2022\n",
       "                        <br/>0 comments, 11 views\n",
       "                    </div>\n",
       "                </div>\n",
       "                "
      ],
      "text/plain": [
       "<Item title:\"Hospitals_and_Medical_Centers\" type:Feature Layer Collection owner:mohammad-abdul-muneer-mogni.shaik>"
      ]
     },
     "execution_count": 91,
     "metadata": {},
     "output_type": "execute_result"
    }
   ],
   "source": [
    "# Item Added From Toolbar\n",
    "# Title: Hospitals_and_Medical_Centers | Type: Feature Service | Owner: mohammad-abdul-muneer-mogni.shaik\n",
    "hospital = gis.content.get(\"983f9ae45c9d46ce89822545c878c842\")\n",
    "hospital"
   ]
  },
  {
   "cell_type": "code",
   "execution_count": 92,
   "metadata": {
    "scrolled": true
   },
   "outputs": [
    {
     "data": {
      "text/html": [
       "<div>\n",
       "<style scoped>\n",
       "    .dataframe tbody tr th:only-of-type {\n",
       "        vertical-align: middle;\n",
       "    }\n",
       "\n",
       "    .dataframe tbody tr th {\n",
       "        vertical-align: top;\n",
       "    }\n",
       "\n",
       "    .dataframe thead th {\n",
       "        text-align: right;\n",
       "    }\n",
       "</style>\n",
       "<table border=\"1\" class=\"dataframe\">\n",
       "  <thead>\n",
       "    <tr style=\"text-align: right;\">\n",
       "      <th></th>\n",
       "      <th>FID</th>\n",
       "      <th>OBJECTID</th>\n",
       "      <th>source</th>\n",
       "      <th>ext_id</th>\n",
       "      <th>cat1</th>\n",
       "      <th>cat2</th>\n",
       "      <th>cat3</th>\n",
       "      <th>org_name</th>\n",
       "      <th>Name</th>\n",
       "      <th>addrln1</th>\n",
       "      <th>...</th>\n",
       "      <th>link</th>\n",
       "      <th>use_type</th>\n",
       "      <th>latitude</th>\n",
       "      <th>longitude</th>\n",
       "      <th>date_updat</th>\n",
       "      <th>email</th>\n",
       "      <th>dis_status</th>\n",
       "      <th>POINT_X</th>\n",
       "      <th>POINT_Y</th>\n",
       "      <th>SHAPE</th>\n",
       "    </tr>\n",
       "  </thead>\n",
       "  <tbody>\n",
       "    <tr>\n",
       "      <th>0</th>\n",
       "      <td>1</td>\n",
       "      <td>9</td>\n",
       "      <td>211</td>\n",
       "      <td></td>\n",
       "      <td>Health and Mental Health</td>\n",
       "      <td>Hospitals and Medical Centers</td>\n",
       "      <td>911 Receiving</td>\n",
       "      <td></td>\n",
       "      <td>Verdugo Hills Hospital</td>\n",
       "      <td>1812 Verdugo Blvd.</td>\n",
       "      <td>...</td>\n",
       "      <td>http://egis3.lacounty.gov/lms/?p=560</td>\n",
       "      <td>publish</td>\n",
       "      <td>34.204530</td>\n",
       "      <td>-118.216023</td>\n",
       "      <td>2016-01-29</td>\n",
       "      <td></td>\n",
       "      <td></td>\n",
       "      <td>6.496353e+06</td>\n",
       "      <td>1.896883e+06</td>\n",
       "      <td>{\"x\": -13159747.54031195, \"y\": 4056298.5246833...</td>\n",
       "    </tr>\n",
       "    <tr>\n",
       "      <th>1</th>\n",
       "      <td>2</td>\n",
       "      <td>11</td>\n",
       "      <td>211</td>\n",
       "      <td></td>\n",
       "      <td>Health and Mental Health</td>\n",
       "      <td>Hospitals and Medical Centers</td>\n",
       "      <td>Respiratory Hospital</td>\n",
       "      <td></td>\n",
       "      <td>Barlow Respiratory Hospital - Los Angeles (Mai...</td>\n",
       "      <td>2000 Stadium Way</td>\n",
       "      <td>...</td>\n",
       "      <td>http://egis3.lacounty.gov/lms/?p=561</td>\n",
       "      <td>publish</td>\n",
       "      <td>34.075693</td>\n",
       "      <td>-118.248312</td>\n",
       "      <td>2016-01-21</td>\n",
       "      <td></td>\n",
       "      <td></td>\n",
       "      <td>6.486475e+06</td>\n",
       "      <td>1.850019e+06</td>\n",
       "      <td>{\"x\": -13163341.837440426, \"y\": 4038970.237345...</td>\n",
       "    </tr>\n",
       "    <tr>\n",
       "      <th>2</th>\n",
       "      <td>3</td>\n",
       "      <td>20</td>\n",
       "      <td>211</td>\n",
       "      <td></td>\n",
       "      <td>Health and Mental Health</td>\n",
       "      <td>Hospitals and Medical Centers</td>\n",
       "      <td>911 Receiving</td>\n",
       "      <td></td>\n",
       "      <td>Glendora Community Hospital</td>\n",
       "      <td>150 W. Route 66</td>\n",
       "      <td>...</td>\n",
       "      <td>http://egis3.lacounty.gov/lms/?p=568</td>\n",
       "      <td>publish</td>\n",
       "      <td>34.127307</td>\n",
       "      <td>-117.865075</td>\n",
       "      <td>2016-01-22</td>\n",
       "      <td></td>\n",
       "      <td></td>\n",
       "      <td>6.602504e+06</td>\n",
       "      <td>1.868737e+06</td>\n",
       "      <td>{\"x\": -13120680.093184762, \"y\": 4045909.118269...</td>\n",
       "    </tr>\n",
       "    <tr>\n",
       "      <th>3</th>\n",
       "      <td>4</td>\n",
       "      <td>25</td>\n",
       "      <td>211</td>\n",
       "      <td></td>\n",
       "      <td>Health and Mental Health</td>\n",
       "      <td>Hospitals and Medical Centers</td>\n",
       "      <td>911 Receiving</td>\n",
       "      <td>Providence Little  Company of Mary Medical Center</td>\n",
       "      <td>Providence Little Company Of Mary Medical Cent...</td>\n",
       "      <td>4101 Torrance Blvd.</td>\n",
       "      <td>...</td>\n",
       "      <td>http://egis3.lacounty.gov/lms/?p=569</td>\n",
       "      <td>publish</td>\n",
       "      <td>33.838634</td>\n",
       "      <td>-118.357113</td>\n",
       "      <td>2016-01-27</td>\n",
       "      <td></td>\n",
       "      <td></td>\n",
       "      <td>6.453221e+06</td>\n",
       "      <td>1.763848e+06</td>\n",
       "      <td>{\"x\": -13175453.55718023, \"y\": 4007155.0699123...</td>\n",
       "    </tr>\n",
       "    <tr>\n",
       "      <th>4</th>\n",
       "      <td>5</td>\n",
       "      <td>35</td>\n",
       "      <td>211</td>\n",
       "      <td></td>\n",
       "      <td>Health and Mental Health</td>\n",
       "      <td>Hospitals and Medical Centers</td>\n",
       "      <td>911 Receiving</td>\n",
       "      <td></td>\n",
       "      <td>Glendale Memorial Hospital And Health Center</td>\n",
       "      <td>1420 S. Central Ave.</td>\n",
       "      <td>...</td>\n",
       "      <td>http://egis3.lacounty.gov/lms/?p=570</td>\n",
       "      <td>publish</td>\n",
       "      <td>34.128058</td>\n",
       "      <td>-118.257443</td>\n",
       "      <td>2016-01-22</td>\n",
       "      <td></td>\n",
       "      <td></td>\n",
       "      <td>6.483758e+06</td>\n",
       "      <td>1.869083e+06</td>\n",
       "      <td>{\"x\": -13164358.341337662, \"y\": 4046010.130088...</td>\n",
       "    </tr>\n",
       "    <tr>\n",
       "      <th>...</th>\n",
       "      <td>...</td>\n",
       "      <td>...</td>\n",
       "      <td>...</td>\n",
       "      <td>...</td>\n",
       "      <td>...</td>\n",
       "      <td>...</td>\n",
       "      <td>...</td>\n",
       "      <td>...</td>\n",
       "      <td>...</td>\n",
       "      <td>...</td>\n",
       "      <td>...</td>\n",
       "      <td>...</td>\n",
       "      <td>...</td>\n",
       "      <td>...</td>\n",
       "      <td>...</td>\n",
       "      <td>...</td>\n",
       "      <td>...</td>\n",
       "      <td>...</td>\n",
       "      <td>...</td>\n",
       "      <td>...</td>\n",
       "      <td>...</td>\n",
       "    </tr>\n",
       "    <tr>\n",
       "      <th>160</th>\n",
       "      <td>161</td>\n",
       "      <td>71348</td>\n",
       "      <td></td>\n",
       "      <td></td>\n",
       "      <td>Health and Mental Health</td>\n",
       "      <td>Hospitals and Medical Centers</td>\n",
       "      <td></td>\n",
       "      <td></td>\n",
       "      <td>Southern California Hospital at Culver City</td>\n",
       "      <td>3828 Delmas Ter</td>\n",
       "      <td>...</td>\n",
       "      <td>http://egis3.lacounty.gov/lms/?p=80733</td>\n",
       "      <td>publish</td>\n",
       "      <td>34.023195</td>\n",
       "      <td>-118.396943</td>\n",
       "      <td>2016-02-02</td>\n",
       "      <td></td>\n",
       "      <td></td>\n",
       "      <td>6.441390e+06</td>\n",
       "      <td>1.831059e+06</td>\n",
       "      <td>{\"x\": -13179887.401400013, \"y\": 4031917.009103...</td>\n",
       "    </tr>\n",
       "    <tr>\n",
       "      <th>161</th>\n",
       "      <td>162</td>\n",
       "      <td>71349</td>\n",
       "      <td></td>\n",
       "      <td></td>\n",
       "      <td>Health and Mental Health</td>\n",
       "      <td>Hospitals and Medical Centers</td>\n",
       "      <td>911 Receiving</td>\n",
       "      <td></td>\n",
       "      <td>Southern California Hospital at Culver City</td>\n",
       "      <td>3828 Delmas Ter</td>\n",
       "      <td>...</td>\n",
       "      <td>http://egis3.lacounty.gov/lms/?p=80733</td>\n",
       "      <td>publish</td>\n",
       "      <td>34.023195</td>\n",
       "      <td>-118.396943</td>\n",
       "      <td>2016-02-02</td>\n",
       "      <td></td>\n",
       "      <td></td>\n",
       "      <td>6.441390e+06</td>\n",
       "      <td>1.831059e+06</td>\n",
       "      <td>{\"x\": -13179887.401400013, \"y\": 4031917.009103...</td>\n",
       "    </tr>\n",
       "    <tr>\n",
       "      <th>162</th>\n",
       "      <td>163</td>\n",
       "      <td>71350</td>\n",
       "      <td></td>\n",
       "      <td></td>\n",
       "      <td>Health and Mental Health</td>\n",
       "      <td>Hospitals and Medical Centers</td>\n",
       "      <td>Acute Care</td>\n",
       "      <td></td>\n",
       "      <td>Southern California Hospital at Culver City</td>\n",
       "      <td>3828 Delmas Ter</td>\n",
       "      <td>...</td>\n",
       "      <td>http://egis3.lacounty.gov/lms/?p=80733</td>\n",
       "      <td>publish</td>\n",
       "      <td>34.023195</td>\n",
       "      <td>-118.396943</td>\n",
       "      <td>2016-02-02</td>\n",
       "      <td></td>\n",
       "      <td></td>\n",
       "      <td>6.441390e+06</td>\n",
       "      <td>1.831059e+06</td>\n",
       "      <td>{\"x\": -13179887.401400013, \"y\": 4031917.009103...</td>\n",
       "    </tr>\n",
       "    <tr>\n",
       "      <th>163</th>\n",
       "      <td>164</td>\n",
       "      <td>71351</td>\n",
       "      <td></td>\n",
       "      <td></td>\n",
       "      <td>Health and Mental Health</td>\n",
       "      <td>Hospitals and Medical Centers</td>\n",
       "      <td></td>\n",
       "      <td></td>\n",
       "      <td>Southern California Hospital at Hollywood</td>\n",
       "      <td>6245 De Longpre Avenue</td>\n",
       "      <td>...</td>\n",
       "      <td>http://egis3.lacounty.gov/lms/?p=80738</td>\n",
       "      <td>publish</td>\n",
       "      <td>34.096445</td>\n",
       "      <td>-118.325144</td>\n",
       "      <td>2016-02-03</td>\n",
       "      <td></td>\n",
       "      <td></td>\n",
       "      <td>6.463232e+06</td>\n",
       "      <td>1.857638e+06</td>\n",
       "      <td>{\"x\": -13171894.773211094, \"y\": 4041759.619096...</td>\n",
       "    </tr>\n",
       "    <tr>\n",
       "      <th>164</th>\n",
       "      <td>165</td>\n",
       "      <td>71352</td>\n",
       "      <td></td>\n",
       "      <td></td>\n",
       "      <td>Health and Mental Health</td>\n",
       "      <td>Hospitals and Medical Centers</td>\n",
       "      <td>Acute Care</td>\n",
       "      <td></td>\n",
       "      <td>Southern California Hospital at Hollywood</td>\n",
       "      <td>6245 De Longpre Avenue</td>\n",
       "      <td>...</td>\n",
       "      <td>http://egis3.lacounty.gov/lms/?p=80738</td>\n",
       "      <td>publish</td>\n",
       "      <td>34.096445</td>\n",
       "      <td>-118.325144</td>\n",
       "      <td>2016-02-03</td>\n",
       "      <td></td>\n",
       "      <td></td>\n",
       "      <td>6.463232e+06</td>\n",
       "      <td>1.857638e+06</td>\n",
       "      <td>{\"x\": -13171894.773211094, \"y\": 4041759.619096...</td>\n",
       "    </tr>\n",
       "  </tbody>\n",
       "</table>\n",
       "<p>165 rows × 31 columns</p>\n",
       "</div>"
      ],
      "text/plain": [
       "     FID  OBJECTID source ext_id                      cat1  \\\n",
       "0      1         9    211         Health and Mental Health   \n",
       "1      2        11    211         Health and Mental Health   \n",
       "2      3        20    211         Health and Mental Health   \n",
       "3      4        25    211         Health and Mental Health   \n",
       "4      5        35    211         Health and Mental Health   \n",
       "..   ...       ...    ...    ...                       ...   \n",
       "160  161     71348                Health and Mental Health   \n",
       "161  162     71349                Health and Mental Health   \n",
       "162  163     71350                Health and Mental Health   \n",
       "163  164     71351                Health and Mental Health   \n",
       "164  165     71352                Health and Mental Health   \n",
       "\n",
       "                              cat2                  cat3  \\\n",
       "0    Hospitals and Medical Centers         911 Receiving   \n",
       "1    Hospitals and Medical Centers  Respiratory Hospital   \n",
       "2    Hospitals and Medical Centers         911 Receiving   \n",
       "3    Hospitals and Medical Centers         911 Receiving   \n",
       "4    Hospitals and Medical Centers         911 Receiving   \n",
       "..                             ...                   ...   \n",
       "160  Hospitals and Medical Centers                         \n",
       "161  Hospitals and Medical Centers         911 Receiving   \n",
       "162  Hospitals and Medical Centers            Acute Care   \n",
       "163  Hospitals and Medical Centers                         \n",
       "164  Hospitals and Medical Centers            Acute Care   \n",
       "\n",
       "                                              org_name  \\\n",
       "0                                                        \n",
       "1                                                        \n",
       "2                                                        \n",
       "3    Providence Little  Company of Mary Medical Center   \n",
       "4                                                        \n",
       "..                                                 ...   \n",
       "160                                                      \n",
       "161                                                      \n",
       "162                                                      \n",
       "163                                                      \n",
       "164                                                      \n",
       "\n",
       "                                                  Name  \\\n",
       "0                               Verdugo Hills Hospital   \n",
       "1    Barlow Respiratory Hospital - Los Angeles (Mai...   \n",
       "2                          Glendora Community Hospital   \n",
       "3    Providence Little Company Of Mary Medical Cent...   \n",
       "4         Glendale Memorial Hospital And Health Center   \n",
       "..                                                 ...   \n",
       "160        Southern California Hospital at Culver City   \n",
       "161        Southern California Hospital at Culver City   \n",
       "162        Southern California Hospital at Culver City   \n",
       "163          Southern California Hospital at Hollywood   \n",
       "164          Southern California Hospital at Hollywood   \n",
       "\n",
       "                    addrln1  ...                                    link  \\\n",
       "0        1812 Verdugo Blvd.  ...    http://egis3.lacounty.gov/lms/?p=560   \n",
       "1          2000 Stadium Way  ...    http://egis3.lacounty.gov/lms/?p=561   \n",
       "2           150 W. Route 66  ...    http://egis3.lacounty.gov/lms/?p=568   \n",
       "3       4101 Torrance Blvd.  ...    http://egis3.lacounty.gov/lms/?p=569   \n",
       "4      1420 S. Central Ave.  ...    http://egis3.lacounty.gov/lms/?p=570   \n",
       "..                      ...  ...                                     ...   \n",
       "160         3828 Delmas Ter  ...  http://egis3.lacounty.gov/lms/?p=80733   \n",
       "161         3828 Delmas Ter  ...  http://egis3.lacounty.gov/lms/?p=80733   \n",
       "162         3828 Delmas Ter  ...  http://egis3.lacounty.gov/lms/?p=80733   \n",
       "163  6245 De Longpre Avenue  ...  http://egis3.lacounty.gov/lms/?p=80738   \n",
       "164  6245 De Longpre Avenue  ...  http://egis3.lacounty.gov/lms/?p=80738   \n",
       "\n",
       "    use_type   latitude   longitude date_updat email dis_status       POINT_X  \\\n",
       "0    publish  34.204530 -118.216023 2016-01-29                   6.496353e+06   \n",
       "1    publish  34.075693 -118.248312 2016-01-21                   6.486475e+06   \n",
       "2    publish  34.127307 -117.865075 2016-01-22                   6.602504e+06   \n",
       "3    publish  33.838634 -118.357113 2016-01-27                   6.453221e+06   \n",
       "4    publish  34.128058 -118.257443 2016-01-22                   6.483758e+06   \n",
       "..       ...        ...         ...        ...   ...        ...           ...   \n",
       "160  publish  34.023195 -118.396943 2016-02-02                   6.441390e+06   \n",
       "161  publish  34.023195 -118.396943 2016-02-02                   6.441390e+06   \n",
       "162  publish  34.023195 -118.396943 2016-02-02                   6.441390e+06   \n",
       "163  publish  34.096445 -118.325144 2016-02-03                   6.463232e+06   \n",
       "164  publish  34.096445 -118.325144 2016-02-03                   6.463232e+06   \n",
       "\n",
       "          POINT_Y                                              SHAPE  \n",
       "0    1.896883e+06  {\"x\": -13159747.54031195, \"y\": 4056298.5246833...  \n",
       "1    1.850019e+06  {\"x\": -13163341.837440426, \"y\": 4038970.237345...  \n",
       "2    1.868737e+06  {\"x\": -13120680.093184762, \"y\": 4045909.118269...  \n",
       "3    1.763848e+06  {\"x\": -13175453.55718023, \"y\": 4007155.0699123...  \n",
       "4    1.869083e+06  {\"x\": -13164358.341337662, \"y\": 4046010.130088...  \n",
       "..            ...                                                ...  \n",
       "160  1.831059e+06  {\"x\": -13179887.401400013, \"y\": 4031917.009103...  \n",
       "161  1.831059e+06  {\"x\": -13179887.401400013, \"y\": 4031917.009103...  \n",
       "162  1.831059e+06  {\"x\": -13179887.401400013, \"y\": 4031917.009103...  \n",
       "163  1.857638e+06  {\"x\": -13171894.773211094, \"y\": 4041759.619096...  \n",
       "164  1.857638e+06  {\"x\": -13171894.773211094, \"y\": 4041759.619096...  \n",
       "\n",
       "[165 rows x 31 columns]"
      ]
     },
     "execution_count": 92,
     "metadata": {},
     "output_type": "execute_result"
    }
   ],
   "source": [
    "# Extracting the data from the Layer\n",
    "hospitalLayer = hospital.layers[0]\n",
    "hospitalLayerDF = pd.DataFrame.spatial.from_layer(hospitalLayer)\n",
    "hospitalLayerDF"
   ]
  },
  {
   "cell_type": "code",
   "execution_count": 93,
   "metadata": {},
   "outputs": [
    {
     "data": {
      "text/plain": [
       "Index(['FID', 'OBJECTID', 'source', 'ext_id', 'cat1', 'cat2', 'cat3',\n",
       "       'org_name', 'Name', 'addrln1', 'addrln2', 'city', 'state', 'hours',\n",
       "       'phones', 'url', 'info1', 'info2', 'post_id', 'descriptio', 'zip',\n",
       "       'link', 'use_type', 'latitude', 'longitude', 'date_updat', 'email',\n",
       "       'dis_status', 'POINT_X', 'POINT_Y', 'SHAPE'],\n",
       "      dtype='object')"
      ]
     },
     "execution_count": 93,
     "metadata": {},
     "output_type": "execute_result"
    }
   ],
   "source": [
    "# Exploring the dataset attributs\n",
    "hospitalLayerDF.columns"
   ]
  },
  {
   "cell_type": "code",
   "execution_count": 94,
   "metadata": {},
   "outputs": [
    {
     "data": {
      "text/html": [
       "<div>\n",
       "<style scoped>\n",
       "    .dataframe tbody tr th:only-of-type {\n",
       "        vertical-align: middle;\n",
       "    }\n",
       "\n",
       "    .dataframe tbody tr th {\n",
       "        vertical-align: top;\n",
       "    }\n",
       "\n",
       "    .dataframe thead th {\n",
       "        text-align: right;\n",
       "    }\n",
       "</style>\n",
       "<table border=\"1\" class=\"dataframe\">\n",
       "  <thead>\n",
       "    <tr style=\"text-align: right;\">\n",
       "      <th></th>\n",
       "      <th>FID</th>\n",
       "      <th>OBJECTID</th>\n",
       "      <th>source</th>\n",
       "      <th>ext_id</th>\n",
       "      <th>cat1</th>\n",
       "      <th>cat2</th>\n",
       "      <th>cat3</th>\n",
       "      <th>org_name</th>\n",
       "      <th>Name</th>\n",
       "      <th>addrln1</th>\n",
       "      <th>...</th>\n",
       "      <th>link</th>\n",
       "      <th>use_type</th>\n",
       "      <th>latitude</th>\n",
       "      <th>longitude</th>\n",
       "      <th>date_updat</th>\n",
       "      <th>email</th>\n",
       "      <th>dis_status</th>\n",
       "      <th>POINT_X</th>\n",
       "      <th>POINT_Y</th>\n",
       "      <th>SHAPE</th>\n",
       "    </tr>\n",
       "  </thead>\n",
       "  <tbody>\n",
       "    <tr>\n",
       "      <th>1</th>\n",
       "      <td>2</td>\n",
       "      <td>11</td>\n",
       "      <td>211</td>\n",
       "      <td></td>\n",
       "      <td>Health and Mental Health</td>\n",
       "      <td>Hospitals and Medical Centers</td>\n",
       "      <td>Respiratory Hospital</td>\n",
       "      <td></td>\n",
       "      <td>Barlow Respiratory Hospital - Los Angeles (Mai...</td>\n",
       "      <td>2000 Stadium Way</td>\n",
       "      <td>...</td>\n",
       "      <td>http://egis3.lacounty.gov/lms/?p=561</td>\n",
       "      <td>publish</td>\n",
       "      <td>34.075693</td>\n",
       "      <td>-118.248312</td>\n",
       "      <td>2016-01-21</td>\n",
       "      <td></td>\n",
       "      <td></td>\n",
       "      <td>6.486475e+06</td>\n",
       "      <td>1.850019e+06</td>\n",
       "      <td>{\"x\": -13163341.837440426, \"y\": 4038970.237345...</td>\n",
       "    </tr>\n",
       "    <tr>\n",
       "      <th>29</th>\n",
       "      <td>30</td>\n",
       "      <td>165</td>\n",
       "      <td>211</td>\n",
       "      <td></td>\n",
       "      <td>Health and Mental Health</td>\n",
       "      <td>Hospitals and Medical Centers</td>\n",
       "      <td>Respiratory Hospital</td>\n",
       "      <td></td>\n",
       "      <td>Barlow Respiratory Hospital At Presbyterian In...</td>\n",
       "      <td>12401 Washington Blvd.</td>\n",
       "      <td>...</td>\n",
       "      <td>http://egis3.lacounty.gov/lms/?p=631</td>\n",
       "      <td>publish</td>\n",
       "      <td>33.969794</td>\n",
       "      <td>-118.049360</td>\n",
       "      <td>2016-01-21</td>\n",
       "      <td></td>\n",
       "      <td></td>\n",
       "      <td>6.546704e+06</td>\n",
       "      <td>1.811391e+06</td>\n",
       "      <td>{\"x\": -13141194.627699371, \"y\": 4024746.762346...</td>\n",
       "    </tr>\n",
       "    <tr>\n",
       "      <th>31</th>\n",
       "      <td>32</td>\n",
       "      <td>179</td>\n",
       "      <td>211</td>\n",
       "      <td></td>\n",
       "      <td>Health and Mental Health</td>\n",
       "      <td>Hospitals and Medical Centers</td>\n",
       "      <td>Respiratory Hospital</td>\n",
       "      <td>Barlow Respiratory Hospital</td>\n",
       "      <td>Barlow Hospital At Valley Presbyterian Hospital</td>\n",
       "      <td>15107 Vanowen Blvd.</td>\n",
       "      <td>...</td>\n",
       "      <td>http://egis3.lacounty.gov/lms/?p=636</td>\n",
       "      <td>publish</td>\n",
       "      <td>34.194280</td>\n",
       "      <td>-118.462724</td>\n",
       "      <td>2016-01-21</td>\n",
       "      <td></td>\n",
       "      <td></td>\n",
       "      <td>6.421744e+06</td>\n",
       "      <td>1.893405e+06</td>\n",
       "      <td>{\"x\": -13187210.120986883, \"y\": 4054918.981507...</td>\n",
       "    </tr>\n",
       "    <tr>\n",
       "      <th>89</th>\n",
       "      <td>90</td>\n",
       "      <td>1414</td>\n",
       "      <td>211</td>\n",
       "      <td></td>\n",
       "      <td>Health and Mental Health</td>\n",
       "      <td>Hospitals and Medical Centers</td>\n",
       "      <td>Respiratory Hospital</td>\n",
       "      <td>Centinela Hospital Medical Center</td>\n",
       "      <td>Centinela Hospital Medical Center</td>\n",
       "      <td>555 E. Hardy St.</td>\n",
       "      <td>...</td>\n",
       "      <td>http://egis3.lacounty.gov/lms/?p=1312</td>\n",
       "      <td>publish</td>\n",
       "      <td>33.950783</td>\n",
       "      <td>-118.348257</td>\n",
       "      <td>2016-01-21</td>\n",
       "      <td></td>\n",
       "      <td></td>\n",
       "      <td>6.456051e+06</td>\n",
       "      <td>1.804652e+06</td>\n",
       "      <td>{\"x\": -13174467.73399719, \"y\": 4022195.2538241...</td>\n",
       "    </tr>\n",
       "  </tbody>\n",
       "</table>\n",
       "<p>4 rows × 31 columns</p>\n",
       "</div>"
      ],
      "text/plain": [
       "    FID  OBJECTID source ext_id                      cat1  \\\n",
       "1     2        11    211         Health and Mental Health   \n",
       "29   30       165    211         Health and Mental Health   \n",
       "31   32       179    211         Health and Mental Health   \n",
       "89   90      1414    211         Health and Mental Health   \n",
       "\n",
       "                             cat2                  cat3  \\\n",
       "1   Hospitals and Medical Centers  Respiratory Hospital   \n",
       "29  Hospitals and Medical Centers  Respiratory Hospital   \n",
       "31  Hospitals and Medical Centers  Respiratory Hospital   \n",
       "89  Hospitals and Medical Centers  Respiratory Hospital   \n",
       "\n",
       "                             org_name  \\\n",
       "1                                       \n",
       "29                                      \n",
       "31        Barlow Respiratory Hospital   \n",
       "89  Centinela Hospital Medical Center   \n",
       "\n",
       "                                                 Name                 addrln1  \\\n",
       "1   Barlow Respiratory Hospital - Los Angeles (Mai...        2000 Stadium Way   \n",
       "29  Barlow Respiratory Hospital At Presbyterian In...  12401 Washington Blvd.   \n",
       "31    Barlow Hospital At Valley Presbyterian Hospital     15107 Vanowen Blvd.   \n",
       "89                  Centinela Hospital Medical Center        555 E. Hardy St.   \n",
       "\n",
       "    ...                                   link use_type   latitude  \\\n",
       "1   ...   http://egis3.lacounty.gov/lms/?p=561  publish  34.075693   \n",
       "29  ...   http://egis3.lacounty.gov/lms/?p=631  publish  33.969794   \n",
       "31  ...   http://egis3.lacounty.gov/lms/?p=636  publish  34.194280   \n",
       "89  ...  http://egis3.lacounty.gov/lms/?p=1312  publish  33.950783   \n",
       "\n",
       "     longitude date_updat email dis_status       POINT_X       POINT_Y  \\\n",
       "1  -118.248312 2016-01-21                   6.486475e+06  1.850019e+06   \n",
       "29 -118.049360 2016-01-21                   6.546704e+06  1.811391e+06   \n",
       "31 -118.462724 2016-01-21                   6.421744e+06  1.893405e+06   \n",
       "89 -118.348257 2016-01-21                   6.456051e+06  1.804652e+06   \n",
       "\n",
       "                                                SHAPE  \n",
       "1   {\"x\": -13163341.837440426, \"y\": 4038970.237345...  \n",
       "29  {\"x\": -13141194.627699371, \"y\": 4024746.762346...  \n",
       "31  {\"x\": -13187210.120986883, \"y\": 4054918.981507...  \n",
       "89  {\"x\": -13174467.73399719, \"y\": 4022195.2538241...  \n",
       "\n",
       "[4 rows x 31 columns]"
      ]
     },
     "execution_count": 94,
     "metadata": {},
     "output_type": "execute_result"
    }
   ],
   "source": [
    "hospitalLayerDF_Filtered_df = hospitalLayerDF.query(\"cat3 == 'Respiratory Hospital'\")\n",
    "hospitalLayerDF_Filtered_df"
   ]
  },
  {
   "cell_type": "code",
   "execution_count": 95,
   "metadata": {},
   "outputs": [
    {
     "name": "stderr",
     "output_type": "stream",
     "text": [
      "/opt/conda/lib/python3.9/site-packages/pandas/core/indexing.py:1817: SettingWithCopyWarning: \n",
      "A value is trying to be set on a copy of a slice from a DataFrame.\n",
      "Try using .loc[row_indexer,col_indexer] = value instead\n",
      "\n",
      "See the caveats in the documentation: https://pandas.pydata.org/pandas-docs/stable/user_guide/indexing.html#returning-a-view-versus-a-copy\n",
      "  self._setitem_single_column(loc, value, pi)\n"
     ]
    },
    {
     "data": {
      "text/html": [
       "<div class=\"item_container\" style=\"height: auto; overflow: hidden; border: 1px solid #cfcfcf; border-radius: 2px; background: #f6fafa; line-height: 1.21429em; padding: 10px;\">\n",
       "                    <div class=\"item_left\" style=\"width: 210px; float: left;\">\n",
       "                       <a href='https://www.arcgis.com/home/item.html?id=cd9f699d6ca04bb1a679101c70b0d3c4' target='_blank'>\n",
       "                        <img src='http://static.arcgis.com/images/desktopapp.png' class=\"itemThumbnail\">\n",
       "                       </a>\n",
       "                    </div>\n",
       "\n",
       "                    <div class=\"item_right\"     style=\"float: none; width: auto; overflow: hidden;\">\n",
       "                        <a href='https://www.arcgis.com/home/item.html?id=cd9f699d6ca04bb1a679101c70b0d3c4' target='_blank'><b>hospitals</b>\n",
       "                        </a>\n",
       "                        <br/><img src='https://www.arcgis.com/home/js/jsapi/esri/css/images/item_type_icons/featureshosted16.png' style=\"vertical-align:middle;\">Feature Layer Collection by david.marcucci\n",
       "                        <br/>Last Modified: December 09, 2022\n",
       "                        <br/>0 comments, 0 views\n",
       "                    </div>\n",
       "                </div>\n",
       "                "
      ],
      "text/plain": [
       "<Item title:\"hospitals\" type:Feature Layer Collection owner:david.marcucci>"
      ]
     },
     "execution_count": 95,
     "metadata": {},
     "output_type": "execute_result"
    }
   ],
   "source": [
    "hospitalLayerDF_Filtered_df_FilteredLayer = hospitalLayerDF_Filtered_df.spatial.to_featurelayer(title='hospitals',tags=['cal_fire'])\n",
    "hospitalLayerDF_Filtered_df_FilteredLayer"
   ]
  },
  {
   "cell_type": "code",
   "execution_count": 96,
   "metadata": {},
   "outputs": [
    {
     "data": {
      "text/html": [
       "<div class=\"item_container\" style=\"height: auto; overflow: hidden; border: 1px solid #cfcfcf; border-radius: 2px; background: #f6fafa; line-height: 1.21429em; padding: 10px;\">\n",
       "                    <div class=\"item_left\" style=\"width: 210px; float: left;\">\n",
       "                       <a href='https://www.arcgis.com/home/item.html?id=4ffddb50e29a4239a962961578373ad7' target='_blank'>\n",
       "                        <img src='http://static.arcgis.com/images/desktopapp.png' class=\"itemThumbnail\">\n",
       "                       </a>\n",
       "                    </div>\n",
       "\n",
       "                    <div class=\"item_right\"     style=\"float: none; width: auto; overflow: hidden;\">\n",
       "                        <a href='https://www.arcgis.com/home/item.html?id=4ffddb50e29a4239a962961578373ad7' target='_blank'><b>hospitals</b>\n",
       "                        </a>\n",
       "                        <br/><img src='https://www.arcgis.com/home/js/jsapi/esri/css/images/item_type_icons/featureshosted16.png' style=\"vertical-align:middle;\">Feature Layer Collection by david.marcucci\n",
       "                        <br/>Last Modified: December 08, 2022\n",
       "                        <br/>0 comments, 10 views\n",
       "                    </div>\n",
       "                </div>\n",
       "                "
      ],
      "text/plain": [
       "<Item title:\"hospitals\" type:Feature Layer Collection owner:david.marcucci>"
      ]
     },
     "execution_count": 96,
     "metadata": {},
     "output_type": "execute_result"
    }
   ],
   "source": [
    "# Item Added From Toolbar\n",
    "# Title: hospitals | Type: Feature Service | Owner: mohammad-abdul-muneer-mogni.shaik\n",
    "hospitalLayerDF_Filtered_df_FilteredLayer = gis.content.get(\"4ffddb50e29a4239a962961578373ad7\")\n",
    "hospitalLayerDF_Filtered_df_FilteredLayer"
   ]
  },
  {
   "cell_type": "markdown",
   "metadata": {},
   "source": [
    "## ADDING ALL LAYERS IN LOS ANGELES MAP:"
   ]
  },
  {
   "cell_type": "code",
   "execution_count": 97,
   "metadata": {},
   "outputs": [
    {
     "data": {
      "application/vnd.jupyter.widget-view+json": {
       "model_id": "605f2f282bc041a29c43078c1b783de8",
       "version_major": 2,
       "version_minor": 0
      },
      "text/plain": [
       "MapView(layout=Layout(height='400px', width='100%'))"
      ]
     },
     "metadata": {},
     "output_type": "display_data"
    },
    {
     "data": {
      "text/html": [
       "<div class=\"map-static-img-preview-5647310d-5e7d-4398-b24c-0b86a83c036e\"><img src=\"\"></img></div>"
      ],
      "text/plain": [
       "<IPython.core.display.HTML object>"
      ]
     },
     "metadata": {},
     "output_type": "display_data"
    },
    {
     "data": {
      "text/html": [
       "<div class=\"map-html-embed-preview-5647310d-5e7d-4398-b24c-0b86a83c036e\"></div>"
      ],
      "text/plain": [
       "<IPython.core.display.HTML object>"
      ]
     },
     "metadata": {},
     "output_type": "display_data"
    }
   ],
   "source": [
    "map5 = gis.map('Los Angeles, CA', zoomlevel=9)\n",
    "map5"
   ]
  },
  {
   "cell_type": "code",
   "execution_count": 98,
   "metadata": {},
   "outputs": [],
   "source": [
    "map5.add_layer(interpolated_asthma)\n",
    "map5.add_layer(interpolated_calf_annual)\n",
    "map5.add_layer(hospitalLayerDF_Filtered_df_FilteredLayer)"
   ]
  },
  {
   "cell_type": "markdown",
   "metadata": {},
   "source": [
    "##### Create a Webmap"
   ]
  },
  {
   "cell_type": "code",
   "execution_count": 109,
   "metadata": {},
   "outputs": [
    {
     "data": {
      "text/html": [
       "<div class=\"item_container\" style=\"height: auto; overflow: hidden; border: 1px solid #cfcfcf; border-radius: 2px; background: #f6fafa; line-height: 1.21429em; padding: 10px;\">\n",
       "                    <div class=\"item_left\" style=\"width: 210px; float: left;\">\n",
       "                       <a href='https://www.arcgis.com/home/item.html?id=ac12d8b24b41450583961105888de241' target='_blank'>\n",
       "                        <img src='http://static.arcgis.com/images/desktopapp.png' class=\"itemThumbnail\">\n",
       "                       </a>\n",
       "                    </div>\n",
       "\n",
       "                    <div class=\"item_right\"     style=\"float: none; width: auto; overflow: hidden;\">\n",
       "                        <a href='https://www.arcgis.com/home/item.html?id=ac12d8b24b41450583961105888de241' target='_blank'><b>LA</b>\n",
       "                        </a>\n",
       "                        <br/>Health_LA<img src='https://www.arcgis.com/home/js/jsapi/esri/css/images/item_type_icons/maps16.png' style=\"vertical-align:middle;\">Web Map by david.marcucci\n",
       "                        <br/>Last Modified: December 09, 2022\n",
       "                        <br/>0 comments, 0 views\n",
       "                    </div>\n",
       "                </div>\n",
       "                "
      ],
      "text/plain": [
       "<Item title:\"LA\" type:Web Map owner:david.marcucci>"
      ]
     },
     "execution_count": 109,
     "metadata": {},
     "output_type": "execute_result"
    }
   ],
   "source": [
    "webmap_properties= {'title': 'LA', 'snippet': 'Health_LA', 'tags':['Los Angeles, CA', 'Asthma']}\n",
    "map5.save(webmap_properties)"
   ]
  },
  {
   "cell_type": "markdown",
   "metadata": {},
   "source": [
    "## Works Cited\n",
    "\n",
    "California Air Quality index (AQI) and USA Air Pollution. IQAir. (n.d.). Retrieved December 4, 2022, from https://www.iqair.com/us/usa/california\n",
    "\n",
    "California Air Resources Board. Inhalable Particulate Matter and Health (PM2.5 and PM10) | California Air Resources Board. (n.d.). Retrieved December 5, 2022, from https://ww2.arb.ca.gov/resources/inhalable-particulate-matter-and-health \n",
    "\n",
    "Centers for Disease Control and Prevention. (n.d.). National Environmental Public Health Tracking Network - CDC - Info by location external. Centers for Disease Control and Prevention. Retrieved December 4, 2022, from https://ephtracking.cdc.gov/showInfoByLocationExt/?&FIPS=06037\n",
    "\n",
    "Chankaew K, Sinitkul R, Manuyakorn W, Roekworachai K, Kamalaporn H. Spatial Estimation of PM2.5 Exposure and its Association with Asthma Exacerbation: A Prospective Study in Thai Children. Ann Glob Health. 2022 Mar 8;88(1):15. doi: 10.5334/aogh.3513. PMID: 35433288; PMCID: PMC8916056.\n",
    "\n",
    "Environmental Protection Agency. (n.d.). Why Wildfire Smoke is a Health Concern. EPA. Retrieved December 4, 2022, from https://www.epa.gov/wildfire-smoke-course/why-wildfire-smoke-health-concern\n",
    "\n",
    "McClure, C. D., & Jaffe, D. A. (2018). US particulate matter air quality improves except in wildfire-prone areas. Proceedings of the National Academy of Sciences, 115(31), 7901–7906. https://doi.org/10.1073/pnas.1804353115"
   ]
  }
 ],
 "metadata": {
  "esriNotebookRuntime": {
   "notebookRuntimeName": "ArcGIS Notebook Python 3 Advanced",
   "notebookRuntimeVersion": "7.0"
  },
  "kernelspec": {
   "display_name": "Python 3 (ipykernel)",
   "language": "python",
   "name": "python3"
  },
  "language_info": {
   "codemirror_mode": {
    "name": "ipython",
    "version": 3
   },
   "file_extension": ".py",
   "mimetype": "text/x-python",
   "name": "python",
   "nbconvert_exporter": "python",
   "pygments_lexer": "ipython3",
   "version": "3.9.11"
  }
 },
 "nbformat": 4,
 "nbformat_minor": 2
}
